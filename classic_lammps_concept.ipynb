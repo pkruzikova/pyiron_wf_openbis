{
 "cells": [
  {
   "cell_type": "code",
   "execution_count": 1,
   "id": "4bdacdfe-9eb6-4993-9526-ebb9f0a09a18",
   "metadata": {},
   "outputs": [
    {
     "name": "stderr",
     "output_type": "stream",
     "text": [
      "2024-10-31 15:15:50,055 - pyiron_log - WARNING - pyiron found a 'dynamic' folder in the C:/Users/pkruziko/pyiron/resources resource directory. These are no longer supported in pyiron_base >=0.7.0. They are replaced by Project.create_job_class() and Project.wrap_python_function().\n",
      "2024-10-31 15:15:50,057 - pyiron_log - WARNING - pyiron found a 'templates' folder in the C:/Users/pkruziko/pyiron/resources resource directory. These are no longer supported in pyiron_base >=0.7.0. They are replaced by Project.create_job_class() and Project.wrap_python_function().\n"
     ]
    },
    {
     "data": {
      "application/vnd.jupyter.widget-view+json": {
       "model_id": "d3227b5dcad74decadcae9357dc781e4",
       "version_major": 2,
       "version_minor": 0
      },
      "text/plain": []
     },
     "metadata": {},
     "output_type": "display_data"
    }
   ],
   "source": [
    "from pyiron_atomistics import Project"
   ]
  },
  {
   "cell_type": "code",
   "execution_count": 2,
   "id": "86d0b052-c100-44b2-82ca-09784e1557fa",
   "metadata": {},
   "outputs": [],
   "source": [
    "# project\n",
    "\n",
    "pr = Project(\"test_classic\")"
   ]
  },
  {
   "cell_type": "code",
   "execution_count": 3,
   "id": "b47a0545-e84e-46f2-9445-ea9a5bbc05b8",
   "metadata": {},
   "outputs": [
    {
     "data": {
      "application/vnd.jupyter.widget-view+json": {
       "model_id": "6530b1dda051427da9812d69f2b558bc",
       "version_major": 2,
       "version_minor": 0
      },
      "text/plain": [
       "NGLWidget()"
      ]
     },
     "metadata": {},
     "output_type": "display_data"
    }
   ],
   "source": [
    "# structure\n",
    "\n",
    "structure = pr.create.structure.bulk(\"Fe\", cubic=True, a=2.845)\n",
    "structure.plot3d()"
   ]
  },
  {
   "cell_type": "code",
   "execution_count": 4,
   "id": "1305ec9f-7ad1-4edc-8dec-1620e1c7adfa",
   "metadata": {},
   "outputs": [
    {
     "name": "stderr",
     "output_type": "stream",
     "text": [
      "C:\\Users\\pkruziko\\Miniconda3\\envs\\pyiron_wf_dev\\Lib\\site-packages\\pyiron_atomistics\\lammps\\interactive.py:302: UserWarning: f_tol is deprecated as of vers. 0.3.0. It is not guaranteed to be in service in vers. 0.4.0. Use ionic_force_tolerance instead.\n",
      "  warnings.warn(\n"
     ]
    },
    {
     "name": "stdout",
     "output_type": "stream",
     "text": [
      "The job test_lmp_classic was saved and received the ID: 164\n"
     ]
    }
   ],
   "source": [
    "# lammps minimise job\n",
    "\n",
    "job = pr.create.job.Lammps(\"test_lmp_classic\", delete_existing_job=True)\n",
    "job.structure = structure\n",
    "job.potential = job.list_potentials()[68]\n",
    "job.calc_minimize(f_tol=1e-8, style=\"fire\")\n",
    "job.run()"
   ]
  },
  {
   "cell_type": "code",
   "execution_count": 5,
   "id": "5c021d57-f20a-4ac4-a8f5-197bcf12974b",
   "metadata": {},
   "outputs": [
    {
     "data": {
      "text/html": [
       "<div>\n",
       "<style scoped>\n",
       "    .dataframe tbody tr th:only-of-type {\n",
       "        vertical-align: middle;\n",
       "    }\n",
       "\n",
       "    .dataframe tbody tr th {\n",
       "        vertical-align: top;\n",
       "    }\n",
       "\n",
       "    .dataframe thead th {\n",
       "        text-align: right;\n",
       "    }\n",
       "</style>\n",
       "<table border=\"1\" class=\"dataframe\">\n",
       "  <thead>\n",
       "    <tr style=\"text-align: right;\">\n",
       "      <th></th>\n",
       "      <th>id</th>\n",
       "      <th>status</th>\n",
       "      <th>chemicalformula</th>\n",
       "      <th>job</th>\n",
       "      <th>subjob</th>\n",
       "      <th>projectpath</th>\n",
       "      <th>project</th>\n",
       "      <th>timestart</th>\n",
       "      <th>timestop</th>\n",
       "      <th>totalcputime</th>\n",
       "      <th>computer</th>\n",
       "      <th>hamilton</th>\n",
       "      <th>hamversion</th>\n",
       "      <th>parentid</th>\n",
       "      <th>masterid</th>\n",
       "    </tr>\n",
       "  </thead>\n",
       "  <tbody>\n",
       "    <tr>\n",
       "      <th>0</th>\n",
       "      <td>136</td>\n",
       "      <td>finished</td>\n",
       "      <td>Fe2</td>\n",
       "      <td>test_murn_classic</td>\n",
       "      <td>/test_murn_classic</td>\n",
       "      <td>None</td>\n",
       "      <td>C:/Users/pkruziko/Documents/pyiron/pyiron_wf_openbis/test_classic/</td>\n",
       "      <td>2024-10-31 15:02:55.826386</td>\n",
       "      <td>2024-10-31 15:03:03.863460</td>\n",
       "      <td>8.0</td>\n",
       "      <td>pyiron@NB4267#1#7/7</td>\n",
       "      <td>Murnaghan</td>\n",
       "      <td>0.3.0</td>\n",
       "      <td>None</td>\n",
       "      <td>NaN</td>\n",
       "    </tr>\n",
       "    <tr>\n",
       "      <th>1</th>\n",
       "      <td>137</td>\n",
       "      <td>finished</td>\n",
       "      <td>Fe2</td>\n",
       "      <td>test_murn_classic_0_95</td>\n",
       "      <td>/test_murn_classic_0_95</td>\n",
       "      <td>None</td>\n",
       "      <td>C:/Users/pkruziko/Documents/pyiron/pyiron_wf_openbis/test_classic/test_murn_classic_hdf5/</td>\n",
       "      <td>2024-10-31 15:02:57.288123</td>\n",
       "      <td>2024-10-31 15:02:57.755360</td>\n",
       "      <td>0.0</td>\n",
       "      <td>pyiron@NB4267#1</td>\n",
       "      <td>Lammps</td>\n",
       "      <td>0.1</td>\n",
       "      <td>None</td>\n",
       "      <td>136.0</td>\n",
       "    </tr>\n",
       "    <tr>\n",
       "      <th>2</th>\n",
       "      <td>138</td>\n",
       "      <td>finished</td>\n",
       "      <td>Fe2</td>\n",
       "      <td>test_murn_classic_0_9666667</td>\n",
       "      <td>/test_murn_classic_0_9666667</td>\n",
       "      <td>None</td>\n",
       "      <td>C:/Users/pkruziko/Documents/pyiron/pyiron_wf_openbis/test_classic/test_murn_classic_hdf5/</td>\n",
       "      <td>2024-10-31 15:02:58.088566</td>\n",
       "      <td>2024-10-31 15:02:58.682866</td>\n",
       "      <td>0.0</td>\n",
       "      <td>pyiron@NB4267#1</td>\n",
       "      <td>Lammps</td>\n",
       "      <td>0.1</td>\n",
       "      <td>None</td>\n",
       "      <td>136.0</td>\n",
       "    </tr>\n",
       "    <tr>\n",
       "      <th>3</th>\n",
       "      <td>139</td>\n",
       "      <td>finished</td>\n",
       "      <td>Fe2</td>\n",
       "      <td>test_murn_classic_0_9833333</td>\n",
       "      <td>/test_murn_classic_0_9833333</td>\n",
       "      <td>None</td>\n",
       "      <td>C:/Users/pkruziko/Documents/pyiron/pyiron_wf_openbis/test_classic/test_murn_classic_hdf5/</td>\n",
       "      <td>2024-10-31 15:02:59.049516</td>\n",
       "      <td>2024-10-31 15:02:59.634073</td>\n",
       "      <td>0.0</td>\n",
       "      <td>pyiron@NB4267#1</td>\n",
       "      <td>Lammps</td>\n",
       "      <td>0.1</td>\n",
       "      <td>None</td>\n",
       "      <td>136.0</td>\n",
       "    </tr>\n",
       "    <tr>\n",
       "      <th>4</th>\n",
       "      <td>140</td>\n",
       "      <td>finished</td>\n",
       "      <td>Fe2</td>\n",
       "      <td>test_murn_classic_1_0</td>\n",
       "      <td>/test_murn_classic_1_0</td>\n",
       "      <td>None</td>\n",
       "      <td>C:/Users/pkruziko/Documents/pyiron/pyiron_wf_openbis/test_classic/test_murn_classic_hdf5/</td>\n",
       "      <td>2024-10-31 15:02:59.989603</td>\n",
       "      <td>2024-10-31 15:03:00.613537</td>\n",
       "      <td>0.0</td>\n",
       "      <td>pyiron@NB4267#1</td>\n",
       "      <td>Lammps</td>\n",
       "      <td>0.1</td>\n",
       "      <td>None</td>\n",
       "      <td>136.0</td>\n",
       "    </tr>\n",
       "    <tr>\n",
       "      <th>5</th>\n",
       "      <td>141</td>\n",
       "      <td>finished</td>\n",
       "      <td>Fe2</td>\n",
       "      <td>test_murn_classic_1_0166667</td>\n",
       "      <td>/test_murn_classic_1_0166667</td>\n",
       "      <td>None</td>\n",
       "      <td>C:/Users/pkruziko/Documents/pyiron/pyiron_wf_openbis/test_classic/test_murn_classic_hdf5/</td>\n",
       "      <td>2024-10-31 15:03:00.976287</td>\n",
       "      <td>2024-10-31 15:03:01.546057</td>\n",
       "      <td>0.0</td>\n",
       "      <td>pyiron@NB4267#1</td>\n",
       "      <td>Lammps</td>\n",
       "      <td>0.1</td>\n",
       "      <td>None</td>\n",
       "      <td>136.0</td>\n",
       "    </tr>\n",
       "    <tr>\n",
       "      <th>6</th>\n",
       "      <td>142</td>\n",
       "      <td>finished</td>\n",
       "      <td>Fe2</td>\n",
       "      <td>test_murn_classic_1_0333333</td>\n",
       "      <td>/test_murn_classic_1_0333333</td>\n",
       "      <td>None</td>\n",
       "      <td>C:/Users/pkruziko/Documents/pyiron/pyiron_wf_openbis/test_classic/test_murn_classic_hdf5/</td>\n",
       "      <td>2024-10-31 15:03:01.879475</td>\n",
       "      <td>2024-10-31 15:03:02.374440</td>\n",
       "      <td>0.0</td>\n",
       "      <td>pyiron@NB4267#1</td>\n",
       "      <td>Lammps</td>\n",
       "      <td>0.1</td>\n",
       "      <td>None</td>\n",
       "      <td>136.0</td>\n",
       "    </tr>\n",
       "    <tr>\n",
       "      <th>7</th>\n",
       "      <td>143</td>\n",
       "      <td>finished</td>\n",
       "      <td>Fe2</td>\n",
       "      <td>test_murn_classic_1_05</td>\n",
       "      <td>/test_murn_classic_1_05</td>\n",
       "      <td>None</td>\n",
       "      <td>C:/Users/pkruziko/Documents/pyiron/pyiron_wf_openbis/test_classic/test_murn_classic_hdf5/</td>\n",
       "      <td>2024-10-31 15:03:02.767967</td>\n",
       "      <td>2024-10-31 15:03:03.358406</td>\n",
       "      <td>0.0</td>\n",
       "      <td>pyiron@NB4267#1</td>\n",
       "      <td>Lammps</td>\n",
       "      <td>0.1</td>\n",
       "      <td>None</td>\n",
       "      <td>136.0</td>\n",
       "    </tr>\n",
       "    <tr>\n",
       "      <th>8</th>\n",
       "      <td>164</td>\n",
       "      <td>finished</td>\n",
       "      <td>Fe2</td>\n",
       "      <td>test_lmp_classic</td>\n",
       "      <td>/test_lmp_classic</td>\n",
       "      <td>None</td>\n",
       "      <td>C:/Users/pkruziko/Documents/pyiron/pyiron_wf_openbis/test_classic/</td>\n",
       "      <td>2024-10-31 15:16:01.144967</td>\n",
       "      <td>2024-10-31 15:16:01.870346</td>\n",
       "      <td>0.0</td>\n",
       "      <td>pyiron@NB4267#1</td>\n",
       "      <td>Lammps</td>\n",
       "      <td>0.1</td>\n",
       "      <td>None</td>\n",
       "      <td>NaN</td>\n",
       "    </tr>\n",
       "  </tbody>\n",
       "</table>\n",
       "</div>"
      ],
      "text/plain": [
       "    id    status chemicalformula                          job  \\\n",
       "0  136  finished             Fe2            test_murn_classic   \n",
       "1  137  finished             Fe2       test_murn_classic_0_95   \n",
       "2  138  finished             Fe2  test_murn_classic_0_9666667   \n",
       "3  139  finished             Fe2  test_murn_classic_0_9833333   \n",
       "4  140  finished             Fe2        test_murn_classic_1_0   \n",
       "5  141  finished             Fe2  test_murn_classic_1_0166667   \n",
       "6  142  finished             Fe2  test_murn_classic_1_0333333   \n",
       "7  143  finished             Fe2       test_murn_classic_1_05   \n",
       "8  164  finished             Fe2             test_lmp_classic   \n",
       "\n",
       "                         subjob projectpath  \\\n",
       "0            /test_murn_classic        None   \n",
       "1       /test_murn_classic_0_95        None   \n",
       "2  /test_murn_classic_0_9666667        None   \n",
       "3  /test_murn_classic_0_9833333        None   \n",
       "4        /test_murn_classic_1_0        None   \n",
       "5  /test_murn_classic_1_0166667        None   \n",
       "6  /test_murn_classic_1_0333333        None   \n",
       "7       /test_murn_classic_1_05        None   \n",
       "8             /test_lmp_classic        None   \n",
       "\n",
       "                                                                                     project  \\\n",
       "0                         C:/Users/pkruziko/Documents/pyiron/pyiron_wf_openbis/test_classic/   \n",
       "1  C:/Users/pkruziko/Documents/pyiron/pyiron_wf_openbis/test_classic/test_murn_classic_hdf5/   \n",
       "2  C:/Users/pkruziko/Documents/pyiron/pyiron_wf_openbis/test_classic/test_murn_classic_hdf5/   \n",
       "3  C:/Users/pkruziko/Documents/pyiron/pyiron_wf_openbis/test_classic/test_murn_classic_hdf5/   \n",
       "4  C:/Users/pkruziko/Documents/pyiron/pyiron_wf_openbis/test_classic/test_murn_classic_hdf5/   \n",
       "5  C:/Users/pkruziko/Documents/pyiron/pyiron_wf_openbis/test_classic/test_murn_classic_hdf5/   \n",
       "6  C:/Users/pkruziko/Documents/pyiron/pyiron_wf_openbis/test_classic/test_murn_classic_hdf5/   \n",
       "7  C:/Users/pkruziko/Documents/pyiron/pyiron_wf_openbis/test_classic/test_murn_classic_hdf5/   \n",
       "8                         C:/Users/pkruziko/Documents/pyiron/pyiron_wf_openbis/test_classic/   \n",
       "\n",
       "                   timestart                   timestop  totalcputime  \\\n",
       "0 2024-10-31 15:02:55.826386 2024-10-31 15:03:03.863460           8.0   \n",
       "1 2024-10-31 15:02:57.288123 2024-10-31 15:02:57.755360           0.0   \n",
       "2 2024-10-31 15:02:58.088566 2024-10-31 15:02:58.682866           0.0   \n",
       "3 2024-10-31 15:02:59.049516 2024-10-31 15:02:59.634073           0.0   \n",
       "4 2024-10-31 15:02:59.989603 2024-10-31 15:03:00.613537           0.0   \n",
       "5 2024-10-31 15:03:00.976287 2024-10-31 15:03:01.546057           0.0   \n",
       "6 2024-10-31 15:03:01.879475 2024-10-31 15:03:02.374440           0.0   \n",
       "7 2024-10-31 15:03:02.767967 2024-10-31 15:03:03.358406           0.0   \n",
       "8 2024-10-31 15:16:01.144967 2024-10-31 15:16:01.870346           0.0   \n",
       "\n",
       "              computer   hamilton hamversion parentid  masterid  \n",
       "0  pyiron@NB4267#1#7/7  Murnaghan      0.3.0     None       NaN  \n",
       "1      pyiron@NB4267#1     Lammps        0.1     None     136.0  \n",
       "2      pyiron@NB4267#1     Lammps        0.1     None     136.0  \n",
       "3      pyiron@NB4267#1     Lammps        0.1     None     136.0  \n",
       "4      pyiron@NB4267#1     Lammps        0.1     None     136.0  \n",
       "5      pyiron@NB4267#1     Lammps        0.1     None     136.0  \n",
       "6      pyiron@NB4267#1     Lammps        0.1     None     136.0  \n",
       "7      pyiron@NB4267#1     Lammps        0.1     None     136.0  \n",
       "8      pyiron@NB4267#1     Lammps        0.1     None       NaN  "
      ]
     },
     "execution_count": 5,
     "metadata": {},
     "output_type": "execute_result"
    }
   ],
   "source": [
    "pr.job_table()"
   ]
  },
  {
   "cell_type": "code",
   "execution_count": 6,
   "id": "55549abb-5721-44e4-a184-3534b6831e91",
   "metadata": {},
   "outputs": [],
   "source": [
    "from ob.openbis import openbis_login"
   ]
  },
  {
   "cell_type": "code",
   "execution_count": 7,
   "id": "3b6913ce-f8a2-49f2-8c99-e1ee58011abe",
   "metadata": {},
   "outputs": [
    {
     "name": "stdin",
     "output_type": "stream",
     "text": [
      "Enter openBIS password:  ········\n"
     ]
    }
   ],
   "source": [
    "o = openbis_login(\"https://test3.datastore.bam.de/\", \"pkruziko\")"
   ]
  },
  {
   "cell_type": "code",
   "execution_count": 8,
   "id": "11bb5bd1-7144-420a-9573-e0e4bfd19bc0",
   "metadata": {},
   "outputs": [],
   "source": [
    "from ob.classic import upload_classic_pyiron"
   ]
  },
  {
   "cell_type": "code",
   "execution_count": 9,
   "id": "8a868bc9-d578-4d93-a09b-282c13c71ef3",
   "metadata": {},
   "outputs": [
    {
     "name": "stdout",
     "output_type": "stream",
     "text": [
      "sample successfully created.\n",
      "DataSet successfully created.\n",
      "DataSet successfully created.\n",
      "sample successfully created.\n",
      "DataSet successfully created.\n",
      "DataSet successfully created.\n",
      "DataSet successfully created.\n",
      "WARNING: \"2024-10-31 15:16:01 +0100\" is not of any OpenBis supported datetime formats. Reformatting to \"2024-10-31 15:16:01\"\n",
      "sample successfully updated.\n"
     ]
    }
   ],
   "source": [
    "upload_classic_pyiron(pr, job, o, \"PKRUZIKO\", \"TEST\", \"TEST_CLASSIC_LAMMPS\")"
   ]
  },
  {
   "cell_type": "code",
   "execution_count": 10,
   "id": "89deb001-97e7-4bfb-8ff0-4abc37b534f0",
   "metadata": {},
   "outputs": [],
   "source": [
    "o.logout()"
   ]
  },
  {
   "cell_type": "code",
   "execution_count": null,
   "id": "1a101a6c-21ee-4f81-bc92-338bb5390b72",
   "metadata": {},
   "outputs": [],
   "source": []
  }
 ],
 "metadata": {
  "kernelspec": {
   "display_name": "Python 3 (ipykernel)",
   "language": "python",
   "name": "python3"
  },
  "language_info": {
   "codemirror_mode": {
    "name": "ipython",
    "version": 3
   },
   "file_extension": ".py",
   "mimetype": "text/x-python",
   "name": "python",
   "nbconvert_exporter": "python",
   "pygments_lexer": "ipython3",
   "version": "3.11.10"
  }
 },
 "nbformat": 4,
 "nbformat_minor": 5
}
