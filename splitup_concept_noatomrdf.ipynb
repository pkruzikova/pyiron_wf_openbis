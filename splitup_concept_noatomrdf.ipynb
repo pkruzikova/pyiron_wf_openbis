{
 "cells": [
  {
   "cell_type": "code",
   "execution_count": 1,
   "id": "1cf9e85d-dc9e-4ea7-bffe-e5a629ee813b",
   "metadata": {},
   "outputs": [],
   "source": [
    "from pyiron_workflow import Workflow\n",
    "from pyironflow.pyironflow import PyironFlow\n",
    "from typing import Optional"
   ]
  },
  {
   "cell_type": "code",
   "execution_count": 2,
   "id": "e0e631b0-bd86-4fa0-82f5-168481ef22b3",
   "metadata": {},
   "outputs": [],
   "source": [
    "from ob.openbis import openbis_login"
   ]
  },
  {
   "cell_type": "code",
   "execution_count": 3,
   "id": "7b176b5f-8171-4af9-9aca-dd8d4fc724b6",
   "metadata": {},
   "outputs": [
    {
     "name": "stdin",
     "output_type": "stream",
     "text": [
      "Enter openBIS password:  ········\n"
     ]
    }
   ],
   "source": [
    "o = openbis_login(\"https://test3.datastore.bam.de/\", \"pkruziko\")"
   ]
  },
  {
   "cell_type": "code",
   "execution_count": 4,
   "id": "8e556435-bc5e-493f-b305-1a93ae024d11",
   "metadata": {},
   "outputs": [],
   "source": [
    "@Workflow.wrap.as_function_node\n",
    "def CreateProject(pr_name:str):\n",
    "    from pyiron_atomistics import Project\n",
    "    pr = Project(pr_name)\n",
    "    return pr"
   ]
  },
  {
   "cell_type": "code",
   "execution_count": 5,
   "id": "663d6a84-7732-43ea-9429-ea4f2ab02092",
   "metadata": {},
   "outputs": [],
   "source": [
    "@Workflow.wrap.as_function_node\n",
    "def CreateStructure(pr, structure_name_prefix: str, element:str, bravais_lattice: Optional[str], a: Optional[float|int], c: Optional[float|int] = None, cubic:bool = False):\n",
    "    pr = pr\n",
    "    if bravais_lattice != 'hcp' and c == None:\n",
    "        structure = pr.create.structure.bulk(element, crystalstructure=bravais_lattice, cubic=cubic, a=a)\n",
    "    elif bravais_lattice == 'hcp' and c == None:\n",
    "        structure = pr.create.structure.bulk(element, crystalstructure=bravais_lattice, cubic=cubic, a=a)\n",
    "    else:\n",
    "        structure = pr.create.structure.bulk(element, crystalstructure=bravais_lattice, cubic=cubic, a=a, c=c)\n",
    "\n",
    "    from pyiron_base.storage.hdfio import FileHDFio\n",
    "    hdf = FileHDFio(pr.name + '/' + structure_name_prefix + '_input_structure.h5')\n",
    "    structure.to_hdf(hdf)\n",
    "    \n",
    "    return structure"
   ]
  },
  {
   "cell_type": "code",
   "execution_count": 6,
   "id": "3f604f02-c1a3-4dda-ac4f-5e2dccf60855",
   "metadata": {},
   "outputs": [],
   "source": [
    "@Workflow.wrap.as_function_node(\"View\")\n",
    "def VisualizeStructure(structure):\n",
    "    return structure.plot3d"
   ]
  },
  {
   "cell_type": "code",
   "execution_count": 7,
   "id": "190f10bf-4cf9-4ba4-8378-767e229d39b7",
   "metadata": {},
   "outputs": [],
   "source": [
    "@Workflow.wrap.as_function_node\n",
    "def LammpsCalcMinimize(pr, structure, job_name:str, pot_list_index: int, f_tol: float, min_style: str, del_ex_job: bool = False, is_child_job: bool = False):\n",
    "    job = pr.create.job.Lammps(job_name, delete_existing_job=del_ex_job)\n",
    "    job.structure = structure.copy()\n",
    "    job.potential = job.list_potentials()[pot_list_index]\n",
    "    job.calc_minimize(f_tol=f_tol, style=min_style)\n",
    "    job.run()\n",
    "\n",
    "    if not is_child_job:\n",
    "        import os\n",
    "        import platform\n",
    "        if \"Windows\" in platform.system():\n",
    "            os.system('conda env export | findstr /V \"^prefix: \" > ' + job.path + '_environment.yml')\n",
    "        else:\n",
    "            os.system('conda env export | grep -v \"^prefix: \" > ' + job.path + '_environment.yml')\n",
    "        \n",
    "        from pyiron_base.storage.hdfio import FileHDFio\n",
    "        hdf = FileHDFio(job.path + '_input_structure.h5')\n",
    "        job.structure.to_hdf(hdf)\n",
    "        \n",
    "    return job"
   ]
  },
  {
   "cell_type": "code",
   "execution_count": 8,
   "id": "849c459f-63a9-4cda-8d7c-332f03eeafb3",
   "metadata": {},
   "outputs": [],
   "source": [
    "@Workflow.wrap.as_function_node(\"object\")\n",
    "def LammpsJobOpenBIS(o, space:str, project:str, collection:str, job, separate_input_sample: bool = True):\n",
    "    from ob.concept_dict import process_lammps_job, process_structure_crystal\n",
    "    from ob.openbis import GenericLammpsJobObject, GenericCrystalObject\n",
    "    cdict = process_lammps_job(job)\n",
    "    struct_cdict = process_structure_crystal(job)\n",
    "\n",
    "    from IPython.display import display\n",
    "    if separate_input_sample == True:\n",
    "        s = GenericCrystalObject(o, space, project, collection, \"input\", struct_cdict)\n",
    "        j = GenericLammpsJobObject(o, space, project, collection, cdict, struct_cdict)\n",
    "        display(s)\n",
    "        display(j)\n",
    "    else:\n",
    "        j = GenericLammpsJobObject(o, space, project, collection, cdict)\n",
    "        display(j)\n",
    "\n",
    "    # openbis logout where ??\n",
    "            \n",
    "    return \"Done\""
   ]
  },
  {
   "cell_type": "code",
   "execution_count": 9,
   "id": "4db130ef-2241-4784-87f8-c80ca8c0c857",
   "metadata": {},
   "outputs": [],
   "source": [
    "wf = Workflow(\"test_wf\")\n",
    "\n",
    "wf.Project = CreateProject(\"test_complete\")\n",
    "wf.Structure = CreateStructure(pr=wf.Project, structure_name_prefix=\"\", element=\"Fe\", bravais_lattice=\"bcc\", a=2.845, cubic=True)\n",
    "wf.VisualizeStructure = VisualizeStructure(wf.Structure)\n",
    "#wf.SampleKG = SampleKG(wf.Project_KG_Element)\n",
    "wf.LammpsCalcMinimize = LammpsCalcMinimize(wf.Project, wf.Structure, \"test_lammps_gui\", 68, 1e-8, \"fire\", True, False)\n",
    "#wf.JobKG = JobKG(wf.Project_KG_Element, wf.LammpsCalcMinimize)\n",
    "wf.LammpsJobOpenBIS = LammpsJobOpenBIS(o, \"PKRUZIKO\", \"TEST\", \"TEST_EXP_1\", wf.LammpsCalcMinimize)"
   ]
  },
  {
   "cell_type": "code",
   "execution_count": 10,
   "id": "36b2b0c7-e4d2-4459-9a75-a766788cb0cd",
   "metadata": {
    "scrolled": true
   },
   "outputs": [
    {
     "name": "stderr",
     "output_type": "stream",
     "text": [
      "2024-10-24 11:31:20,665 - pyiron_log - WARNING - pyiron found a 'dynamic' folder in the C:/Users/pkruziko/pyiron/resources resource directory. These are no longer supported in pyiron_base >=0.7.0. They are replaced by Project.create_job_class() and Project.wrap_python_function().\n",
      "2024-10-24 11:31:20,666 - pyiron_log - WARNING - pyiron found a 'templates' folder in the C:/Users/pkruziko/pyiron/resources resource directory. These are no longer supported in pyiron_base >=0.7.0. They are replaced by Project.create_job_class() and Project.wrap_python_function().\n"
     ]
    },
    {
     "data": {
      "application/vnd.jupyter.widget-view+json": {
       "model_id": "f6027ad244ca4883b21785152c12e79d",
       "version_major": 2,
       "version_minor": 0
      },
      "text/plain": []
     },
     "metadata": {},
     "output_type": "display_data"
    },
    {
     "name": "stderr",
     "output_type": "stream",
     "text": [
      "C:\\Users\\pkruziko\\Miniconda3\\envs\\pyiron_wf_dev\\Lib\\site-packages\\pyiron_atomistics\\lammps\\interactive.py:302: UserWarning: f_tol is deprecated as of vers. 0.3.0. It is not guaranteed to be in service in vers. 0.4.0. Use ionic_force_tolerance instead.\n",
      "  warnings.warn(\n"
     ]
    },
    {
     "name": "stdout",
     "output_type": "stream",
     "text": [
      "The job test_lammps_gui was saved and received the ID: 21\n",
      "sample successfully created.\n",
      "DataSet successfully created.\n",
      "sample successfully created.\n",
      "DataSet successfully created.\n",
      "DataSet successfully created.\n",
      "DataSet successfully created.\n",
      "WARNING: \"2024-10-24 11:31:24 +0200\" is not of any OpenBis supported datetime formats. Reformatting to \"2024-10-24 11:31:24\"\n",
      "sample successfully updated.\n"
     ]
    },
    {
     "data": {
      "text/html": [
       "\n",
       "            <table border=\"1\" class=\"dataframe\">\n",
       "            <thead>\n",
       "                <tr style=\"text-align: right;\">\n",
       "                <th>property</th>\n",
       "                <th>value</th>\n",
       "                <th>description</th>\n",
       "                <th>type</th>\n",
       "                <th>mandatory</th>\n",
       "                </tr>\n",
       "            </thead>\n",
       "            <tbody>\n",
       "        <tr><td>$name</td><td>input_structure_test_lammps_gui</td><td>Name</td><td>VARCHAR</td><td>True</td></tr><tr><td>description</td><td><figure class=\"image image_resized image-style-align-left\" style=\"width:9%;\"><img src=\"/openbis/openbis/file-service/eln-lims/30/77/c8/3077c8f8-0e55-41e5-9021-7ed43863e5a4/cc44149e-b2d4-4850-9f88-7a4cd54c1a66.png\"></figure><p><br>Crystal structure generated using pyiron.<br>&nbsp;</p><p><span style=\"color:hsl(240,75%,60%);\"><strong>Scroll down below other properties to view conceptual dictionary with ontological ids of selected properties and values.</strong></span></p><p>The conceptual dictionary is in JSON-LD format. Learn more about it <a href=\"https://www.w3.org/ns/json-ld/\">here</a><br>&nbsp;</p></td><td>Short description and/or purpose//Kurzbeschreibung und/oder Zweck</td><td>MULTILINE_VARCHAR</td><td>False</td></tr><tr><td>workflow_manager</td><td>pyiron_atomistics=0.6.14, pyiron_workflow=0.11.0</td><td>Workflow manager//Workflow-Manager</td><td>VARCHAR</td><td>False</td></tr><tr><td>crystal_orientation</td><td></td><td>Miller indices//Millersche Indizes</td><td>VARCHAR</td><td>False</td></tr><tr><td>lattice_param_a_in_a</td><td></td><td>Lattice parameter (a) [Å]//Gitterparameter (a) [Å]</td><td>REAL</td><td>False</td></tr><tr><td>lattice_param_b_in_a</td><td></td><td>Lattice parameter (b) [Å]//Gitterparameter (b) [Å]</td><td>REAL</td><td>False</td></tr><tr><td>lattice_param_c_in_a</td><td></td><td>Lattice parameter (c) [Å]//Gitterparameter (c) [Å]</td><td>REAL</td><td>False</td></tr><tr><td>lattice_c_over_a</td><td></td><td>Lattice parameter (c over a)//Gitterparameter (c über a)</td><td>REAL</td><td>False</td></tr><tr><td>lattice_angalpha_in_deg</td><td></td><td>Lattice angle (alpha) [Degrees]//Gitterwinkel (alpha) [Grad]</td><td>REAL</td><td>False</td></tr><tr><td>lattice_angbeta_in_deg</td><td></td><td>Lattice angle (beta) [Degrees]//Gitterwinkel (beta) [Grad]</td><td>REAL</td><td>False</td></tr><tr><td>lattice_anggamma_in_deg</td><td></td><td>Lattice angle (gamma) [Degrees]//Gitterwinkel (gamma) [Grad]</td><td>REAL</td><td>False</td></tr><tr><td>lattice_volume_in_a3</td><td></td><td>Lattice volume [Å^3]//Volumen des Gitters [Å^3]</td><td>REAL</td><td>False</td></tr><tr><td>space_group</td><td></td><td>Space group//Raumgruppe</td><td>CONTROLLEDVOCABULARY</td><td>False</td></tr><tr><td>bravais_lattice</td><td></td><td>Bravais lattice//Bravais-Gitter</td><td>CONTROLLEDVOCABULARY</td><td>False</td></tr><tr><td>chem_species_by_n_atoms</td><td>{'Fe': 2}</td><td>Chemical species involved by number of atoms//Chemische Spezies nach Anzahl der Atome</td><td>VARCHAR</td><td>False</td></tr><tr><td>n_atoms_total</td><td>2</td><td>Total number of atoms in sample//Gesamtzahl der Atome in der Probe</td><td>INTEGER</td><td>False</td></tr><tr><td>sim_cell_lengths_in_a</td><td>[2.845, 2.845, 2.845]</td><td>Simulation cell lengths [Å]//Längen der Simulationszelle [Å]</td><td>VARCHAR</td><td>False</td></tr><tr><td>sim_cell_vectors</td><td>[array([2.845, 0.   , 0.   ]), array([0.   , 2.845, 0.   ]), array([0.   , 0.   , 2.845])]</td><td>Simulation cell vectors//Vektoren der Simulationszelle</td><td>VARCHAR</td><td>False</td></tr><tr><td>sim_cell_angles_in_deg</td><td>[90.0, 90.0, 90.0]</td><td>Simulation cell angles [Degrees]//Winkel der Simulationszelle [Grad]</td><td>VARCHAR</td><td>False</td></tr><tr><td>sim_cell_volume_in_a3</td><td>23.0275</td><td>Simulation cell volume [Å^3]//Volumen der Simulationszelle [Å^3]</td><td>REAL</td><td>False</td></tr><tr><td>notes</td><td></td><td>Notes</td><td>MULTILINE_VARCHAR</td><td>False</td></tr><tr><td>conceptual_dictionary</td><td>{<br>&nbsp;&nbsp;&nbsp;&nbsp;\"@context\": {<br>&nbsp;&nbsp;&nbsp;&nbsp;&nbsp;&nbsp;&nbsp;&nbsp;\"path\": \"http://purls.helmholtz-metadaten.de/cmso/hasPath\",<br>&nbsp;&nbsp;&nbsp;&nbsp;&nbsp;&nbsp;&nbsp;&nbsp;\"unit_cell\": \"http://purls.helmholtz-metadaten.de/cmso/UnitCell\",<br>&nbsp;&nbsp;&nbsp;&nbsp;&nbsp;&nbsp;&nbsp;&nbsp;\"atoms\": \"http://purls.helmholtz-metadaten.de/cmso/Atom\",<br>&nbsp;&nbsp;&nbsp;&nbsp;&nbsp;&nbsp;&nbsp;&nbsp;\"molecules\": \"http://purls.helmholtz-metadaten.de/cmso/Molecule\",<br>&nbsp;&nbsp;&nbsp;&nbsp;&nbsp;&nbsp;&nbsp;&nbsp;\"bravais_lattice\": \"http://purls.helmholtz-metadaten.de/cmso/hasBravaisLattice\",<br>&nbsp;&nbsp;&nbsp;&nbsp;&nbsp;&nbsp;&nbsp;&nbsp;\"chemical_species\": \"http://purls.helmholtz-metadaten.de/cmso/ChemicalSpecies\",<br>&nbsp;&nbsp;&nbsp;&nbsp;&nbsp;&nbsp;&nbsp;&nbsp;\"simulation_cell\": \"http://www.w3.org/2000/01/rdf-schema#label\",<br>&nbsp;&nbsp;&nbsp;&nbsp;&nbsp;&nbsp;&nbsp;&nbsp;\"label\": \"http://www.w3.org/2000/01/rdf-schema#label\",<br>&nbsp;&nbsp;&nbsp;&nbsp;&nbsp;&nbsp;&nbsp;&nbsp;\"unit\": \"http://purls.helmholtz-metadaten.de/cmso/hasUnit\",<br>&nbsp;&nbsp;&nbsp;&nbsp;&nbsp;&nbsp;&nbsp;&nbsp;\"value\": \"http://purls.helmholtz-metadaten.de/asmo/hasValue\",<br>&nbsp;&nbsp;&nbsp;&nbsp;&nbsp;&nbsp;&nbsp;&nbsp;\"vector\": \"http://purls.helmholtz-metadaten.de/cmso/Vector\"<br>&nbsp;&nbsp;&nbsp;&nbsp;},<br>&nbsp;&nbsp;&nbsp;&nbsp;\"atoms\": [<br>&nbsp;&nbsp;&nbsp;&nbsp;&nbsp;&nbsp;&nbsp;&nbsp;{<br>&nbsp;&nbsp;&nbsp;&nbsp;&nbsp;&nbsp;&nbsp;&nbsp;&nbsp;&nbsp;&nbsp;&nbsp;\"value\": 2,<br>&nbsp;&nbsp;&nbsp;&nbsp;&nbsp;&nbsp;&nbsp;&nbsp;&nbsp;&nbsp;&nbsp;&nbsp;\"label\": \"Fe\"<br>&nbsp;&nbsp;&nbsp;&nbsp;&nbsp;&nbsp;&nbsp;&nbsp;},<br>&nbsp;&nbsp;&nbsp;&nbsp;&nbsp;&nbsp;&nbsp;&nbsp;{<br>&nbsp;&nbsp;&nbsp;&nbsp;&nbsp;&nbsp;&nbsp;&nbsp;&nbsp;&nbsp;&nbsp;&nbsp;\"value\": 2,<br>&nbsp;&nbsp;&nbsp;&nbsp;&nbsp;&nbsp;&nbsp;&nbsp;&nbsp;&nbsp;&nbsp;&nbsp;\"label\": \"total_number_atoms\"<br>&nbsp;&nbsp;&nbsp;&nbsp;&nbsp;&nbsp;&nbsp;&nbsp;}<br>&nbsp;&nbsp;&nbsp;&nbsp;],<br>&nbsp;&nbsp;&nbsp;&nbsp;\"simulation_cell\": [<br>&nbsp;&nbsp;&nbsp;&nbsp;&nbsp;&nbsp;&nbsp;&nbsp;{<br>&nbsp;&nbsp;&nbsp;&nbsp;&nbsp;&nbsp;&nbsp;&nbsp;&nbsp;&nbsp;&nbsp;&nbsp;\"value\": \"[2.845,&nbsp;&nbsp;2.845,&nbsp;&nbsp;2.845]\",<br>&nbsp;&nbsp;&nbsp;&nbsp;&nbsp;&nbsp;&nbsp;&nbsp;&nbsp;&nbsp;&nbsp;&nbsp;\"unit\": \"ANGSTROM\",<br>&nbsp;&nbsp;&nbsp;&nbsp;&nbsp;&nbsp;&nbsp;&nbsp;&nbsp;&nbsp;&nbsp;&nbsp;\"label\": \"simulation_cell_lengths\",<br>&nbsp;&nbsp;&nbsp;&nbsp;&nbsp;&nbsp;&nbsp;&nbsp;&nbsp;&nbsp;&nbsp;&nbsp;\"@id\": \"http://purls.helmholtz-metadaten.de/cmso/hasLength\"<br>&nbsp;&nbsp;&nbsp;&nbsp;&nbsp;&nbsp;&nbsp;&nbsp;},<br>&nbsp;&nbsp;&nbsp;&nbsp;&nbsp;&nbsp;&nbsp;&nbsp;{<br>&nbsp;&nbsp;&nbsp;&nbsp;&nbsp;&nbsp;&nbsp;&nbsp;&nbsp;&nbsp;&nbsp;&nbsp;\"value\": \"[array([2.845,&nbsp;&nbsp;0.&nbsp;&nbsp;&nbsp;&nbsp;&nbsp;&nbsp;,&nbsp;&nbsp;0.&nbsp;&nbsp;&nbsp;&nbsp;&nbsp;&nbsp;]),&nbsp;&nbsp;array([0.&nbsp;&nbsp;&nbsp;&nbsp;&nbsp;&nbsp;,&nbsp;&nbsp;2.845,&nbsp;&nbsp;0.&nbsp;&nbsp;&nbsp;&nbsp;&nbsp;&nbsp;]),&nbsp;&nbsp;array([0.&nbsp;&nbsp;&nbsp;&nbsp;&nbsp;&nbsp;,&nbsp;&nbsp;0.&nbsp;&nbsp;&nbsp;&nbsp;&nbsp;&nbsp;,&nbsp;&nbsp;2.845])]\",<br>&nbsp;&nbsp;&nbsp;&nbsp;&nbsp;&nbsp;&nbsp;&nbsp;&nbsp;&nbsp;&nbsp;&nbsp;\"unit\": \"ANGSTROM\",<br>&nbsp;&nbsp;&nbsp;&nbsp;&nbsp;&nbsp;&nbsp;&nbsp;&nbsp;&nbsp;&nbsp;&nbsp;\"label\": \"simulation_cell_vectors\",<br>&nbsp;&nbsp;&nbsp;&nbsp;&nbsp;&nbsp;&nbsp;&nbsp;&nbsp;&nbsp;&nbsp;&nbsp;\"@id\": \"http://purls.helmholtz-metadaten.de/cmso/hasVector\"<br>&nbsp;&nbsp;&nbsp;&nbsp;&nbsp;&nbsp;&nbsp;&nbsp;},<br>&nbsp;&nbsp;&nbsp;&nbsp;&nbsp;&nbsp;&nbsp;&nbsp;{<br>&nbsp;&nbsp;&nbsp;&nbsp;&nbsp;&nbsp;&nbsp;&nbsp;&nbsp;&nbsp;&nbsp;&nbsp;\"value\": \"[90.0,&nbsp;&nbsp;90.0,&nbsp;&nbsp;90.0]\",<br>&nbsp;&nbsp;&nbsp;&nbsp;&nbsp;&nbsp;&nbsp;&nbsp;&nbsp;&nbsp;&nbsp;&nbsp;\"unit\": \"DEGREES\",<br>&nbsp;&nbsp;&nbsp;&nbsp;&nbsp;&nbsp;&nbsp;&nbsp;&nbsp;&nbsp;&nbsp;&nbsp;\"label\": \"simulation_cell_angles\",<br>&nbsp;&nbsp;&nbsp;&nbsp;&nbsp;&nbsp;&nbsp;&nbsp;&nbsp;&nbsp;&nbsp;&nbsp;\"@id\": \"http://purls.helmholtz-metadaten.de/cmso/hasAngle\"<br>&nbsp;&nbsp;&nbsp;&nbsp;&nbsp;&nbsp;&nbsp;&nbsp;},<br>&nbsp;&nbsp;&nbsp;&nbsp;&nbsp;&nbsp;&nbsp;&nbsp;{<br>&nbsp;&nbsp;&nbsp;&nbsp;&nbsp;&nbsp;&nbsp;&nbsp;&nbsp;&nbsp;&nbsp;&nbsp;\"value\": 23.0275,<br>&nbsp;&nbsp;&nbsp;&nbsp;&nbsp;&nbsp;&nbsp;&nbsp;&nbsp;&nbsp;&nbsp;&nbsp;\"unit\": \"ANGSTROM3\",<br>&nbsp;&nbsp;&nbsp;&nbsp;&nbsp;&nbsp;&nbsp;&nbsp;&nbsp;&nbsp;&nbsp;&nbsp;\"label\": \"simulation_cell_volume\",<br>&nbsp;&nbsp;&nbsp;&nbsp;&nbsp;&nbsp;&nbsp;&nbsp;&nbsp;&nbsp;&nbsp;&nbsp;\"@id\": \"http://purls.helmholtz-metadaten.de/cmso/hasVolume\"<br>&nbsp;&nbsp;&nbsp;&nbsp;&nbsp;&nbsp;&nbsp;&nbsp;}<br>&nbsp;&nbsp;&nbsp;&nbsp;],<br>&nbsp;&nbsp;&nbsp;&nbsp;\"workflow_manager\": {<br>&nbsp;&nbsp;&nbsp;&nbsp;&nbsp;&nbsp;&nbsp;&nbsp;\"@id\": \"http://demo.fiz-karlsruhe.de/matwerk/E457491\",<br>&nbsp;&nbsp;&nbsp;&nbsp;&nbsp;&nbsp;&nbsp;&nbsp;\"label\": \"pyiron_atomistics=0.6.14,&nbsp;&nbsp;pyiron_workflow=0.11.0\"<br>&nbsp;&nbsp;&nbsp;&nbsp;},<br>&nbsp;&nbsp;&nbsp;&nbsp;\"job_details\": [<br>&nbsp;&nbsp;&nbsp;&nbsp;&nbsp;&nbsp;&nbsp;&nbsp;{<br>&nbsp;&nbsp;&nbsp;&nbsp;&nbsp;&nbsp;&nbsp;&nbsp;&nbsp;&nbsp;&nbsp;&nbsp;\"label\": \"job_name\",<br>&nbsp;&nbsp;&nbsp;&nbsp;&nbsp;&nbsp;&nbsp;&nbsp;&nbsp;&nbsp;&nbsp;&nbsp;\"value\": \"test_lammps_gui\"<br>&nbsp;&nbsp;&nbsp;&nbsp;&nbsp;&nbsp;&nbsp;&nbsp;},<br>&nbsp;&nbsp;&nbsp;&nbsp;&nbsp;&nbsp;&nbsp;&nbsp;{<br>&nbsp;&nbsp;&nbsp;&nbsp;&nbsp;&nbsp;&nbsp;&nbsp;&nbsp;&nbsp;&nbsp;&nbsp;\"label\": \"project_name\",<br>&nbsp;&nbsp;&nbsp;&nbsp;&nbsp;&nbsp;&nbsp;&nbsp;&nbsp;&nbsp;&nbsp;&nbsp;\"value\": \"test_complete\"<br>&nbsp;&nbsp;&nbsp;&nbsp;&nbsp;&nbsp;&nbsp;&nbsp;}<br>&nbsp;&nbsp;&nbsp;&nbsp;],<br>&nbsp;&nbsp;&nbsp;&nbsp;\"path\": \"C:/Users/pkruziko/Documents/pyiron/pyiron_wf_openbis/test_complete/test_lammps_gui_hdf5\"<br>}</td><td>Conceptual dictionary associated with pyiron job//Begriffswörterbuch zu pyiron job</td><td>MULTILINE_VARCHAR</td><td>False</td></tr><tr><td>$xmlcomments</td><td></td><td>Comments log</td><td>XML</td><td>False</td></tr>\n",
       "            </tbody>\n",
       "            </table>\n",
       "        "
      ],
      "text/plain": [
       "property                 value\n",
       "-----------------------  ---------------------------------------------------------------------------------------------------------------------------------------------------------------------------------------------------------------------------------------------------------------------------------------------------------------------------------------------------------------------------------------------------------------------------------------------------------------------------------------------------------------------------------------------------------------------------------------------------------------------------------------------------------------------------------------------------------------------------------------------------------------------------------------------------------------------------------------------------------------------------------------------------------------------------------------------------------------------------------------------------------------------------------------------------------------------------------------------------------------------------------------------------------------------------------------------------------------------------------------------------------------------------------------------------------------------------------------------------------------------------------------------------------------------------------------------------------------------------------------------------------------------------------------------------------------------------------------------------------------------------------------------------------------------------------------------------------------------------------------------------------------------------------------------------------------------------------------------------------------------------------------------------------------------------------------------------------------------------------------------------------------------------------------------------------------------------------------------------------------------------------------------------------------------------------------------------------------------------------------------------------------------------------------------------------------------------------------------------------------------------------------------------------------------------------------------------------------------------------------------------------------------------------------------------------------------------------------------------------------------------------------------------------------------------------------------------------------------------------------------------------------------------------------------------------------------------------------------------------------------------------------------------------------------------------------------------------------------------------------------------------------------------------------------------------------------------------------------------------------------------------------------------------------------------------------------------------------------------------------------------------------------------------------------------------------------------------------------------------------------------------------------------------------------------------------------------------------------------------------------------------------------------------------------------------------------------------------------------------------------------------------------------------------------------------------------------------------------------------------------------------------------------------------------------------------------------------------------------------------------------------------------------------------------------------------------------------------------------------------------------------------------------------------------------------------------------------------------------------------------------------------------------------------------------------------------------------------------------------------------------------------------------------------------------------------------------------------------------------------------------------------------------------------------------------------------------------------------------------------------------------------------------------------------------------------------------------------------------------------------------------------------------------------------------------------------------------------------------------------------------------------------------------------------------------------------------------------------------------------------------------------------------------------------------------------------------------------------------------------------------------------------------------------------------------------------------------------------------------------------------------------------------------------------------------------------------------------------------------------------------------------------------------------------------------------------------------------------------------------------------------------------------------------------------------------------------------------------------------------------------------------------------------------------------------------------------------------------------------------------------------------------------------------------------------------------------------------------------------------------------------------------------------------------------------------------------------------------------------------------------------------------------------------------------------------------------------------------------------------------------------------------------------------\n",
       "$name                    input_structure_test_lammps_gui\n",
       "description              <figure class=\"image image_resized image-style-align-left\" style=\"width:9%;\"><img src=\"/openbis/openbis/file-service/eln-lims/30/77/c8/3077c8f8-0e55-41e5-9021-7ed43863e5a4/cc44149e-b2d4-4850-9f88-7a4cd54c1a66.png\"></figure><p><br>Crystal structure generated using pyiron.<br>&nbsp;</p><p><span style=\"color:hsl(240,75%,60%);\"><strong>Scroll down below other properties to view conceptual dictionary with ontological ids of selected properties and values.</strong></span></p><p>The conceptual dictionary is in JSON-LD format. Learn more about it <a href=\"https://www.w3.org/ns/json-ld/\">here</a><br>&nbsp;</p>\n",
       "workflow_manager         pyiron_atomistics=0.6.14, pyiron_workflow=0.11.0\n",
       "crystal_orientation\n",
       "lattice_param_a_in_a\n",
       "lattice_param_b_in_a\n",
       "lattice_param_c_in_a\n",
       "lattice_c_over_a\n",
       "lattice_angalpha_in_deg\n",
       "lattice_angbeta_in_deg\n",
       "lattice_anggamma_in_deg\n",
       "lattice_volume_in_a3\n",
       "space_group\n",
       "bravais_lattice\n",
       "chem_species_by_n_atoms  {'Fe': 2}\n",
       "n_atoms_total            2\n",
       "sim_cell_lengths_in_a    [2.845, 2.845, 2.845]\n",
       "sim_cell_vectors         [array([2.845, 0.   , 0.   ]), array([0.   , 2.845, 0.   ]), array([0.   , 0.   , 2.845])]\n",
       "sim_cell_angles_in_deg   [90.0, 90.0, 90.0]\n",
       "sim_cell_volume_in_a3    23.0275\n",
       "notes\n",
       "conceptual_dictionary    {<br>&nbsp;&nbsp;&nbsp;&nbsp;\"@context\": {<br>&nbsp;&nbsp;&nbsp;&nbsp;&nbsp;&nbsp;&nbsp;&nbsp;\"path\": \"http://purls.helmholtz-metadaten.de/cmso/hasPath\",<br>&nbsp;&nbsp;&nbsp;&nbsp;&nbsp;&nbsp;&nbsp;&nbsp;\"unit_cell\": \"http://purls.helmholtz-metadaten.de/cmso/UnitCell\",<br>&nbsp;&nbsp;&nbsp;&nbsp;&nbsp;&nbsp;&nbsp;&nbsp;\"atoms\": \"http://purls.helmholtz-metadaten.de/cmso/Atom\",<br>&nbsp;&nbsp;&nbsp;&nbsp;&nbsp;&nbsp;&nbsp;&nbsp;\"molecules\": \"http://purls.helmholtz-metadaten.de/cmso/Molecule\",<br>&nbsp;&nbsp;&nbsp;&nbsp;&nbsp;&nbsp;&nbsp;&nbsp;\"bravais_lattice\": \"http://purls.helmholtz-metadaten.de/cmso/hasBravaisLattice\",<br>&nbsp;&nbsp;&nbsp;&nbsp;&nbsp;&nbsp;&nbsp;&nbsp;\"chemical_species\": \"http://purls.helmholtz-metadaten.de/cmso/ChemicalSpecies\",<br>&nbsp;&nbsp;&nbsp;&nbsp;&nbsp;&nbsp;&nbsp;&nbsp;\"simulation_cell\": \"http://www.w3.org/2000/01/rdf-schema#label\",<br>&nbsp;&nbsp;&nbsp;&nbsp;&nbsp;&nbsp;&nbsp;&nbsp;\"label\": \"http://www.w3.org/2000/01/rdf-schema#label\",<br>&nbsp;&nbsp;&nbsp;&nbsp;&nbsp;&nbsp;&nbsp;&nbsp;\"unit\": \"http://purls.helmholtz-metadaten.de/cmso/hasUnit\",<br>&nbsp;&nbsp;&nbsp;&nbsp;&nbsp;&nbsp;&nbsp;&nbsp;\"value\": \"http://purls.helmholtz-metadaten.de/asmo/hasValue\",<br>&nbsp;&nbsp;&nbsp;&nbsp;&nbsp;&nbsp;&nbsp;&nbsp;\"vector\": \"http://purls.helmholtz-metadaten.de/cmso/Vector\"<br>&nbsp;&nbsp;&nbsp;&nbsp;},<br>&nbsp;&nbsp;&nbsp;&nbsp;\"atoms\": [<br>&nbsp;&nbsp;&nbsp;&nbsp;&nbsp;&nbsp;&nbsp;&nbsp;{<br>&nbsp;&nbsp;&nbsp;&nbsp;&nbsp;&nbsp;&nbsp;&nbsp;&nbsp;&nbsp;&nbsp;&nbsp;\"value\": 2,<br>&nbsp;&nbsp;&nbsp;&nbsp;&nbsp;&nbsp;&nbsp;&nbsp;&nbsp;&nbsp;&nbsp;&nbsp;\"label\": \"Fe\"<br>&nbsp;&nbsp;&nbsp;&nbsp;&nbsp;&nbsp;&nbsp;&nbsp;},<br>&nbsp;&nbsp;&nbsp;&nbsp;&nbsp;&nbsp;&nbsp;&nbsp;{<br>&nbsp;&nbsp;&nbsp;&nbsp;&nbsp;&nbsp;&nbsp;&nbsp;&nbsp;&nbsp;&nbsp;&nbsp;\"value\": 2,<br>&nbsp;&nbsp;&nbsp;&nbsp;&nbsp;&nbsp;&nbsp;&nbsp;&nbsp;&nbsp;&nbsp;&nbsp;\"label\": \"total_number_atoms\"<br>&nbsp;&nbsp;&nbsp;&nbsp;&nbsp;&nbsp;&nbsp;&nbsp;}<br>&nbsp;&nbsp;&nbsp;&nbsp;],<br>&nbsp;&nbsp;&nbsp;&nbsp;\"simulation_cell\": [<br>&nbsp;&nbsp;&nbsp;&nbsp;&nbsp;&nbsp;&nbsp;&nbsp;{<br>&nbsp;&nbsp;&nbsp;&nbsp;&nbsp;&nbsp;&nbsp;&nbsp;&nbsp;&nbsp;&nbsp;&nbsp;\"value\": \"[2.845,&nbsp;&nbsp;2.845,&nbsp;&nbsp;2.845]\",<br>&nbsp;&nbsp;&nbsp;&nbsp;&nbsp;&nbsp;&nbsp;&nbsp;&nbsp;&nbsp;&nbsp;&nbsp;\"unit\": \"ANGSTROM\",<br>&nbsp;&nbsp;&nbsp;&nbsp;&nbsp;&nbsp;&nbsp;&nbsp;&nbsp;&nbsp;&nbsp;&nbsp;\"label\": \"simulation_cell_lengths\",<br>&nbsp;&nbsp;&nbsp;&nbsp;&nbsp;&nbsp;&nbsp;&nbsp;&nbsp;&nbsp;&nbsp;&nbsp;\"@id\": \"http://purls.helmholtz-metadaten.de/cmso/hasLength\"<br>&nbsp;&nbsp;&nbsp;&nbsp;&nbsp;&nbsp;&nbsp;&nbsp;},<br>&nbsp;&nbsp;&nbsp;&nbsp;&nbsp;&nbsp;&nbsp;&nbsp;{<br>&nbsp;&nbsp;&nbsp;&nbsp;&nbsp;&nbsp;&nbsp;&nbsp;&nbsp;&nbsp;&nbsp;&nbsp;\"value\": \"[array([2.845,&nbsp;&nbsp;0.&nbsp;&nbsp;&nbsp;&nbsp;&nbsp;&nbsp;,&nbsp;&nbsp;0.&nbsp;&nbsp;&nbsp;&nbsp;&nbsp;&nbsp;]),&nbsp;&nbsp;array([0.&nbsp;&nbsp;&nbsp;&nbsp;&nbsp;&nbsp;,&nbsp;&nbsp;2.845,&nbsp;&nbsp;0.&nbsp;&nbsp;&nbsp;&nbsp;&nbsp;&nbsp;]),&nbsp;&nbsp;array([0.&nbsp;&nbsp;&nbsp;&nbsp;&nbsp;&nbsp;,&nbsp;&nbsp;0.&nbsp;&nbsp;&nbsp;&nbsp;&nbsp;&nbsp;,&nbsp;&nbsp;2.845])]\",<br>&nbsp;&nbsp;&nbsp;&nbsp;&nbsp;&nbsp;&nbsp;&nbsp;&nbsp;&nbsp;&nbsp;&nbsp;\"unit\": \"ANGSTROM\",<br>&nbsp;&nbsp;&nbsp;&nbsp;&nbsp;&nbsp;&nbsp;&nbsp;&nbsp;&nbsp;&nbsp;&nbsp;\"label\": \"simulation_cell_vectors\",<br>&nbsp;&nbsp;&nbsp;&nbsp;&nbsp;&nbsp;&nbsp;&nbsp;&nbsp;&nbsp;&nbsp;&nbsp;\"@id\": \"http://purls.helmholtz-metadaten.de/cmso/hasVector\"<br>&nbsp;&nbsp;&nbsp;&nbsp;&nbsp;&nbsp;&nbsp;&nbsp;},<br>&nbsp;&nbsp;&nbsp;&nbsp;&nbsp;&nbsp;&nbsp;&nbsp;{<br>&nbsp;&nbsp;&nbsp;&nbsp;&nbsp;&nbsp;&nbsp;&nbsp;&nbsp;&nbsp;&nbsp;&nbsp;\"value\": \"[90.0,&nbsp;&nbsp;90.0,&nbsp;&nbsp;90.0]\",<br>&nbsp;&nbsp;&nbsp;&nbsp;&nbsp;&nbsp;&nbsp;&nbsp;&nbsp;&nbsp;&nbsp;&nbsp;\"unit\": \"DEGREES\",<br>&nbsp;&nbsp;&nbsp;&nbsp;&nbsp;&nbsp;&nbsp;&nbsp;&nbsp;&nbsp;&nbsp;&nbsp;\"label\": \"simulation_cell_angles\",<br>&nbsp;&nbsp;&nbsp;&nbsp;&nbsp;&nbsp;&nbsp;&nbsp;&nbsp;&nbsp;&nbsp;&nbsp;\"@id\": \"http://purls.helmholtz-metadaten.de/cmso/hasAngle\"<br>&nbsp;&nbsp;&nbsp;&nbsp;&nbsp;&nbsp;&nbsp;&nbsp;},<br>&nbsp;&nbsp;&nbsp;&nbsp;&nbsp;&nbsp;&nbsp;&nbsp;{<br>&nbsp;&nbsp;&nbsp;&nbsp;&nbsp;&nbsp;&nbsp;&nbsp;&nbsp;&nbsp;&nbsp;&nbsp;\"value\": 23.0275,<br>&nbsp;&nbsp;&nbsp;&nbsp;&nbsp;&nbsp;&nbsp;&nbsp;&nbsp;&nbsp;&nbsp;&nbsp;\"unit\": \"ANGSTROM3\",<br>&nbsp;&nbsp;&nbsp;&nbsp;&nbsp;&nbsp;&nbsp;&nbsp;&nbsp;&nbsp;&nbsp;&nbsp;\"label\": \"simulation_cell_volume\",<br>&nbsp;&nbsp;&nbsp;&nbsp;&nbsp;&nbsp;&nbsp;&nbsp;&nbsp;&nbsp;&nbsp;&nbsp;\"@id\": \"http://purls.helmholtz-metadaten.de/cmso/hasVolume\"<br>&nbsp;&nbsp;&nbsp;&nbsp;&nbsp;&nbsp;&nbsp;&nbsp;}<br>&nbsp;&nbsp;&nbsp;&nbsp;],<br>&nbsp;&nbsp;&nbsp;&nbsp;\"workflow_manager\": {<br>&nbsp;&nbsp;&nbsp;&nbsp;&nbsp;&nbsp;&nbsp;&nbsp;\"@id\": \"http://demo.fiz-karlsruhe.de/matwerk/E457491\",<br>&nbsp;&nbsp;&nbsp;&nbsp;&nbsp;&nbsp;&nbsp;&nbsp;\"label\": \"pyiron_atomistics=0.6.14,&nbsp;&nbsp;pyiron_workflow=0.11.0\"<br>&nbsp;&nbsp;&nbsp;&nbsp;},<br>&nbsp;&nbsp;&nbsp;&nbsp;\"job_details\": [<br>&nbsp;&nbsp;&nbsp;&nbsp;&nbsp;&nbsp;&nbsp;&nbsp;{<br>&nbsp;&nbsp;&nbsp;&nbsp;&nbsp;&nbsp;&nbsp;&nbsp;&nbsp;&nbsp;&nbsp;&nbsp;\"label\": \"job_name\",<br>&nbsp;&nbsp;&nbsp;&nbsp;&nbsp;&nbsp;&nbsp;&nbsp;&nbsp;&nbsp;&nbsp;&nbsp;\"value\": \"test_lammps_gui\"<br>&nbsp;&nbsp;&nbsp;&nbsp;&nbsp;&nbsp;&nbsp;&nbsp;},<br>&nbsp;&nbsp;&nbsp;&nbsp;&nbsp;&nbsp;&nbsp;&nbsp;{<br>&nbsp;&nbsp;&nbsp;&nbsp;&nbsp;&nbsp;&nbsp;&nbsp;&nbsp;&nbsp;&nbsp;&nbsp;\"label\": \"project_name\",<br>&nbsp;&nbsp;&nbsp;&nbsp;&nbsp;&nbsp;&nbsp;&nbsp;&nbsp;&nbsp;&nbsp;&nbsp;\"value\": \"test_complete\"<br>&nbsp;&nbsp;&nbsp;&nbsp;&nbsp;&nbsp;&nbsp;&nbsp;}<br>&nbsp;&nbsp;&nbsp;&nbsp;],<br>&nbsp;&nbsp;&nbsp;&nbsp;\"path\": \"C:/Users/pkruziko/Documents/pyiron/pyiron_wf_openbis/test_complete/test_lammps_gui_hdf5\"<br>}\n",
       "$xmlcomments"
      ]
     },
     "metadata": {},
     "output_type": "display_data"
    },
    {
     "data": {
      "text/html": [
       "\n",
       "            <table border=\"1\" class=\"dataframe\">\n",
       "            <thead>\n",
       "                <tr style=\"text-align: right;\">\n",
       "                <th>property</th>\n",
       "                <th>value</th>\n",
       "                <th>description</th>\n",
       "                <th>type</th>\n",
       "                <th>mandatory</th>\n",
       "                </tr>\n",
       "            </thead>\n",
       "            <tbody>\n",
       "        <tr><td>$name</td><td>test_lammps_gui</td><td>Name</td><td>VARCHAR</td><td>True</td></tr><tr><td>description</td><td><figure class=\"image image_resized image-style-align-left\" style=\"width:9%;\"><img src=\"/openbis/openbis/file-service/eln-lims/30/77/c8/3077c8f8-0e55-41e5-9021-7ed43863e5a4/cc44149e-b2d4-4850-9f88-7a4cd54c1a66.png\"></figure><p><br>Lammps simulation using pyiron for energy minimization/structural optimization.<br>&nbsp;</p><p><span style=\"color:hsl(240,75%,60%);\"><strong>Scroll down below other properties to view conceptual dictionary with ontological ids of selected properties and values.</strong></span></p><p>The conceptual dictionary is in JSON-LD format. Learn more about it <a href=\"https://www.w3.org/ns/json-ld/\">here</a><br>&nbsp;</p></td><td>Short description and/or purpose//Kurzbeschreibung und/oder Zweck</td><td>MULTILINE_VARCHAR</td><td>False</td></tr><tr><td>bam_username</td><td>pkruziko</td><td>BAM username//BAM Benutzername</td><td>VARCHAR</td><td>True</td></tr><tr><td>workflow_manager</td><td>pyiron_atomistics=0.6.14, pyiron_workflow=0.11.0</td><td>Workflow manager//Workflow-Manager</td><td>VARCHAR</td><td>False</td></tr><tr><td>sim_job_finished</td><td>True</td><td>Finished = True, Aborted or incomplete = False//Beendet = Wahr, Abgebrochen oder unvollständig = Falsch</td><td>BOOLEAN</td><td>False</td></tr><tr><td>start_date</td><td>2024-10-24 11:31:24 +0200</td><td>Start date</td><td>TIMESTAMP</td><td>False</td></tr><tr><td>sim_walltime_in_hours</td><td>0.0</td><td>Total job run time [hr]//Gesamtlaufzeit des Jobs [Stunden]</td><td>REAL</td><td>False</td></tr><tr><td>sim_coretime_in_hours</td><td>0.0</td><td>Total core hours used [hr]//Gesamtkernstundenzeit des Jobs [Stunden]</td><td>REAL</td><td>False</td></tr><tr><td>ncores</td><td>1</td><td>Number of cores used//Anzahl der Kerne</td><td>INTEGER</td><td>False</td></tr><tr><td>ngpus</td><td></td><td>Number of GPUs used//Anzahl der GPUs</td><td>INTEGER</td><td>False</td></tr><tr><td>nthreads</td><td></td><td>Number of Threads used//Anzahl der Threads</td><td>INTEGER</td><td>False</td></tr><tr><td>hpc_job_queue</td><td></td><td>HPC queue used//Verwendete HPC-Warteschlange</td><td>VARCHAR</td><td>False</td></tr><tr><td>hpc_job_id</td><td></td><td>Job ID in the HPC queue//Job-ID in der HPC-Warteschlange</td><td>VARCHAR</td><td>False</td></tr><tr><td>atomistic_calc_type</td><td>ATOM_CALC_STRUC_OPT</td><td>Type of atomistic calculation//Art der atomistischen Berechnung</td><td>CONTROLLEDVOCABULARY</td><td>False</td></tr><tr><td>periodic_boundary_x</td><td>True</td><td>Simulation periodicity in X-direction//Periodizität der Simulation in X-Richtung</td><td>BOOLEAN</td><td>False</td></tr><tr><td>periodic_boundary_y</td><td>True</td><td>Simulation periodicity in Y-direction//Periodizität der Simulation in Y-Richtung</td><td>BOOLEAN</td><td>False</td></tr><tr><td>periodic_boundary_z</td><td>True</td><td>Simulation periodicity in Z-direction//Periodizität der Simulation in Z-Richtung</td><td>BOOLEAN</td><td>False</td></tr><tr><td>atom_cell_vol_relax</td><td>False</td><td>Degrees of freedom - Cell volume relaxation//Freiheitsgrade - Zellvolumenrelaxation</td><td>BOOLEAN</td><td>False</td></tr><tr><td>atom_cell_shp_relax</td><td>False</td><td>Degrees of freedom - Cell shape relaxation//Freiheitsgrade - Zellformrelaxation</td><td>BOOLEAN</td><td>False</td></tr><tr><td>atom_pos_relax</td><td>True</td><td>Degrees of freedom - Atomic position relaxation//Freiheitsgrade - Atomare Positionsrelaxation</td><td>BOOLEAN</td><td>False</td></tr><tr><td>atom_md_ensemble</td><td></td><td>Statistical ensemble set in the simulation//Statistisches Ensemble in der Simulation</td><td>CONTROLLEDVOCABULARY</td><td>False</td></tr><tr><td>atom_ionic_min_algo</td><td>MIN_ALGO_FIRE</td><td>Minimization algorithm // Minimalisierungsalgorithmus</td><td>CONTROLLEDVOCABULARY</td><td>False</td></tr><tr><td>atom_md_time_stp_in_ps</td><td></td><td>Time step size [ps]//Zeitschrittweite [ps]</td><td>REAL</td><td>False</td></tr><tr><td>atom_sim_time_ps_in_ps</td><td></td><td>Simulated timespan [ps]// Simulierte Zeitspanne [ps]</td><td>REAL</td><td>False</td></tr><tr><td>atom_md_langevin</td><td></td><td>Use of Langevin dynamics//Verwendung der Langevin-Dynamik</td><td>BOOLEAN</td><td>False</td></tr><tr><td>max_iters</td><td>100000</td><td>Maximum number of iterations//Maximale Anzahl von Iterationen</td><td>INTEGER</td><td>False</td></tr><tr><td>atom_e_tol_ion_in_ev</td><td>0.0</td><td>Energy tolerance for ionic minimization [eV]//Energietoleranz zur ionische Minimierung [eV]</td><td>REAL</td><td>False</td></tr><tr><td>atom_f_tol_in_ev_a</td><td>1.0E-8</td><td>Force tolerance for minimization [eV/Å]//Krafttoleranz für Minimierung [eV/Å]</td><td>REAL</td><td>False</td></tr><tr><td>atom_md_init_temp_in_k</td><td></td><td>Initial temperature [K]//Anfangstemperatur [K]</td><td>REAL</td><td>False</td></tr><tr><td>atom_md_init_press_in_gpa</td><td></td><td>Initial pressure [GPa]//Anfangsdruck [GPa]</td><td>REAL</td><td>False</td></tr><tr><td>atom_md_targ_temp_in_k</td><td></td><td>Target temperature [K]//Zieltemperatur [K]</td><td>REAL</td><td>False</td></tr><tr><td>atom_targ_press_in_gpa</td><td></td><td>Target pressure [GPa]//Ziel-Druck [GPa]</td><td>REAL</td><td>False</td></tr><tr><td>atom_ionic_steps</td><td>1</td><td>Number of ionic steps//Anzahl der Ionischen Schritten</td><td>INTEGER</td><td>False</td></tr><tr><td>atom_md_avg_temp_in_k</td><td></td><td>Average temperature over time steps [K]//Durchschnittstemperatur [K]</td><td>REAL</td><td>False</td></tr><tr><td>atom_avg_press_in_gpa</td><td></td><td>Average pressure over time steps [GPa]//Durchschnittsdruck [GPa]</td><td>REAL</td><td>False</td></tr><tr><td>atom_fin_tot_eng_in_ev</td><td>-8.0433</td><td>Final Total Energy [eV]//Letzte Gesamtenergie [eV]</td><td>REAL</td><td>False</td></tr><tr><td>atom_avg_tot_eng_in_ev</td><td></td><td>Average Total Energy over time steps [eV]//Durchschnittsgesamtenergie [eV]</td><td>REAL</td><td>False</td></tr><tr><td>atom_fin_vol_in_a3</td><td>23.0275</td><td>Final Volume [Å^3]//Letztes Volumen [Å^3]</td><td>REAL</td><td>False</td></tr><tr><td>atom_avg_vol_in_a3</td><td></td><td>Average Volume over time steps [Å^3]//Durchschnittliches Volumen [Å^3]</td><td>REAL</td><td>False</td></tr><tr><td>atom_fin_pot_eng_in_ev</td><td>-8.0433</td><td>Final Potential Energy [eV]//Letzte potenzielle Energie [eV]</td><td>REAL</td><td>False</td></tr><tr><td>atom_avg_pot_eng_in_ev</td><td></td><td>Average Potential Energy over time steps (eV)//Durchschnittliche potenzielle Energie [eV]</td><td>REAL</td><td>False</td></tr><tr><td>atom_fin_fnorm_in_ev_a</td><td></td><td>Final Force norm [eV/Å]//Letztes Kraftnorm [eV/Å]</td><td>REAL</td><td>False</td></tr><tr><td>atom_avg_fnorm_in_ev_a</td><td></td><td>Average Force norm over time steps [eV/Å]//Durchschnittskraftnorm [eV/Å]</td><td>REAL</td><td>False</td></tr><tr><td>atom_force_max_in_ev_a</td><td>5.0E-16</td><td>Final maximum force component [eV/Å]//Letzte maximale Kraftkomponente [eV/Å]</td><td>REAL</td><td>False</td></tr><tr><td>notes</td><td></td><td>Notes</td><td>MULTILINE_VARCHAR</td><td>False</td></tr><tr><td>conceptual_dictionary</td><td>{<br>&nbsp;&nbsp;&nbsp;&nbsp;\"@context\": {<br>&nbsp;&nbsp;&nbsp;&nbsp;&nbsp;&nbsp;&nbsp;&nbsp;\"sample\": \"http://purls.helmholtz-metadaten.de/cmso/AtomicScaleSample\",<br>&nbsp;&nbsp;&nbsp;&nbsp;&nbsp;&nbsp;&nbsp;&nbsp;\"path\": \"http://purls.helmholtz-metadaten.de/cmso/hasPath\",<br>&nbsp;&nbsp;&nbsp;&nbsp;&nbsp;&nbsp;&nbsp;&nbsp;\"dof\": \"http://purls.helmholtz-metadaten.de/asmo/hasRelaxationDOF\",<br>&nbsp;&nbsp;&nbsp;&nbsp;&nbsp;&nbsp;&nbsp;&nbsp;\"inputs\": \"http://purls.helmholtz-metadaten.de/asmo/hasInputParameter\",<br>&nbsp;&nbsp;&nbsp;&nbsp;&nbsp;&nbsp;&nbsp;&nbsp;\"label\": \"http://www.w3.org/2000/01/rdf-schema#label\",<br>&nbsp;&nbsp;&nbsp;&nbsp;&nbsp;&nbsp;&nbsp;&nbsp;\"unit\": \"http://purls.helmholtz-metadaten.de/asmo/hasUnit\",<br>&nbsp;&nbsp;&nbsp;&nbsp;&nbsp;&nbsp;&nbsp;&nbsp;\"value\": \"http://purls.helmholtz-metadaten.de/asmo/hasValue\",<br>&nbsp;&nbsp;&nbsp;&nbsp;&nbsp;&nbsp;&nbsp;&nbsp;\"outputs\": \"http://purls.helmholtz-metadaten.de/cmso/hasCalculatedProperty\",<br>&nbsp;&nbsp;&nbsp;&nbsp;&nbsp;&nbsp;&nbsp;&nbsp;\"molecular_dynamics\": \"http://purls.helmholtz-metadaten.de/asmo/MolecularDynamics\",<br>&nbsp;&nbsp;&nbsp;&nbsp;&nbsp;&nbsp;&nbsp;&nbsp;\"molecular_statics\": \"http://purls.helmholtz-metadaten.de/asmo/MolecularStatics\",<br>&nbsp;&nbsp;&nbsp;&nbsp;&nbsp;&nbsp;&nbsp;&nbsp;\"ensemble\": \"http://purls.helmholtz-metadaten.de/asmo/hasStatisticalEnsemble\",<br>&nbsp;&nbsp;&nbsp;&nbsp;&nbsp;&nbsp;&nbsp;&nbsp;\"potential\": \"http://purls.helmholtz-metadaten.de/asmo/EmbeddedAtomModel\"<br>&nbsp;&nbsp;&nbsp;&nbsp;},<br>&nbsp;&nbsp;&nbsp;&nbsp;\"molecular_statics\": {<br>&nbsp;&nbsp;&nbsp;&nbsp;&nbsp;&nbsp;&nbsp;&nbsp;\"minimization_algorithm\": \"fire\",<br>&nbsp;&nbsp;&nbsp;&nbsp;&nbsp;&nbsp;&nbsp;&nbsp;\"periodicity_in_x\": true,<br>&nbsp;&nbsp;&nbsp;&nbsp;&nbsp;&nbsp;&nbsp;&nbsp;\"periodicity_in_y\": true,<br>&nbsp;&nbsp;&nbsp;&nbsp;&nbsp;&nbsp;&nbsp;&nbsp;\"periodicity_in_z\": true,<br>&nbsp;&nbsp;&nbsp;&nbsp;&nbsp;&nbsp;&nbsp;&nbsp;\"inputs\": [<br>&nbsp;&nbsp;&nbsp;&nbsp;&nbsp;&nbsp;&nbsp;&nbsp;&nbsp;&nbsp;&nbsp;&nbsp;{<br>&nbsp;&nbsp;&nbsp;&nbsp;&nbsp;&nbsp;&nbsp;&nbsp;&nbsp;&nbsp;&nbsp;&nbsp;&nbsp;&nbsp;&nbsp;&nbsp;\"value\": null,<br>&nbsp;&nbsp;&nbsp;&nbsp;&nbsp;&nbsp;&nbsp;&nbsp;&nbsp;&nbsp;&nbsp;&nbsp;&nbsp;&nbsp;&nbsp;&nbsp;\"unit\": \"K\",<br>&nbsp;&nbsp;&nbsp;&nbsp;&nbsp;&nbsp;&nbsp;&nbsp;&nbsp;&nbsp;&nbsp;&nbsp;&nbsp;&nbsp;&nbsp;&nbsp;\"label\": \"temperature\"<br>&nbsp;&nbsp;&nbsp;&nbsp;&nbsp;&nbsp;&nbsp;&nbsp;&nbsp;&nbsp;&nbsp;&nbsp;},<br>&nbsp;&nbsp;&nbsp;&nbsp;&nbsp;&nbsp;&nbsp;&nbsp;&nbsp;&nbsp;&nbsp;&nbsp;{<br>&nbsp;&nbsp;&nbsp;&nbsp;&nbsp;&nbsp;&nbsp;&nbsp;&nbsp;&nbsp;&nbsp;&nbsp;&nbsp;&nbsp;&nbsp;&nbsp;\"value\": null,<br>&nbsp;&nbsp;&nbsp;&nbsp;&nbsp;&nbsp;&nbsp;&nbsp;&nbsp;&nbsp;&nbsp;&nbsp;&nbsp;&nbsp;&nbsp;&nbsp;\"unit\": \"GigaPA\",<br>&nbsp;&nbsp;&nbsp;&nbsp;&nbsp;&nbsp;&nbsp;&nbsp;&nbsp;&nbsp;&nbsp;&nbsp;&nbsp;&nbsp;&nbsp;&nbsp;\"label\": \"pressure\"<br>&nbsp;&nbsp;&nbsp;&nbsp;&nbsp;&nbsp;&nbsp;&nbsp;&nbsp;&nbsp;&nbsp;&nbsp;},<br>&nbsp;&nbsp;&nbsp;&nbsp;&nbsp;&nbsp;&nbsp;&nbsp;&nbsp;&nbsp;&nbsp;&nbsp;{<br>&nbsp;&nbsp;&nbsp;&nbsp;&nbsp;&nbsp;&nbsp;&nbsp;&nbsp;&nbsp;&nbsp;&nbsp;&nbsp;&nbsp;&nbsp;&nbsp;\"value\": 0.0,<br>&nbsp;&nbsp;&nbsp;&nbsp;&nbsp;&nbsp;&nbsp;&nbsp;&nbsp;&nbsp;&nbsp;&nbsp;&nbsp;&nbsp;&nbsp;&nbsp;\"unit\": \"EV\",<br>&nbsp;&nbsp;&nbsp;&nbsp;&nbsp;&nbsp;&nbsp;&nbsp;&nbsp;&nbsp;&nbsp;&nbsp;&nbsp;&nbsp;&nbsp;&nbsp;\"label\": \"ionic&nbsp;&nbsp;energy&nbsp;&nbsp;tolerance\"<br>&nbsp;&nbsp;&nbsp;&nbsp;&nbsp;&nbsp;&nbsp;&nbsp;&nbsp;&nbsp;&nbsp;&nbsp;},<br>&nbsp;&nbsp;&nbsp;&nbsp;&nbsp;&nbsp;&nbsp;&nbsp;&nbsp;&nbsp;&nbsp;&nbsp;{<br>&nbsp;&nbsp;&nbsp;&nbsp;&nbsp;&nbsp;&nbsp;&nbsp;&nbsp;&nbsp;&nbsp;&nbsp;&nbsp;&nbsp;&nbsp;&nbsp;\"value\": 1e-08,<br>&nbsp;&nbsp;&nbsp;&nbsp;&nbsp;&nbsp;&nbsp;&nbsp;&nbsp;&nbsp;&nbsp;&nbsp;&nbsp;&nbsp;&nbsp;&nbsp;\"unit\": \"EV-PER-ANGSTROM\",<br>&nbsp;&nbsp;&nbsp;&nbsp;&nbsp;&nbsp;&nbsp;&nbsp;&nbsp;&nbsp;&nbsp;&nbsp;&nbsp;&nbsp;&nbsp;&nbsp;\"label\": \"force&nbsp;&nbsp;tolerance\"<br>&nbsp;&nbsp;&nbsp;&nbsp;&nbsp;&nbsp;&nbsp;&nbsp;&nbsp;&nbsp;&nbsp;&nbsp;},<br>&nbsp;&nbsp;&nbsp;&nbsp;&nbsp;&nbsp;&nbsp;&nbsp;&nbsp;&nbsp;&nbsp;&nbsp;{<br>&nbsp;&nbsp;&nbsp;&nbsp;&nbsp;&nbsp;&nbsp;&nbsp;&nbsp;&nbsp;&nbsp;&nbsp;&nbsp;&nbsp;&nbsp;&nbsp;\"value\": 100000,<br>&nbsp;&nbsp;&nbsp;&nbsp;&nbsp;&nbsp;&nbsp;&nbsp;&nbsp;&nbsp;&nbsp;&nbsp;&nbsp;&nbsp;&nbsp;&nbsp;\"label\": \"maximum&nbsp;&nbsp;iterations\"<br>&nbsp;&nbsp;&nbsp;&nbsp;&nbsp;&nbsp;&nbsp;&nbsp;&nbsp;&nbsp;&nbsp;&nbsp;}<br>&nbsp;&nbsp;&nbsp;&nbsp;&nbsp;&nbsp;&nbsp;&nbsp;],<br>&nbsp;&nbsp;&nbsp;&nbsp;&nbsp;&nbsp;&nbsp;&nbsp;\"ensemble\": null,<br>&nbsp;&nbsp;&nbsp;&nbsp;&nbsp;&nbsp;&nbsp;&nbsp;\"potential\": {<br>&nbsp;&nbsp;&nbsp;&nbsp;&nbsp;&nbsp;&nbsp;&nbsp;&nbsp;&nbsp;&nbsp;&nbsp;\"label\": \"2022--Sun-Y--Fe--LAMMPS--ipr1\",<br>&nbsp;&nbsp;&nbsp;&nbsp;&nbsp;&nbsp;&nbsp;&nbsp;&nbsp;&nbsp;&nbsp;&nbsp;\"@id\": \"https://doi.org/10.1073%2Fpnas.2113059119\"<br>&nbsp;&nbsp;&nbsp;&nbsp;&nbsp;&nbsp;&nbsp;&nbsp;}<br>&nbsp;&nbsp;&nbsp;&nbsp;},<br>&nbsp;&nbsp;&nbsp;&nbsp;\"dof\": [<br>&nbsp;&nbsp;&nbsp;&nbsp;&nbsp;&nbsp;&nbsp;&nbsp;\"http://purls.helmholtz-metadaten.de/asmo/AtomicPositionRelaxation\"<br>&nbsp;&nbsp;&nbsp;&nbsp;],<br>&nbsp;&nbsp;&nbsp;&nbsp;\"outputs\": [<br>&nbsp;&nbsp;&nbsp;&nbsp;&nbsp;&nbsp;&nbsp;&nbsp;{<br>&nbsp;&nbsp;&nbsp;&nbsp;&nbsp;&nbsp;&nbsp;&nbsp;&nbsp;&nbsp;&nbsp;&nbsp;\"label\": \"AverageTotalEnergy\",<br>&nbsp;&nbsp;&nbsp;&nbsp;&nbsp;&nbsp;&nbsp;&nbsp;&nbsp;&nbsp;&nbsp;&nbsp;\"value\": -8.0433,<br>&nbsp;&nbsp;&nbsp;&nbsp;&nbsp;&nbsp;&nbsp;&nbsp;&nbsp;&nbsp;&nbsp;&nbsp;\"unit\": \"EV\"<br>&nbsp;&nbsp;&nbsp;&nbsp;&nbsp;&nbsp;&nbsp;&nbsp;},<br>&nbsp;&nbsp;&nbsp;&nbsp;&nbsp;&nbsp;&nbsp;&nbsp;{<br>&nbsp;&nbsp;&nbsp;&nbsp;&nbsp;&nbsp;&nbsp;&nbsp;&nbsp;&nbsp;&nbsp;&nbsp;\"label\": \"FinalTotalEnergy\",<br>&nbsp;&nbsp;&nbsp;&nbsp;&nbsp;&nbsp;&nbsp;&nbsp;&nbsp;&nbsp;&nbsp;&nbsp;\"value\": -8.0433,<br>&nbsp;&nbsp;&nbsp;&nbsp;&nbsp;&nbsp;&nbsp;&nbsp;&nbsp;&nbsp;&nbsp;&nbsp;\"unit\": \"EV\"<br>&nbsp;&nbsp;&nbsp;&nbsp;&nbsp;&nbsp;&nbsp;&nbsp;},<br>&nbsp;&nbsp;&nbsp;&nbsp;&nbsp;&nbsp;&nbsp;&nbsp;{<br>&nbsp;&nbsp;&nbsp;&nbsp;&nbsp;&nbsp;&nbsp;&nbsp;&nbsp;&nbsp;&nbsp;&nbsp;\"label\": \"FinalPotentialEnergy\",<br>&nbsp;&nbsp;&nbsp;&nbsp;&nbsp;&nbsp;&nbsp;&nbsp;&nbsp;&nbsp;&nbsp;&nbsp;\"value\": -8.0433,<br>&nbsp;&nbsp;&nbsp;&nbsp;&nbsp;&nbsp;&nbsp;&nbsp;&nbsp;&nbsp;&nbsp;&nbsp;\"unit\": \"EV\"<br>&nbsp;&nbsp;&nbsp;&nbsp;&nbsp;&nbsp;&nbsp;&nbsp;},<br>&nbsp;&nbsp;&nbsp;&nbsp;&nbsp;&nbsp;&nbsp;&nbsp;{<br>&nbsp;&nbsp;&nbsp;&nbsp;&nbsp;&nbsp;&nbsp;&nbsp;&nbsp;&nbsp;&nbsp;&nbsp;\"label\": \"AverageTotalVolume\",<br>&nbsp;&nbsp;&nbsp;&nbsp;&nbsp;&nbsp;&nbsp;&nbsp;&nbsp;&nbsp;&nbsp;&nbsp;\"value\": 23.0275,<br>&nbsp;&nbsp;&nbsp;&nbsp;&nbsp;&nbsp;&nbsp;&nbsp;&nbsp;&nbsp;&nbsp;&nbsp;\"unit\": \"ANGSTROM3\"<br>&nbsp;&nbsp;&nbsp;&nbsp;&nbsp;&nbsp;&nbsp;&nbsp;},<br>&nbsp;&nbsp;&nbsp;&nbsp;&nbsp;&nbsp;&nbsp;&nbsp;{<br>&nbsp;&nbsp;&nbsp;&nbsp;&nbsp;&nbsp;&nbsp;&nbsp;&nbsp;&nbsp;&nbsp;&nbsp;\"label\": \"FinalTotalVolume\",<br>&nbsp;&nbsp;&nbsp;&nbsp;&nbsp;&nbsp;&nbsp;&nbsp;&nbsp;&nbsp;&nbsp;&nbsp;\"value\": 23.0275,<br>&nbsp;&nbsp;&nbsp;&nbsp;&nbsp;&nbsp;&nbsp;&nbsp;&nbsp;&nbsp;&nbsp;&nbsp;\"unit\": \"ANGSTROM3\"<br>&nbsp;&nbsp;&nbsp;&nbsp;&nbsp;&nbsp;&nbsp;&nbsp;},<br>&nbsp;&nbsp;&nbsp;&nbsp;&nbsp;&nbsp;&nbsp;&nbsp;{<br>&nbsp;&nbsp;&nbsp;&nbsp;&nbsp;&nbsp;&nbsp;&nbsp;&nbsp;&nbsp;&nbsp;&nbsp;\"label\": \"FinalMaximumForce\",<br>&nbsp;&nbsp;&nbsp;&nbsp;&nbsp;&nbsp;&nbsp;&nbsp;&nbsp;&nbsp;&nbsp;&nbsp;\"value\": 5e-16,<br>&nbsp;&nbsp;&nbsp;&nbsp;&nbsp;&nbsp;&nbsp;&nbsp;&nbsp;&nbsp;&nbsp;&nbsp;\"unit\": \"EV-PER-ANGSTROM\"<br>&nbsp;&nbsp;&nbsp;&nbsp;&nbsp;&nbsp;&nbsp;&nbsp;},<br>&nbsp;&nbsp;&nbsp;&nbsp;&nbsp;&nbsp;&nbsp;&nbsp;{<br>&nbsp;&nbsp;&nbsp;&nbsp;&nbsp;&nbsp;&nbsp;&nbsp;&nbsp;&nbsp;&nbsp;&nbsp;\"label\": \"NumberIonicSteps\",<br>&nbsp;&nbsp;&nbsp;&nbsp;&nbsp;&nbsp;&nbsp;&nbsp;&nbsp;&nbsp;&nbsp;&nbsp;\"value\": 1<br>&nbsp;&nbsp;&nbsp;&nbsp;&nbsp;&nbsp;&nbsp;&nbsp;}<br>&nbsp;&nbsp;&nbsp;&nbsp;],<br>&nbsp;&nbsp;&nbsp;&nbsp;\"workflow_manager\": {<br>&nbsp;&nbsp;&nbsp;&nbsp;&nbsp;&nbsp;&nbsp;&nbsp;\"@id\": \"http://demo.fiz-karlsruhe.de/matwerk/E457491\",<br>&nbsp;&nbsp;&nbsp;&nbsp;&nbsp;&nbsp;&nbsp;&nbsp;\"label\": \"pyiron_atomistics=0.6.14,&nbsp;&nbsp;pyiron_workflow=0.11.0\"<br>&nbsp;&nbsp;&nbsp;&nbsp;},<br>&nbsp;&nbsp;&nbsp;&nbsp;\"software\": [<br>&nbsp;&nbsp;&nbsp;&nbsp;&nbsp;&nbsp;&nbsp;&nbsp;{<br>&nbsp;&nbsp;&nbsp;&nbsp;&nbsp;&nbsp;&nbsp;&nbsp;&nbsp;&nbsp;&nbsp;&nbsp;\"@id\": \"http://demo.fiz-karlsruhe.de/matwerk/E447986\",<br>&nbsp;&nbsp;&nbsp;&nbsp;&nbsp;&nbsp;&nbsp;&nbsp;&nbsp;&nbsp;&nbsp;&nbsp;\"label\": \"LAMMPS&nbsp;&nbsp;2018.03.16\"<br>&nbsp;&nbsp;&nbsp;&nbsp;&nbsp;&nbsp;&nbsp;&nbsp;}<br>&nbsp;&nbsp;&nbsp;&nbsp;],<br>&nbsp;&nbsp;&nbsp;&nbsp;\"job_details\": [<br>&nbsp;&nbsp;&nbsp;&nbsp;&nbsp;&nbsp;&nbsp;&nbsp;{<br>&nbsp;&nbsp;&nbsp;&nbsp;&nbsp;&nbsp;&nbsp;&nbsp;&nbsp;&nbsp;&nbsp;&nbsp;\"label\": \"job_name\",<br>&nbsp;&nbsp;&nbsp;&nbsp;&nbsp;&nbsp;&nbsp;&nbsp;&nbsp;&nbsp;&nbsp;&nbsp;\"value\": \"test_lammps_gui\"<br>&nbsp;&nbsp;&nbsp;&nbsp;&nbsp;&nbsp;&nbsp;&nbsp;},<br>&nbsp;&nbsp;&nbsp;&nbsp;&nbsp;&nbsp;&nbsp;&nbsp;{<br>&nbsp;&nbsp;&nbsp;&nbsp;&nbsp;&nbsp;&nbsp;&nbsp;&nbsp;&nbsp;&nbsp;&nbsp;\"label\": \"project_name\",<br>&nbsp;&nbsp;&nbsp;&nbsp;&nbsp;&nbsp;&nbsp;&nbsp;&nbsp;&nbsp;&nbsp;&nbsp;\"value\": \"test_complete\"<br>&nbsp;&nbsp;&nbsp;&nbsp;&nbsp;&nbsp;&nbsp;&nbsp;},<br>&nbsp;&nbsp;&nbsp;&nbsp;&nbsp;&nbsp;&nbsp;&nbsp;{<br>&nbsp;&nbsp;&nbsp;&nbsp;&nbsp;&nbsp;&nbsp;&nbsp;&nbsp;&nbsp;&nbsp;&nbsp;\"label\": \"job_type\",<br>&nbsp;&nbsp;&nbsp;&nbsp;&nbsp;&nbsp;&nbsp;&nbsp;&nbsp;&nbsp;&nbsp;&nbsp;\"value\": \"Lammps\"<br>&nbsp;&nbsp;&nbsp;&nbsp;&nbsp;&nbsp;&nbsp;&nbsp;},<br>&nbsp;&nbsp;&nbsp;&nbsp;&nbsp;&nbsp;&nbsp;&nbsp;{<br>&nbsp;&nbsp;&nbsp;&nbsp;&nbsp;&nbsp;&nbsp;&nbsp;&nbsp;&nbsp;&nbsp;&nbsp;\"label\": \"job_status\",<br>&nbsp;&nbsp;&nbsp;&nbsp;&nbsp;&nbsp;&nbsp;&nbsp;&nbsp;&nbsp;&nbsp;&nbsp;\"value\": \"finished\"<br>&nbsp;&nbsp;&nbsp;&nbsp;&nbsp;&nbsp;&nbsp;&nbsp;},<br>&nbsp;&nbsp;&nbsp;&nbsp;&nbsp;&nbsp;&nbsp;&nbsp;{<br>&nbsp;&nbsp;&nbsp;&nbsp;&nbsp;&nbsp;&nbsp;&nbsp;&nbsp;&nbsp;&nbsp;&nbsp;\"label\": \"job_starttime\",<br>&nbsp;&nbsp;&nbsp;&nbsp;&nbsp;&nbsp;&nbsp;&nbsp;&nbsp;&nbsp;&nbsp;&nbsp;\"value\": \"2024-10-24&nbsp;&nbsp;11:31:24\"<br>&nbsp;&nbsp;&nbsp;&nbsp;&nbsp;&nbsp;&nbsp;&nbsp;},<br>&nbsp;&nbsp;&nbsp;&nbsp;&nbsp;&nbsp;&nbsp;&nbsp;{<br>&nbsp;&nbsp;&nbsp;&nbsp;&nbsp;&nbsp;&nbsp;&nbsp;&nbsp;&nbsp;&nbsp;&nbsp;\"label\": \"job_stoptime\",<br>&nbsp;&nbsp;&nbsp;&nbsp;&nbsp;&nbsp;&nbsp;&nbsp;&nbsp;&nbsp;&nbsp;&nbsp;\"value\": \"2024-10-24&nbsp;&nbsp;11:31:24\"<br>&nbsp;&nbsp;&nbsp;&nbsp;&nbsp;&nbsp;&nbsp;&nbsp;},<br>&nbsp;&nbsp;&nbsp;&nbsp;&nbsp;&nbsp;&nbsp;&nbsp;{<br>&nbsp;&nbsp;&nbsp;&nbsp;&nbsp;&nbsp;&nbsp;&nbsp;&nbsp;&nbsp;&nbsp;&nbsp;\"label\": \"sim_coretime_hours\",<br>&nbsp;&nbsp;&nbsp;&nbsp;&nbsp;&nbsp;&nbsp;&nbsp;&nbsp;&nbsp;&nbsp;&nbsp;\"value\": 0.0<br>&nbsp;&nbsp;&nbsp;&nbsp;&nbsp;&nbsp;&nbsp;&nbsp;},<br>&nbsp;&nbsp;&nbsp;&nbsp;&nbsp;&nbsp;&nbsp;&nbsp;{<br>&nbsp;&nbsp;&nbsp;&nbsp;&nbsp;&nbsp;&nbsp;&nbsp;&nbsp;&nbsp;&nbsp;&nbsp;\"label\": \"number_cores\",<br>&nbsp;&nbsp;&nbsp;&nbsp;&nbsp;&nbsp;&nbsp;&nbsp;&nbsp;&nbsp;&nbsp;&nbsp;\"value\": 1<br>&nbsp;&nbsp;&nbsp;&nbsp;&nbsp;&nbsp;&nbsp;&nbsp;}<br>&nbsp;&nbsp;&nbsp;&nbsp;],<br>&nbsp;&nbsp;&nbsp;&nbsp;\"path\": \"C:/Users/pkruziko/Documents/pyiron/pyiron_wf_openbis/test_complete/test_lammps_gui_hdf5\"<br>}</td><td>Conceptual dictionary associated with pyiron job//Begriffswörterbuch zu pyiron job</td><td>MULTILINE_VARCHAR</td><td>False</td></tr><tr><td>$xmlcomments</td><td></td><td>Comments log</td><td>XML</td><td>False</td></tr>\n",
       "            </tbody>\n",
       "            </table>\n",
       "        "
      ],
      "text/plain": [
       "property                   value\n",
       "-------------------------  ------------------------------------------------------------------------------------------------------------------------------------------------------------------------------------------------------------------------------------------------------------------------------------------------------------------------------------------------------------------------------------------------------------------------------------------------------------------------------------------------------------------------------------------------------------------------------------------------------------------------------------------------------------------------------------------------------------------------------------------------------------------------------------------------------------------------------------------------------------------------------------------------------------------------------------------------------------------------------------------------------------------------------------------------------------------------------------------------------------------------------------------------------------------------------------------------------------------------------------------------------------------------------------------------------------------------------------------------------------------------------------------------------------------------------------------------------------------------------------------------------------------------------------------------------------------------------------------------------------------------------------------------------------------------------------------------------------------------------------------------------------------------------------------------------------------------------------------------------------------------------------------------------------------------------------------------------------------------------------------------------------------------------------------------------------------------------------------------------------------------------------------------------------------------------------------------------------------------------------------------------------------------------------------------------------------------------------------------------------------------------------------------------------------------------------------------------------------------------------------------------------------------------------------------------------------------------------------------------------------------------------------------------------------------------------------------------------------------------------------------------------------------------------------------------------------------------------------------------------------------------------------------------------------------------------------------------------------------------------------------------------------------------------------------------------------------------------------------------------------------------------------------------------------------------------------------------------------------------------------------------------------------------------------------------------------------------------------------------------------------------------------------------------------------------------------------------------------------------------------------------------------------------------------------------------------------------------------------------------------------------------------------------------------------------------------------------------------------------------------------------------------------------------------------------------------------------------------------------------------------------------------------------------------------------------------------------------------------------------------------------------------------------------------------------------------------------------------------------------------------------------------------------------------------------------------------------------------------------------------------------------------------------------------------------------------------------------------------------------------------------------------------------------------------------------------------------------------------------------------------------------------------------------------------------------------------------------------------------------------------------------------------------------------------------------------------------------------------------------------------------------------------------------------------------------------------------------------------------------------------------------------------------------------------------------------------------------------------------------------------------------------------------------------------------------------------------------------------------------------------------------------------------------------------------------------------------------------------------------------------------------------------------------------------------------------------------------------------------------------------------------------------------------------------------------------------------------------------------------------------------------------------------------------------------------------------------------------------------------------------------------------------------------------------------------------------------------------------------------------------------------------------------------------------------------------------------------------------------------------------------------------------------------------------------------------------------------------------------------------------------------------------------------------------------------------------------------------------------------------------------------------------------------------------------------------------------------------------------------------------------------------------------------------------------------------------------------------------------------------------------------------------------------------------------------------------------------------------------------------------------------------------------------------------------------------------------------------------------------------------------------------------------------------------------------------------------------------------------------------------------------------------------------------------------------------------------------------------------------------------------------------------------------------------------------------------------------------------------------------------------------------------------------------------------------------------------------------------------------------------------------------------------------------------------------------------------------------------------------------------------------------------------------------------------------------------------------------------------------------------------------------------------------------------------------------------------------------------------------------------------------------------------------------------------------------------------------------------------------------------------------------------------------------------------------------------------------------------------------------------------------------------------------------------------------------------------------------------------------------------------------------------------------------------------------------------------------------------------------------------------------------------------------------------------------------------------------------------------------------------------------------------------------------------------------------------------------------------------------------------------------------------------------------------------------------------------------------------------------------------------------------------------------------------------------------------------------------------------------------------------------------------------------------------------------------------------------------------------------------------------------------------------------------------------------------------------------------------------------------------------------------------------------------------------------------------------------------------------------------------------------------------------------------------------------------------------------------------------------------------------------------------------------------------------------------------------------------------------------------------------------------------------------------------------------------------------------------------------------------------------------------------------------------------------------------------------------------------------------------------------------------------------------------------------------------------------------------------------------------------------------------------------------------------------------------------------------------------------------------------------------------------------------------------------------------------------------------------------------------------------------------------------------------------------------------------------------------------------------------------------------------------------------------------------------------------------------------------------------------------------------------------------------------------------------------------------------------------------------------------------------------------------------------------------------------------------------------------------------------------------------------------------------------------------------------------------------------------------------------------------------------------------------------------------------------------------------------------------------------------------------------------------------------------------------------------------------------------------------------------------------------------------------------------------------------------------------------------------------------------------------------------------------------------------------------------------------------------------------------------------------------------------------------------------------------------------------------------------------------------------------------------------------------------------------------------------------------------------------------------------------------------------------------------------------------------------------------------------------------------------------------------------------------------------------------------------------------------------------------------------------------------------------------------------------------------------------------------------------------------------------------------------------------------------------------------------------------------------------------------------------------------------------------------------------------------------------------------------------------------\n",
       "$name                      test_lammps_gui\n",
       "description                <figure class=\"image image_resized image-style-align-left\" style=\"width:9%;\"><img src=\"/openbis/openbis/file-service/eln-lims/30/77/c8/3077c8f8-0e55-41e5-9021-7ed43863e5a4/cc44149e-b2d4-4850-9f88-7a4cd54c1a66.png\"></figure><p><br>Lammps simulation using pyiron for energy minimization/structural optimization.<br>&nbsp;</p><p><span style=\"color:hsl(240,75%,60%);\"><strong>Scroll down below other properties to view conceptual dictionary with ontological ids of selected properties and values.</strong></span></p><p>The conceptual dictionary is in JSON-LD format. Learn more about it <a href=\"https://www.w3.org/ns/json-ld/\">here</a><br>&nbsp;</p>\n",
       "bam_username               pkruziko\n",
       "workflow_manager           pyiron_atomistics=0.6.14, pyiron_workflow=0.11.0\n",
       "sim_job_finished           True\n",
       "start_date                 2024-10-24 11:31:24 +0200\n",
       "sim_walltime_in_hours      0.0\n",
       "sim_coretime_in_hours      0.0\n",
       "ncores                     1\n",
       "ngpus\n",
       "nthreads\n",
       "hpc_job_queue\n",
       "hpc_job_id\n",
       "atomistic_calc_type        ATOM_CALC_STRUC_OPT\n",
       "periodic_boundary_x        True\n",
       "periodic_boundary_y        True\n",
       "periodic_boundary_z        True\n",
       "atom_cell_vol_relax        False\n",
       "atom_cell_shp_relax        False\n",
       "atom_pos_relax             True\n",
       "atom_md_ensemble\n",
       "atom_ionic_min_algo        MIN_ALGO_FIRE\n",
       "atom_md_time_stp_in_ps\n",
       "atom_sim_time_ps_in_ps\n",
       "atom_md_langevin\n",
       "max_iters                  100000\n",
       "atom_e_tol_ion_in_ev       0.0\n",
       "atom_f_tol_in_ev_a         1.0E-8\n",
       "atom_md_init_temp_in_k\n",
       "atom_md_init_press_in_gpa\n",
       "atom_md_targ_temp_in_k\n",
       "atom_targ_press_in_gpa\n",
       "atom_ionic_steps           1\n",
       "atom_md_avg_temp_in_k\n",
       "atom_avg_press_in_gpa\n",
       "atom_fin_tot_eng_in_ev     -8.0433\n",
       "atom_avg_tot_eng_in_ev\n",
       "atom_fin_vol_in_a3         23.0275\n",
       "atom_avg_vol_in_a3\n",
       "atom_fin_pot_eng_in_ev     -8.0433\n",
       "atom_avg_pot_eng_in_ev\n",
       "atom_fin_fnorm_in_ev_a\n",
       "atom_avg_fnorm_in_ev_a\n",
       "atom_force_max_in_ev_a     5.0E-16\n",
       "notes\n",
       "conceptual_dictionary      {<br>&nbsp;&nbsp;&nbsp;&nbsp;\"@context\": {<br>&nbsp;&nbsp;&nbsp;&nbsp;&nbsp;&nbsp;&nbsp;&nbsp;\"sample\": \"http://purls.helmholtz-metadaten.de/cmso/AtomicScaleSample\",<br>&nbsp;&nbsp;&nbsp;&nbsp;&nbsp;&nbsp;&nbsp;&nbsp;\"path\": \"http://purls.helmholtz-metadaten.de/cmso/hasPath\",<br>&nbsp;&nbsp;&nbsp;&nbsp;&nbsp;&nbsp;&nbsp;&nbsp;\"dof\": \"http://purls.helmholtz-metadaten.de/asmo/hasRelaxationDOF\",<br>&nbsp;&nbsp;&nbsp;&nbsp;&nbsp;&nbsp;&nbsp;&nbsp;\"inputs\": \"http://purls.helmholtz-metadaten.de/asmo/hasInputParameter\",<br>&nbsp;&nbsp;&nbsp;&nbsp;&nbsp;&nbsp;&nbsp;&nbsp;\"label\": \"http://www.w3.org/2000/01/rdf-schema#label\",<br>&nbsp;&nbsp;&nbsp;&nbsp;&nbsp;&nbsp;&nbsp;&nbsp;\"unit\": \"http://purls.helmholtz-metadaten.de/asmo/hasUnit\",<br>&nbsp;&nbsp;&nbsp;&nbsp;&nbsp;&nbsp;&nbsp;&nbsp;\"value\": \"http://purls.helmholtz-metadaten.de/asmo/hasValue\",<br>&nbsp;&nbsp;&nbsp;&nbsp;&nbsp;&nbsp;&nbsp;&nbsp;\"outputs\": \"http://purls.helmholtz-metadaten.de/cmso/hasCalculatedProperty\",<br>&nbsp;&nbsp;&nbsp;&nbsp;&nbsp;&nbsp;&nbsp;&nbsp;\"molecular_dynamics\": \"http://purls.helmholtz-metadaten.de/asmo/MolecularDynamics\",<br>&nbsp;&nbsp;&nbsp;&nbsp;&nbsp;&nbsp;&nbsp;&nbsp;\"molecular_statics\": \"http://purls.helmholtz-metadaten.de/asmo/MolecularStatics\",<br>&nbsp;&nbsp;&nbsp;&nbsp;&nbsp;&nbsp;&nbsp;&nbsp;\"ensemble\": \"http://purls.helmholtz-metadaten.de/asmo/hasStatisticalEnsemble\",<br>&nbsp;&nbsp;&nbsp;&nbsp;&nbsp;&nbsp;&nbsp;&nbsp;\"potential\": \"http://purls.helmholtz-metadaten.de/asmo/EmbeddedAtomModel\"<br>&nbsp;&nbsp;&nbsp;&nbsp;},<br>&nbsp;&nbsp;&nbsp;&nbsp;\"molecular_statics\": {<br>&nbsp;&nbsp;&nbsp;&nbsp;&nbsp;&nbsp;&nbsp;&nbsp;\"minimization_algorithm\": \"fire\",<br>&nbsp;&nbsp;&nbsp;&nbsp;&nbsp;&nbsp;&nbsp;&nbsp;\"periodicity_in_x\": true,<br>&nbsp;&nbsp;&nbsp;&nbsp;&nbsp;&nbsp;&nbsp;&nbsp;\"periodicity_in_y\": true,<br>&nbsp;&nbsp;&nbsp;&nbsp;&nbsp;&nbsp;&nbsp;&nbsp;\"periodicity_in_z\": true,<br>&nbsp;&nbsp;&nbsp;&nbsp;&nbsp;&nbsp;&nbsp;&nbsp;\"inputs\": [<br>&nbsp;&nbsp;&nbsp;&nbsp;&nbsp;&nbsp;&nbsp;&nbsp;&nbsp;&nbsp;&nbsp;&nbsp;{<br>&nbsp;&nbsp;&nbsp;&nbsp;&nbsp;&nbsp;&nbsp;&nbsp;&nbsp;&nbsp;&nbsp;&nbsp;&nbsp;&nbsp;&nbsp;&nbsp;\"value\": null,<br>&nbsp;&nbsp;&nbsp;&nbsp;&nbsp;&nbsp;&nbsp;&nbsp;&nbsp;&nbsp;&nbsp;&nbsp;&nbsp;&nbsp;&nbsp;&nbsp;\"unit\": \"K\",<br>&nbsp;&nbsp;&nbsp;&nbsp;&nbsp;&nbsp;&nbsp;&nbsp;&nbsp;&nbsp;&nbsp;&nbsp;&nbsp;&nbsp;&nbsp;&nbsp;\"label\": \"temperature\"<br>&nbsp;&nbsp;&nbsp;&nbsp;&nbsp;&nbsp;&nbsp;&nbsp;&nbsp;&nbsp;&nbsp;&nbsp;},<br>&nbsp;&nbsp;&nbsp;&nbsp;&nbsp;&nbsp;&nbsp;&nbsp;&nbsp;&nbsp;&nbsp;&nbsp;{<br>&nbsp;&nbsp;&nbsp;&nbsp;&nbsp;&nbsp;&nbsp;&nbsp;&nbsp;&nbsp;&nbsp;&nbsp;&nbsp;&nbsp;&nbsp;&nbsp;\"value\": null,<br>&nbsp;&nbsp;&nbsp;&nbsp;&nbsp;&nbsp;&nbsp;&nbsp;&nbsp;&nbsp;&nbsp;&nbsp;&nbsp;&nbsp;&nbsp;&nbsp;\"unit\": \"GigaPA\",<br>&nbsp;&nbsp;&nbsp;&nbsp;&nbsp;&nbsp;&nbsp;&nbsp;&nbsp;&nbsp;&nbsp;&nbsp;&nbsp;&nbsp;&nbsp;&nbsp;\"label\": \"pressure\"<br>&nbsp;&nbsp;&nbsp;&nbsp;&nbsp;&nbsp;&nbsp;&nbsp;&nbsp;&nbsp;&nbsp;&nbsp;},<br>&nbsp;&nbsp;&nbsp;&nbsp;&nbsp;&nbsp;&nbsp;&nbsp;&nbsp;&nbsp;&nbsp;&nbsp;{<br>&nbsp;&nbsp;&nbsp;&nbsp;&nbsp;&nbsp;&nbsp;&nbsp;&nbsp;&nbsp;&nbsp;&nbsp;&nbsp;&nbsp;&nbsp;&nbsp;\"value\": 0.0,<br>&nbsp;&nbsp;&nbsp;&nbsp;&nbsp;&nbsp;&nbsp;&nbsp;&nbsp;&nbsp;&nbsp;&nbsp;&nbsp;&nbsp;&nbsp;&nbsp;\"unit\": \"EV\",<br>&nbsp;&nbsp;&nbsp;&nbsp;&nbsp;&nbsp;&nbsp;&nbsp;&nbsp;&nbsp;&nbsp;&nbsp;&nbsp;&nbsp;&nbsp;&nbsp;\"label\": \"ionic&nbsp;&nbsp;energy&nbsp;&nbsp;tolerance\"<br>&nbsp;&nbsp;&nbsp;&nbsp;&nbsp;&nbsp;&nbsp;&nbsp;&nbsp;&nbsp;&nbsp;&nbsp;},<br>&nbsp;&nbsp;&nbsp;&nbsp;&nbsp;&nbsp;&nbsp;&nbsp;&nbsp;&nbsp;&nbsp;&nbsp;{<br>&nbsp;&nbsp;&nbsp;&nbsp;&nbsp;&nbsp;&nbsp;&nbsp;&nbsp;&nbsp;&nbsp;&nbsp;&nbsp;&nbsp;&nbsp;&nbsp;\"value\": 1e-08,<br>&nbsp;&nbsp;&nbsp;&nbsp;&nbsp;&nbsp;&nbsp;&nbsp;&nbsp;&nbsp;&nbsp;&nbsp;&nbsp;&nbsp;&nbsp;&nbsp;\"unit\": \"EV-PER-ANGSTROM\",<br>&nbsp;&nbsp;&nbsp;&nbsp;&nbsp;&nbsp;&nbsp;&nbsp;&nbsp;&nbsp;&nbsp;&nbsp;&nbsp;&nbsp;&nbsp;&nbsp;\"label\": \"force&nbsp;&nbsp;tolerance\"<br>&nbsp;&nbsp;&nbsp;&nbsp;&nbsp;&nbsp;&nbsp;&nbsp;&nbsp;&nbsp;&nbsp;&nbsp;},<br>&nbsp;&nbsp;&nbsp;&nbsp;&nbsp;&nbsp;&nbsp;&nbsp;&nbsp;&nbsp;&nbsp;&nbsp;{<br>&nbsp;&nbsp;&nbsp;&nbsp;&nbsp;&nbsp;&nbsp;&nbsp;&nbsp;&nbsp;&nbsp;&nbsp;&nbsp;&nbsp;&nbsp;&nbsp;\"value\": 100000,<br>&nbsp;&nbsp;&nbsp;&nbsp;&nbsp;&nbsp;&nbsp;&nbsp;&nbsp;&nbsp;&nbsp;&nbsp;&nbsp;&nbsp;&nbsp;&nbsp;\"label\": \"maximum&nbsp;&nbsp;iterations\"<br>&nbsp;&nbsp;&nbsp;&nbsp;&nbsp;&nbsp;&nbsp;&nbsp;&nbsp;&nbsp;&nbsp;&nbsp;}<br>&nbsp;&nbsp;&nbsp;&nbsp;&nbsp;&nbsp;&nbsp;&nbsp;],<br>&nbsp;&nbsp;&nbsp;&nbsp;&nbsp;&nbsp;&nbsp;&nbsp;\"ensemble\": null,<br>&nbsp;&nbsp;&nbsp;&nbsp;&nbsp;&nbsp;&nbsp;&nbsp;\"potential\": {<br>&nbsp;&nbsp;&nbsp;&nbsp;&nbsp;&nbsp;&nbsp;&nbsp;&nbsp;&nbsp;&nbsp;&nbsp;\"label\": \"2022--Sun-Y--Fe--LAMMPS--ipr1\",<br>&nbsp;&nbsp;&nbsp;&nbsp;&nbsp;&nbsp;&nbsp;&nbsp;&nbsp;&nbsp;&nbsp;&nbsp;\"@id\": \"https://doi.org/10.1073%2Fpnas.2113059119\"<br>&nbsp;&nbsp;&nbsp;&nbsp;&nbsp;&nbsp;&nbsp;&nbsp;}<br>&nbsp;&nbsp;&nbsp;&nbsp;},<br>&nbsp;&nbsp;&nbsp;&nbsp;\"dof\": [<br>&nbsp;&nbsp;&nbsp;&nbsp;&nbsp;&nbsp;&nbsp;&nbsp;\"http://purls.helmholtz-metadaten.de/asmo/AtomicPositionRelaxation\"<br>&nbsp;&nbsp;&nbsp;&nbsp;],<br>&nbsp;&nbsp;&nbsp;&nbsp;\"outputs\": [<br>&nbsp;&nbsp;&nbsp;&nbsp;&nbsp;&nbsp;&nbsp;&nbsp;{<br>&nbsp;&nbsp;&nbsp;&nbsp;&nbsp;&nbsp;&nbsp;&nbsp;&nbsp;&nbsp;&nbsp;&nbsp;\"label\": \"AverageTotalEnergy\",<br>&nbsp;&nbsp;&nbsp;&nbsp;&nbsp;&nbsp;&nbsp;&nbsp;&nbsp;&nbsp;&nbsp;&nbsp;\"value\": -8.0433,<br>&nbsp;&nbsp;&nbsp;&nbsp;&nbsp;&nbsp;&nbsp;&nbsp;&nbsp;&nbsp;&nbsp;&nbsp;\"unit\": \"EV\"<br>&nbsp;&nbsp;&nbsp;&nbsp;&nbsp;&nbsp;&nbsp;&nbsp;},<br>&nbsp;&nbsp;&nbsp;&nbsp;&nbsp;&nbsp;&nbsp;&nbsp;{<br>&nbsp;&nbsp;&nbsp;&nbsp;&nbsp;&nbsp;&nbsp;&nbsp;&nbsp;&nbsp;&nbsp;&nbsp;\"label\": \"FinalTotalEnergy\",<br>&nbsp;&nbsp;&nbsp;&nbsp;&nbsp;&nbsp;&nbsp;&nbsp;&nbsp;&nbsp;&nbsp;&nbsp;\"value\": -8.0433,<br>&nbsp;&nbsp;&nbsp;&nbsp;&nbsp;&nbsp;&nbsp;&nbsp;&nbsp;&nbsp;&nbsp;&nbsp;\"unit\": \"EV\"<br>&nbsp;&nbsp;&nbsp;&nbsp;&nbsp;&nbsp;&nbsp;&nbsp;},<br>&nbsp;&nbsp;&nbsp;&nbsp;&nbsp;&nbsp;&nbsp;&nbsp;{<br>&nbsp;&nbsp;&nbsp;&nbsp;&nbsp;&nbsp;&nbsp;&nbsp;&nbsp;&nbsp;&nbsp;&nbsp;\"label\": \"FinalPotentialEnergy\",<br>&nbsp;&nbsp;&nbsp;&nbsp;&nbsp;&nbsp;&nbsp;&nbsp;&nbsp;&nbsp;&nbsp;&nbsp;\"value\": -8.0433,<br>&nbsp;&nbsp;&nbsp;&nbsp;&nbsp;&nbsp;&nbsp;&nbsp;&nbsp;&nbsp;&nbsp;&nbsp;\"unit\": \"EV\"<br>&nbsp;&nbsp;&nbsp;&nbsp;&nbsp;&nbsp;&nbsp;&nbsp;},<br>&nbsp;&nbsp;&nbsp;&nbsp;&nbsp;&nbsp;&nbsp;&nbsp;{<br>&nbsp;&nbsp;&nbsp;&nbsp;&nbsp;&nbsp;&nbsp;&nbsp;&nbsp;&nbsp;&nbsp;&nbsp;\"label\": \"AverageTotalVolume\",<br>&nbsp;&nbsp;&nbsp;&nbsp;&nbsp;&nbsp;&nbsp;&nbsp;&nbsp;&nbsp;&nbsp;&nbsp;\"value\": 23.0275,<br>&nbsp;&nbsp;&nbsp;&nbsp;&nbsp;&nbsp;&nbsp;&nbsp;&nbsp;&nbsp;&nbsp;&nbsp;\"unit\": \"ANGSTROM3\"<br>&nbsp;&nbsp;&nbsp;&nbsp;&nbsp;&nbsp;&nbsp;&nbsp;},<br>&nbsp;&nbsp;&nbsp;&nbsp;&nbsp;&nbsp;&nbsp;&nbsp;{<br>&nbsp;&nbsp;&nbsp;&nbsp;&nbsp;&nbsp;&nbsp;&nbsp;&nbsp;&nbsp;&nbsp;&nbsp;\"label\": \"FinalTotalVolume\",<br>&nbsp;&nbsp;&nbsp;&nbsp;&nbsp;&nbsp;&nbsp;&nbsp;&nbsp;&nbsp;&nbsp;&nbsp;\"value\": 23.0275,<br>&nbsp;&nbsp;&nbsp;&nbsp;&nbsp;&nbsp;&nbsp;&nbsp;&nbsp;&nbsp;&nbsp;&nbsp;\"unit\": \"ANGSTROM3\"<br>&nbsp;&nbsp;&nbsp;&nbsp;&nbsp;&nbsp;&nbsp;&nbsp;},<br>&nbsp;&nbsp;&nbsp;&nbsp;&nbsp;&nbsp;&nbsp;&nbsp;{<br>&nbsp;&nbsp;&nbsp;&nbsp;&nbsp;&nbsp;&nbsp;&nbsp;&nbsp;&nbsp;&nbsp;&nbsp;\"label\": \"FinalMaximumForce\",<br>&nbsp;&nbsp;&nbsp;&nbsp;&nbsp;&nbsp;&nbsp;&nbsp;&nbsp;&nbsp;&nbsp;&nbsp;\"value\": 5e-16,<br>&nbsp;&nbsp;&nbsp;&nbsp;&nbsp;&nbsp;&nbsp;&nbsp;&nbsp;&nbsp;&nbsp;&nbsp;\"unit\": \"EV-PER-ANGSTROM\"<br>&nbsp;&nbsp;&nbsp;&nbsp;&nbsp;&nbsp;&nbsp;&nbsp;},<br>&nbsp;&nbsp;&nbsp;&nbsp;&nbsp;&nbsp;&nbsp;&nbsp;{<br>&nbsp;&nbsp;&nbsp;&nbsp;&nbsp;&nbsp;&nbsp;&nbsp;&nbsp;&nbsp;&nbsp;&nbsp;\"label\": \"NumberIonicSteps\",<br>&nbsp;&nbsp;&nbsp;&nbsp;&nbsp;&nbsp;&nbsp;&nbsp;&nbsp;&nbsp;&nbsp;&nbsp;\"value\": 1<br>&nbsp;&nbsp;&nbsp;&nbsp;&nbsp;&nbsp;&nbsp;&nbsp;}<br>&nbsp;&nbsp;&nbsp;&nbsp;],<br>&nbsp;&nbsp;&nbsp;&nbsp;\"workflow_manager\": {<br>&nbsp;&nbsp;&nbsp;&nbsp;&nbsp;&nbsp;&nbsp;&nbsp;\"@id\": \"http://demo.fiz-karlsruhe.de/matwerk/E457491\",<br>&nbsp;&nbsp;&nbsp;&nbsp;&nbsp;&nbsp;&nbsp;&nbsp;\"label\": \"pyiron_atomistics=0.6.14,&nbsp;&nbsp;pyiron_workflow=0.11.0\"<br>&nbsp;&nbsp;&nbsp;&nbsp;},<br>&nbsp;&nbsp;&nbsp;&nbsp;\"software\": [<br>&nbsp;&nbsp;&nbsp;&nbsp;&nbsp;&nbsp;&nbsp;&nbsp;{<br>&nbsp;&nbsp;&nbsp;&nbsp;&nbsp;&nbsp;&nbsp;&nbsp;&nbsp;&nbsp;&nbsp;&nbsp;\"@id\": \"http://demo.fiz-karlsruhe.de/matwerk/E447986\",<br>&nbsp;&nbsp;&nbsp;&nbsp;&nbsp;&nbsp;&nbsp;&nbsp;&nbsp;&nbsp;&nbsp;&nbsp;\"label\": \"LAMMPS&nbsp;&nbsp;2018.03.16\"<br>&nbsp;&nbsp;&nbsp;&nbsp;&nbsp;&nbsp;&nbsp;&nbsp;}<br>&nbsp;&nbsp;&nbsp;&nbsp;],<br>&nbsp;&nbsp;&nbsp;&nbsp;\"job_details\": [<br>&nbsp;&nbsp;&nbsp;&nbsp;&nbsp;&nbsp;&nbsp;&nbsp;{<br>&nbsp;&nbsp;&nbsp;&nbsp;&nbsp;&nbsp;&nbsp;&nbsp;&nbsp;&nbsp;&nbsp;&nbsp;\"label\": \"job_name\",<br>&nbsp;&nbsp;&nbsp;&nbsp;&nbsp;&nbsp;&nbsp;&nbsp;&nbsp;&nbsp;&nbsp;&nbsp;\"value\": \"test_lammps_gui\"<br>&nbsp;&nbsp;&nbsp;&nbsp;&nbsp;&nbsp;&nbsp;&nbsp;},<br>&nbsp;&nbsp;&nbsp;&nbsp;&nbsp;&nbsp;&nbsp;&nbsp;{<br>&nbsp;&nbsp;&nbsp;&nbsp;&nbsp;&nbsp;&nbsp;&nbsp;&nbsp;&nbsp;&nbsp;&nbsp;\"label\": \"project_name\",<br>&nbsp;&nbsp;&nbsp;&nbsp;&nbsp;&nbsp;&nbsp;&nbsp;&nbsp;&nbsp;&nbsp;&nbsp;\"value\": \"test_complete\"<br>&nbsp;&nbsp;&nbsp;&nbsp;&nbsp;&nbsp;&nbsp;&nbsp;},<br>&nbsp;&nbsp;&nbsp;&nbsp;&nbsp;&nbsp;&nbsp;&nbsp;{<br>&nbsp;&nbsp;&nbsp;&nbsp;&nbsp;&nbsp;&nbsp;&nbsp;&nbsp;&nbsp;&nbsp;&nbsp;\"label\": \"job_type\",<br>&nbsp;&nbsp;&nbsp;&nbsp;&nbsp;&nbsp;&nbsp;&nbsp;&nbsp;&nbsp;&nbsp;&nbsp;\"value\": \"Lammps\"<br>&nbsp;&nbsp;&nbsp;&nbsp;&nbsp;&nbsp;&nbsp;&nbsp;},<br>&nbsp;&nbsp;&nbsp;&nbsp;&nbsp;&nbsp;&nbsp;&nbsp;{<br>&nbsp;&nbsp;&nbsp;&nbsp;&nbsp;&nbsp;&nbsp;&nbsp;&nbsp;&nbsp;&nbsp;&nbsp;\"label\": \"job_status\",<br>&nbsp;&nbsp;&nbsp;&nbsp;&nbsp;&nbsp;&nbsp;&nbsp;&nbsp;&nbsp;&nbsp;&nbsp;\"value\": \"finished\"<br>&nbsp;&nbsp;&nbsp;&nbsp;&nbsp;&nbsp;&nbsp;&nbsp;},<br>&nbsp;&nbsp;&nbsp;&nbsp;&nbsp;&nbsp;&nbsp;&nbsp;{<br>&nbsp;&nbsp;&nbsp;&nbsp;&nbsp;&nbsp;&nbsp;&nbsp;&nbsp;&nbsp;&nbsp;&nbsp;\"label\": \"job_starttime\",<br>&nbsp;&nbsp;&nbsp;&nbsp;&nbsp;&nbsp;&nbsp;&nbsp;&nbsp;&nbsp;&nbsp;&nbsp;\"value\": \"2024-10-24&nbsp;&nbsp;11:31:24\"<br>&nbsp;&nbsp;&nbsp;&nbsp;&nbsp;&nbsp;&nbsp;&nbsp;},<br>&nbsp;&nbsp;&nbsp;&nbsp;&nbsp;&nbsp;&nbsp;&nbsp;{<br>&nbsp;&nbsp;&nbsp;&nbsp;&nbsp;&nbsp;&nbsp;&nbsp;&nbsp;&nbsp;&nbsp;&nbsp;\"label\": \"job_stoptime\",<br>&nbsp;&nbsp;&nbsp;&nbsp;&nbsp;&nbsp;&nbsp;&nbsp;&nbsp;&nbsp;&nbsp;&nbsp;\"value\": \"2024-10-24&nbsp;&nbsp;11:31:24\"<br>&nbsp;&nbsp;&nbsp;&nbsp;&nbsp;&nbsp;&nbsp;&nbsp;},<br>&nbsp;&nbsp;&nbsp;&nbsp;&nbsp;&nbsp;&nbsp;&nbsp;{<br>&nbsp;&nbsp;&nbsp;&nbsp;&nbsp;&nbsp;&nbsp;&nbsp;&nbsp;&nbsp;&nbsp;&nbsp;\"label\": \"sim_coretime_hours\",<br>&nbsp;&nbsp;&nbsp;&nbsp;&nbsp;&nbsp;&nbsp;&nbsp;&nbsp;&nbsp;&nbsp;&nbsp;\"value\": 0.0<br>&nbsp;&nbsp;&nbsp;&nbsp;&nbsp;&nbsp;&nbsp;&nbsp;},<br>&nbsp;&nbsp;&nbsp;&nbsp;&nbsp;&nbsp;&nbsp;&nbsp;{<br>&nbsp;&nbsp;&nbsp;&nbsp;&nbsp;&nbsp;&nbsp;&nbsp;&nbsp;&nbsp;&nbsp;&nbsp;\"label\": \"number_cores\",<br>&nbsp;&nbsp;&nbsp;&nbsp;&nbsp;&nbsp;&nbsp;&nbsp;&nbsp;&nbsp;&nbsp;&nbsp;\"value\": 1<br>&nbsp;&nbsp;&nbsp;&nbsp;&nbsp;&nbsp;&nbsp;&nbsp;}<br>&nbsp;&nbsp;&nbsp;&nbsp;],<br>&nbsp;&nbsp;&nbsp;&nbsp;\"path\": \"C:/Users/pkruziko/Documents/pyiron/pyiron_wf_openbis/test_complete/test_lammps_gui_hdf5\"<br>}\n",
       "$xmlcomments"
      ]
     },
     "metadata": {},
     "output_type": "display_data"
    },
    {
     "data": {
      "text/plain": [
       "'Done'"
      ]
     },
     "execution_count": 10,
     "metadata": {},
     "output_type": "execute_result"
    }
   ],
   "source": [
    "wf.LammpsJobOpenBIS.pull()"
   ]
  },
  {
   "cell_type": "code",
   "execution_count": null,
   "id": "8f4a6583-f55a-41b5-a815-626d2fa63021",
   "metadata": {
    "scrolled": true
   },
   "outputs": [],
   "source": [
    "pf = PyironFlow([wf])\n",
    "pf.gui"
   ]
  },
  {
   "cell_type": "code",
   "execution_count": 11,
   "id": "31c693fe-1981-42d6-9293-e6b7a1770a66",
   "metadata": {},
   "outputs": [],
   "source": [
    "o.logout()"
   ]
  },
  {
   "cell_type": "code",
   "execution_count": null,
   "id": "404a79e9-4f01-4eb6-a74e-60b18ca84a5d",
   "metadata": {},
   "outputs": [],
   "source": []
  }
 ],
 "metadata": {
  "kernelspec": {
   "display_name": "Python 3 (ipykernel)",
   "language": "python",
   "name": "python3"
  },
  "language_info": {
   "codemirror_mode": {
    "name": "ipython",
    "version": 3
   },
   "file_extension": ".py",
   "mimetype": "text/x-python",
   "name": "python",
   "nbconvert_exporter": "python",
   "pygments_lexer": "ipython3",
   "version": "3.11.10"
  }
 },
 "nbformat": 4,
 "nbformat_minor": 5
}
