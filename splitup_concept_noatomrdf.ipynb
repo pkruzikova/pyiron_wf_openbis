{
 "cells": [
  {
   "cell_type": "code",
   "execution_count": 1,
   "id": "1cf9e85d-dc9e-4ea7-bffe-e5a629ee813b",
   "metadata": {},
   "outputs": [],
   "source": [
    "from pyiron_workflow import Workflow\n",
    "from pyironflow.pyironflow import PyironFlow\n",
    "from typing import Optional"
   ]
  },
  {
   "cell_type": "code",
   "execution_count": 2,
   "id": "e0e631b0-bd86-4fa0-82f5-168481ef22b3",
   "metadata": {},
   "outputs": [],
   "source": [
    "from ob.openbis import openbis_login"
   ]
  },
  {
   "cell_type": "code",
   "execution_count": 3,
   "id": "7b176b5f-8171-4af9-9aca-dd8d4fc724b6",
   "metadata": {},
   "outputs": [
    {
     "name": "stdin",
     "output_type": "stream",
     "text": [
      "Enter openBIS password:  ········\n"
     ]
    }
   ],
   "source": [
    "o = openbis_login(\"https://test3.datastore.bam.de/\", \"pkruziko\")"
   ]
  },
  {
   "cell_type": "code",
   "execution_count": 3,
   "id": "8e556435-bc5e-493f-b305-1a93ae024d11",
   "metadata": {},
   "outputs": [],
   "source": [
    "@Workflow.wrap.as_function_node\n",
    "def CreateProject(pr_name:str):\n",
    "    from pyiron_atomistics import Project\n",
    "    pr = Project(pr_name)\n",
    "    return pr"
   ]
  },
  {
   "cell_type": "code",
   "execution_count": 4,
   "id": "663d6a84-7732-43ea-9429-ea4f2ab02092",
   "metadata": {},
   "outputs": [],
   "source": [
    "@Workflow.wrap.as_function_node\n",
    "def CreateStructure(pr, structure_name_prefix: str, element:str, bravais_lattice: Optional[str], a: Optional[float|int], c: Optional[float|int] = None, cubic:bool = False):\n",
    "    pr = pr\n",
    "    if bravais_lattice != 'hcp' and c == None:\n",
    "        structure = pr.create.structure.bulk(element, crystalstructure=bravais_lattice, cubic=cubic, a=a)\n",
    "    elif bravais_lattice == 'hcp' and c == None:\n",
    "        structure = pr.create.structure.bulk(element, crystalstructure=bravais_lattice, cubic=cubic, a=a)\n",
    "    else:\n",
    "        structure = pr.create.structure.bulk(element, crystalstructure=bravais_lattice, cubic=cubic, a=a, c=c)\n",
    "\n",
    "    from pyiron_base.storage.hdfio import FileHDFio\n",
    "    hdf = FileHDFio(pr.name + '/' + structure_name_prefix + '_input_structure.h5')\n",
    "    structure.to_hdf(hdf)\n",
    "    \n",
    "    return structure"
   ]
  },
  {
   "cell_type": "code",
   "execution_count": 5,
   "id": "3f604f02-c1a3-4dda-ac4f-5e2dccf60855",
   "metadata": {},
   "outputs": [],
   "source": [
    "@Workflow.wrap.as_function_node(\"View\")\n",
    "def VisualizeStructure(structure):\n",
    "    return structure.plot3d"
   ]
  },
  {
   "cell_type": "code",
   "execution_count": 6,
   "id": "190f10bf-4cf9-4ba4-8378-767e229d39b7",
   "metadata": {},
   "outputs": [],
   "source": [
    "@Workflow.wrap.as_function_node\n",
    "def LammpsCalcMinimize(pr, structure, job_name:str, pot_list_index: int, f_tol: float, min_style: str, del_ex_job: bool = False, is_child_job: bool = False):\n",
    "    job = pr.create.job.Lammps(job_name, delete_existing_job=del_ex_job)\n",
    "    job.structure = structure.copy()\n",
    "    job.potential = job.list_potentials()[pot_list_index]\n",
    "    job.calc_minimize(f_tol=f_tol, style=min_style)\n",
    "    job.run()\n",
    "\n",
    "    if not is_child_job:\n",
    "        import os\n",
    "        import platform\n",
    "        if \"Windows\" in platform.system():\n",
    "            os.system('conda env export | findstr /V \"^prefix: \" > ' + job.path + '_environment.yml')\n",
    "        else:\n",
    "            os.system('conda env export | grep -v \"^prefix: \" > ' + job.path + '_environment.yml')\n",
    "        \n",
    "        from pyiron_base.storage.hdfio import FileHDFio\n",
    "        hdf = FileHDFio(job.path + '_input_structure.h5')\n",
    "        job.structure.to_hdf(hdf)\n",
    "        \n",
    "    return job"
   ]
  },
  {
   "cell_type": "code",
   "execution_count": 7,
   "id": "849c459f-63a9-4cda-8d7c-332f03eeafb3",
   "metadata": {},
   "outputs": [],
   "source": [
    "@Workflow.wrap.as_function_node(\"object\")\n",
    "def LammpsJobOpenBIS(o, space:str, project:str, collection:str, job, separate_input_sample: bool = True):\n",
    "    from ob.concept_dict import process_lammps_job, process_structure_crystal\n",
    "    from ob.openbis import GenericLammpsJobObject, GenericCrystalObject\n",
    "    cdict = process_lammps_job(job)\n",
    "    struct_cdict = process_structure_crystal(job)\n",
    "\n",
    "    from IPython.display import display\n",
    "    if separate_input_sample == True:\n",
    "        s = GenericCrystalObject(o, space, project, collection, \"input\", struct_cdict)\n",
    "        j = GenericLammpsJobObject(o, space, project, collection, cdict, struct_cdict)\n",
    "        display(s)\n",
    "        display(j)\n",
    "    else:\n",
    "        j = GenericLammpsJobObject(o, space, project, collection, cdict)\n",
    "        display(j)\n",
    "\n",
    "    # openbis logout where ??\n",
    "            \n",
    "    return \"Done\""
   ]
  },
  {
   "cell_type": "code",
   "execution_count": 11,
   "id": "4db130ef-2241-4784-87f8-c80ca8c0c857",
   "metadata": {},
   "outputs": [],
   "source": [
    "wf = Workflow(\"test_wf\")\n",
    "\n",
    "wf.Project = CreateProject(\"test_complete\")\n",
    "wf.Structure = CreateStructure(pr=wf.Project, structure_name_prefix=\"\", element=\"Fe\", bravais_lattice=\"bcc\", a=2.845, cubic=True)\n",
    "wf.VisualizeStructure = VisualizeStructure(wf.Structure)\n",
    "#wf.SampleKG = SampleKG(wf.Project_KG_Element)\n",
    "wf.LammpsCalcMinimize = LammpsCalcMinimize(wf.Project, wf.Structure, \"test_lammps_gui\", 68, 1e-8, \"fire\", True, True)\n",
    "#wf.JobKG = JobKG(wf.Project_KG_Element, wf.LammpsCalcMinimize)\n",
    "#wf.LammpsJobOpenBIS = LammpsJobOpenBIS(o, \"PKRUZIKO\", \"TEST\", \"TEST_EXP_1\", wf.LammpsCalcMinimize)"
   ]
  },
  {
   "cell_type": "code",
   "execution_count": 12,
   "id": "36b2b0c7-e4d2-4459-9a75-a766788cb0cd",
   "metadata": {
    "scrolled": true
   },
   "outputs": [
    {
     "name": "stderr",
     "output_type": "stream",
     "text": [
      "/home/tlakshmi/anaconda3/envs/pyiron_unify_2/lib/python3.11/site-packages/pyiron_atomistics/lammps/interactive.py:302: UserWarning: f_tol is deprecated as of vers. 0.3.0. It is not guaranteed to be in service in vers. 0.4.0. Use ionic_force_tolerance instead.\n",
      "  warnings.warn(\n"
     ]
    },
    {
     "name": "stdout",
     "output_type": "stream",
     "text": [
      "The job test_lammps_gui was saved and received the ID: 2422\n"
     ]
    },
    {
     "data": {
      "text/plain": [
       "{'groups': ['input', 'output'], 'nodes': ['DICT_VERSION', 'HDF_VERSION', 'NAME', 'OBJECT', 'TYPE', 'VERSION', 'executable', 'job_id', 'server', 'status']}"
      ]
     },
     "execution_count": 12,
     "metadata": {},
     "output_type": "execute_result"
    }
   ],
   "source": [
    "wf.LammpsCalcMinimize.pull()"
   ]
  },
  {
   "cell_type": "code",
   "execution_count": null,
   "id": "8f4a6583-f55a-41b5-a815-626d2fa63021",
   "metadata": {
    "scrolled": true
   },
   "outputs": [],
   "source": [
    "pf = PyironFlow([wf])\n",
    "pf.gui"
   ]
  },
  {
   "cell_type": "code",
   "execution_count": 11,
   "id": "31c693fe-1981-42d6-9293-e6b7a1770a66",
   "metadata": {},
   "outputs": [],
   "source": [
    "o.logout()"
   ]
  },
  {
   "cell_type": "code",
   "execution_count": null,
   "id": "404a79e9-4f01-4eb6-a74e-60b18ca84a5d",
   "metadata": {},
   "outputs": [],
   "source": []
  }
 ],
 "metadata": {
  "kernelspec": {
   "display_name": "Python 3 (ipykernel)",
   "language": "python",
   "name": "python3"
  },
  "language_info": {
   "codemirror_mode": {
    "name": "ipython",
    "version": 3
   },
   "file_extension": ".py",
   "mimetype": "text/x-python",
   "name": "python",
   "nbconvert_exporter": "python",
   "pygments_lexer": "ipython3",
   "version": "3.11.5"
  }
 },
 "nbformat": 4,
 "nbformat_minor": 5
}
