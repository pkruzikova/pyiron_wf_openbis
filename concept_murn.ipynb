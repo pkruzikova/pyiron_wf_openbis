{
 "cells": [
  {
   "cell_type": "code",
   "execution_count": 1,
   "id": "0b30792b-0874-46cc-a443-22f5f0297f7e",
   "metadata": {},
   "outputs": [
    {
     "data": {
      "application/vnd.jupyter.widget-view+json": {
       "model_id": "2a31bf93fe304dd394b1976aa08c6fdb",
       "version_major": 2,
       "version_minor": 0
      },
      "text/plain": []
     },
     "metadata": {},
     "output_type": "display_data"
    }
   ],
   "source": [
    "from pyiron_atomistics import Project\n",
    "import numpy as np\n",
    "from typing import Optional"
   ]
  },
  {
   "cell_type": "code",
   "execution_count": 2,
   "id": "161fbf06-48b3-4fa8-a7ca-39c2c220997c",
   "metadata": {},
   "outputs": [],
   "source": [
    "from pyiron_workflow import Workflow\n",
    "from pyironflow.pyironflow import PyironFlow"
   ]
  },
  {
   "cell_type": "code",
   "execution_count": 3,
   "id": "9fcc4cd5-216c-4669-ad65-f145867c2cfa",
   "metadata": {},
   "outputs": [],
   "source": [
    "import matplotlib.pyplot as plt\n",
    "%matplotlib inline"
   ]
  },
  {
   "cell_type": "code",
   "execution_count": 4,
   "id": "3b5e1e85-8fde-4ce8-84c8-9fdaf3ead32f",
   "metadata": {},
   "outputs": [],
   "source": [
    "@Workflow.wrap.as_function_node\n",
    "def CreateProject(pr_name:str):\n",
    "    pr = Project(pr_name)\n",
    "    import os\n",
    "    os.system('conda env export | grep -v \"^prefix: \" > ' + pr.path + pr.name + '_environment.yml')\n",
    "    return pr"
   ]
  },
  {
   "cell_type": "code",
   "execution_count": 5,
   "id": "6f3836e0-f093-4554-a6bf-063ab850d7a0",
   "metadata": {},
   "outputs": [],
   "source": [
    "@Workflow.wrap.as_function_node\n",
    "def CreateStructure(pr, structure_name_prefix: str, element:str, bravais_lattice: Optional[str], a: Optional[float|int], c: Optional[float|int] = None, cubic:bool = False):\n",
    "\n",
    "    import json\n",
    "    from pyiron_base.storage.hdfio import FileHDFio\n",
    "    from ob.concept_dict import process_structure_crystal, get_unit_cell_parameters\n",
    "    \n",
    "    pr = pr\n",
    "    if bravais_lattice != 'hcp' and c == None:\n",
    "        structure = pr.create.structure.bulk(element, crystalstructure=bravais_lattice, cubic=cubic, a=a)\n",
    "    elif bravais_lattice == 'hcp' and c == None:\n",
    "        structure = pr.create.structure.bulk(element, crystalstructure=bravais_lattice, cubic=cubic, a=a)\n",
    "    else:\n",
    "        structure = pr.create.structure.bulk(element, crystalstructure=bravais_lattice, cubic=cubic, a=a, c=c)\n",
    "\n",
    "    structure_path = pr.name + '/'\n",
    "    structure_name = structure_name_prefix + '_input_structure'\n",
    "    hdf = FileHDFio(structure_path + structure_name + '.h5')\n",
    "    structure.to_hdf(hdf)\n",
    "\n",
    "    # Must be conventional unit cell or primitive cell\n",
    "    # Provide the structure before repetition or any other manipulations\n",
    "    structure_parameters = get_unit_cell_parameters(structure)\n",
    "    \n",
    "    struct_cdict = process_structure_crystal(pr, structure, structure_name, structure_path, structure_parameters)\n",
    "    \n",
    "    struct_and_cdict = {'object': structure, 'cdict': struct_cdict}\n",
    "    \n",
    "    return struct_and_cdict"
   ]
  },
  {
   "cell_type": "code",
   "execution_count": 6,
   "id": "13d96e94-cec3-4dce-a1be-63d7f2ab059d",
   "metadata": {},
   "outputs": [],
   "source": [
    "@Workflow.wrap.as_function_node(\"View\")\n",
    "def VisualizeStructure(struct_and_dict):\n",
    "    return struct_and_dict['object'].plot3d"
   ]
  },
  {
   "cell_type": "code",
   "execution_count": 7,
   "id": "ed06f947-fa6e-417c-a49f-279f914d7533",
   "metadata": {},
   "outputs": [],
   "source": [
    "@Workflow.wrap.as_function_node\n",
    "def LammpsCalcMinimize(pr, struct_and_cdict, job_name:str, pot_list_index:int, f_tol:float|int, min_style:str, del_ex_job:bool = False, is_child_job = False):\n",
    "    pr = pr\n",
    "    structure = struct_and_cdict['object']\n",
    "    job = pr.create.job.Lammps(job_name=job_name, delete_existing_job=del_ex_job)\n",
    "    job.structure = structure.copy()\n",
    "    job.potential = job.list_potentials()[68]\n",
    "    job.calc_minimize(ionic_force_tolerance=f_tol)\n",
    "\n",
    "    if is_child_job == False:\n",
    "        import os\n",
    "        os.system('conda env export | grep -v \"^prefix: \" > ' + job.path + '_environment.yml')\n",
    "    \n",
    "        from pyiron_base.storage.hdfio import FileHDFio\n",
    "        hdf = FileHDFio(job.path + '_input_structure.h5')\n",
    "        job.structure.to_hdf(hdf)\n",
    "    \n",
    "    return job"
   ]
  },
  {
   "cell_type": "code",
   "execution_count": 8,
   "id": "9c29303e-5041-43d6-a909-651910a2afd8",
   "metadata": {},
   "outputs": [],
   "source": [
    "@Workflow.wrap.as_function_node\n",
    "def MurnaghanJob(pr, job, murn_job_name:str, n_sample_points:int, equation_of_state:str, fit_order:int, volume_range:float|int, \n",
    "                 del_ex_job:bool = False):\n",
    "    pr = pr\n",
    "    murn = job.create_job(job_type=pr.job_type.Murnaghan, job_name=murn_job_name, delete_existing_job=del_ex_job)\n",
    "    murn.input['fit_type'] = equation_of_state\n",
    "    murn.input['num_points'] = n_sample_points\n",
    "    murn.input['fit_order'] = fit_order\n",
    "    murn.input['vol_range'] = volume_range\n",
    "    murn.run()\n",
    "\n",
    "    import os\n",
    "    os.system('conda env export | grep -v \"^prefix: \" > ' + murn.path + '_environment.yml')\n",
    "\n",
    "    for jobs in murn.iter_jobs():\n",
    "        from pyiron_base.storage.hdfio import FileHDFio\n",
    "        os.system('cp ' + murn.path + '_environment.yml ' + jobs.path + '_environment.yml')\n",
    "    \n",
    "    return murn"
   ]
  },
  {
   "cell_type": "code",
   "execution_count": 9,
   "id": "f498df35-7f9d-4854-b9ae-ea77912fd41c",
   "metadata": {},
   "outputs": [],
   "source": [
    "@Workflow.wrap.as_dataclass_node\n",
    "class MurnaghanParameters():\n",
    "    murn_job_name: Optional[str] = 'murn'\n",
    "    n_sample_points: Optional[int] = 7\n",
    "    equation_of_state: Optional[str] = 'birchmurnaghan'\n",
    "    fit_order: Optional[int] = 3\n",
    "    volume_range: Optional[float|int] = 0.05\n",
    "    job_name: Optional[str] = 'el_str'\n",
    "    pot_list_index: Optional[int] = 0\n",
    "    f_tol: Optional[float|int] = 1e-6\n",
    "    min_style: Optional[str] = 'cg'"
   ]
  },
  {
   "cell_type": "code",
   "execution_count": 10,
   "id": "30376092-94cf-4453-816c-6eb9dc2e6022",
   "metadata": {},
   "outputs": [],
   "source": [
    "@Workflow.wrap.as_macro_node(\"murn_job\")\n",
    "def MurnaghanLammpsMacro(self, pr, struct_and_cdict, parameters: Optional[MurnaghanParameters.dataclass] = MurnaghanParameters.dataclass(), \n",
    "                         del_ex_job:bool = False):\n",
    "    \n",
    "    self.engine = LammpsCalcMinimize(pr, struct_and_cdict, parameters.job_name, parameters.pot_list_index, parameters.f_tol, parameters.min_style, del_ex_job, True)\n",
    "    \n",
    "    self.murn_job = MurnaghanJob(pr, self.engine, parameters.murn_job_name, parameters.n_sample_points, parameters.equation_of_state, parameters.fit_order, \n",
    "                                 parameters.volume_range, del_ex_job)\n",
    "    \n",
    "    return self.murn_job    "
   ]
  },
  {
   "cell_type": "code",
   "execution_count": 11,
   "id": "408b801e-945b-4d34-9a62-cf0e8fcfd8d3",
   "metadata": {},
   "outputs": [],
   "source": [
    "@Workflow.wrap.as_function_node\n",
    "def ExtractEquilibriumStructure(murn_job):\n",
    "\n",
    "    import json\n",
    "    from pyiron_base.storage.hdfio import FileHDFio\n",
    "    from ob.concept_dict import process_structure_crystal, get_unit_cell_parameters\n",
    "\n",
    "    equil_structure = murn_job.get_structure()\n",
    "    structure_name = murn_job.name + '_equilibrium_structure'\n",
    "    structure_path = murn_job.project.name + '/'\n",
    "    hdf_equil = FileHDFio(structure_path + structure_name + '.h5')\n",
    "    equil_structure.to_hdf(hdf_equil)\n",
    "\n",
    "    # Must be conventional unit cell or primitive cell\n",
    "    # Provide the structure before repetition or any other manipulations\n",
    "    structure_parameters = get_unit_cell_parameters(equil_structure)\n",
    "    \n",
    "    struct_cdict = process_structure_crystal(murn_job.project, equil_structure, structure_name, structure_path, structure_parameters)\n",
    "    \n",
    "    equil_struct_and_cdict = {'object': equil_structure, 'cdict': struct_cdict}\n",
    "    \n",
    "    return equil_struct_and_cdict   "
   ]
  },
  {
   "cell_type": "code",
   "execution_count": 12,
   "id": "74975e09-f52a-4d32-abf3-970c85390c67",
   "metadata": {},
   "outputs": [],
   "source": [
    "@Workflow.wrap.as_function_node\n",
    "def CombinedPlots(pr, murn_job_bcc, murn_job_fcc, murn_job_hcp):\n",
    "    \n",
    "    y_bcc = murn_job_bcc.output_to_pandas()['energy'].to_numpy()/2\n",
    "    x_bcc = murn_job_bcc.output_to_pandas()['volume'].to_numpy()/2\n",
    "    y_fcc = murn_job_fcc.output_to_pandas()['energy'].to_numpy()/4\n",
    "    x_fcc = murn_job_fcc.output_to_pandas()['volume'].to_numpy()/4\n",
    "    y_hcp = murn_job_hcp.output_to_pandas()['energy'].to_numpy()/2\n",
    "    x_hcp = murn_job_hcp.output_to_pandas()['volume'].to_numpy()/2\n",
    "\n",
    "    from scipy.interpolate import make_interp_spline\n",
    "\n",
    "    idx_bcc = x_bcc\n",
    "    xnew_bcc = np.linspace(min(idx_bcc), max(idx_bcc), 300)\n",
    "    spl_bcc = make_interp_spline(idx_bcc, y_bcc, k=3)\n",
    "    smooth_bcc = spl_bcc(xnew_bcc)\n",
    "\n",
    "    idx_fcc = x_fcc\n",
    "    xnew_fcc = np.linspace(min(idx_fcc), max(idx_fcc), 300)\n",
    "    spl_fcc = make_interp_spline(idx_fcc, y_fcc, k=3)\n",
    "    smooth_fcc = spl_fcc(xnew_fcc)\n",
    "\n",
    "    idx_hcp = x_hcp\n",
    "    xnew_hcp = np.linspace(min(idx_hcp), max(idx_hcp), 300)\n",
    "    spl_hcp = make_interp_spline(idx_hcp, y_hcp, k=3)\n",
    "    smooth_hcp = spl_hcp(xnew_hcp)\n",
    "\n",
    "    plt.grid()\n",
    "    plt.scatter(x_bcc, y_bcc)\n",
    "    plt.plot(xnew_bcc, smooth_bcc, label=\"Body Centerd Cubic (BCC)\")\n",
    "    plt.scatter(x_fcc, y_fcc)\n",
    "    plt.plot(xnew_fcc, smooth_fcc, label=\"Face Centered Cubic (FCC)\")\n",
    "    plt.scatter(x_hcp, y_hcp)\n",
    "    plt.plot(xnew_hcp, smooth_hcp, label=\"Hexagonal Close Packed (HCP)\")\n",
    "    plt.legend(loc='best')\n",
    "    plt.xlabel(\"Volume per atom [$\\mathrm{\\AA}^3$]\")\n",
    "    plt.ylabel(\"Energy per atom [eV]\")\n",
    "    plt.xlim(9.5,12.5)\n",
    "    plt.ylim(-4.04,-3.92)\n",
    "    plt.title(\"Energy-Volume Curves of Iron (Fe)\\n\\nPotential: 2022--Sun-Y--Fe--LAMMPS--ipr1\")\n",
    "\n",
    "    eq_dict = {\n",
    "        'Structures': ['EquilibriumEnergy/Atom', 'EquilibriumVolume/Atom', 'BulkModulus', 'BulkModulusPrime'],\n",
    "        'BCC': [murn_job_bcc.output_to_pandas()['equilibrium_energy'].to_numpy()[0]/2,\n",
    "                   murn_job_bcc.output_to_pandas()['equilibrium_volume'].to_numpy()[0]/2,\n",
    "                   murn_job_bcc.output_to_pandas()['equilibrium_bulk_modulus'].to_numpy()[0],\n",
    "                   murn_job_bcc.output_to_pandas()['equilibrium_b_prime'].to_numpy()[0]],\n",
    "        'FCC': [murn_job_fcc.output_to_pandas()['equilibrium_energy'].to_numpy()[0]/4,\n",
    "                   murn_job_fcc.output_to_pandas()['equilibrium_volume'].to_numpy()[0]/4,\n",
    "                   murn_job_fcc.output_to_pandas()['equilibrium_bulk_modulus'].to_numpy()[0],\n",
    "                   murn_job_fcc.output_to_pandas()['equilibrium_b_prime'].to_numpy()[0]],\n",
    "        'HCP': [murn_job_hcp.output_to_pandas()['equilibrium_energy'].to_numpy()[0]/2,\n",
    "                   murn_job_hcp.output_to_pandas()['equilibrium_volume'].to_numpy()[0]/2,\n",
    "                   murn_job_hcp.output_to_pandas()['equilibrium_bulk_modulus'].to_numpy()[0],\n",
    "                   murn_job_hcp.output_to_pandas()['equilibrium_b_prime'].to_numpy()[0]],\n",
    "\n",
    "    }\n",
    "\n",
    "    import pandas as pd\n",
    "    df = pd.DataFrame.from_dict(eq_dict, orient='index')\n",
    "    df.style.set_caption(\"Summary\")\n",
    "    df.style.hide()\n",
    "    df.columns = df.iloc[0]\n",
    "    df = df[1:]\n",
    "\n",
    "    save_location = str(pr.name) + '/'\n",
    "    plt.savefig(save_location + 'combined_plot.png')\n",
    "    df.to_csv(save_location + 'summary.csv')\n",
    "\n",
    "    plt.show()\n",
    "    \n",
    "    return df"
   ]
  },
  {
   "cell_type": "code",
   "execution_count": 13,
   "id": "dd1b4017-ef03-4c60-b0d7-dc3c0b88a8b5",
   "metadata": {},
   "outputs": [],
   "source": [
    "wf_code = Workflow(\"try1\")\n",
    "\n",
    "wf_code.CreateProject = CreateProject(pr_name=\"try1_Fe\")\n",
    "\n",
    "wf_code.CreateStructure0 = CreateStructure(pr=wf_code.CreateProject, structure_name_prefix=\"try1_Fe_bcc\", element=\"Fe\", bravais_lattice=\"bcc\", a=2.845, cubic=True)\n",
    "wf_code.VisualizeStructure0 = VisualizeStructure(wf_code.CreateStructure0)\n",
    "\n",
    "wf_code.CreateStructure1 = CreateStructure(pr=wf_code.CreateProject, structure_name_prefix=\"try1_Fe_fcc\", element=\"Fe\", bravais_lattice=\"fcc\", a=3.43, cubic=True)\n",
    "wf_code.VisualizeStructure1 = VisualizeStructure(wf_code.CreateStructure1)\n",
    "\n",
    "wf_code.CreateStructure2 = CreateStructure(pr=wf_code.CreateProject, structure_name_prefix=\"try1_Fe_hcp\", element=\"Fe\", bravais_lattice=\"hcp\", a=2.435)\n",
    "wf_code.VisualizeStructure2 = VisualizeStructure(wf_code.CreateStructure2)\n",
    "\n",
    "wf_code.MurnaghanParameters0 = MurnaghanParameters(murn_job_name=\"try1_murn_Fe_bcc\", n_sample_points=7, equation_of_state=\"birchmurnaghan\", volume_range=0.05, \n",
    "                                             job_name=\"try1_Fe_bcc\", pot_list_index=68, f_tol=1e-8, min_style=\"fire\")\n",
    "\n",
    "wf_code.MurnaghanParameters1 = MurnaghanParameters(murn_job_name=\"try1_murn_Fe_fcc\", n_sample_points=7, equation_of_state=\"birchmurnaghan\", volume_range=0.05, \n",
    "                                             job_name=\"try1_Fe_fcc\", pot_list_index=68, f_tol=1e-8, min_style=\"fire\")\n",
    "\n",
    "wf_code.MurnaghanParameters2 = MurnaghanParameters(murn_job_name=\"try1_murn_Fe_hcp\", n_sample_points=7, equation_of_state=\"birchmurnaghan\", volume_range=0.05, \n",
    "                                             job_name=\"try1_Fe_hcp\", pot_list_index=68, f_tol=1e-8, min_style=\"fire\")\n",
    "\n",
    "wf_code.MurnaghanLammpsMacro0 = MurnaghanLammpsMacro(pr=wf_code.CreateProject, struct_and_cdict=wf_code.CreateStructure0, parameters=wf_code.MurnaghanParameters0, del_ex_job=True)\n",
    "wf_code.ExtractEquilibriumStructure0 = ExtractEquilibriumStructure(wf_code.MurnaghanLammpsMacro0)\n",
    "\n",
    "wf_code.MurnaghanLammpsMacro1 = MurnaghanLammpsMacro(pr=wf_code.CreateProject, struct_and_cdict=wf_code.CreateStructure1, parameters=wf_code.MurnaghanParameters1, del_ex_job=True)\n",
    "wf_code.ExtractEquilibriumStructure1 = ExtractEquilibriumStructure(wf_code.MurnaghanLammpsMacro1)\n",
    "\n",
    "wf_code.MurnaghanLammpsMacro2 = MurnaghanLammpsMacro(pr=wf_code.CreateProject, struct_and_cdict=wf_code.CreateStructure2, parameters=wf_code.MurnaghanParameters2, del_ex_job=True)\n",
    "wf_code.ExtractEquilibriumStructure2 = ExtractEquilibriumStructure(wf_code.MurnaghanLammpsMacro2)\n",
    "\n",
    "wf_code.CombinedPlots = CombinedPlots(wf_code.CreateProject, wf_code.MurnaghanLammpsMacro0, wf_code.MurnaghanLammpsMacro1, wf_code.MurnaghanLammpsMacro2)"
   ]
  },
  {
   "cell_type": "code",
   "execution_count": 14,
   "id": "aed83b5a-6697-4a5d-a81f-4b33724aa9fd",
   "metadata": {},
   "outputs": [
    {
     "data": {
      "application/vnd.jupyter.widget-view+json": {
       "model_id": "035fc24ed2934958b89a2b0762da1758",
       "version_major": 2,
       "version_minor": 0
      },
      "text/plain": [
       "HBox(children=(Accordion(children=(Tree(), Output(layout=Layout(border_bottom='1px solid black', border_left='…"
      ]
     },
     "execution_count": 14,
     "metadata": {},
     "output_type": "execute_result"
    }
   ],
   "source": [
    "pf = PyironFlow([wf_code])\n",
    "pf.gui"
   ]
  },
  {
   "cell_type": "code",
   "execution_count": 15,
   "id": "369c50cd-e0b8-4302-8e43-0fe3fb3ba19c",
   "metadata": {},
   "outputs": [
    {
     "data": {
      "application/vnd.jupyter.widget-view+json": {
       "model_id": "f6ee3f87f5634ee0be47414fe8592be6",
       "version_major": 2,
       "version_minor": 0
      },
      "text/plain": [
       "Output(layout=Layout(border_bottom='1px solid black', border_left='1px solid black', border_right='1px solid b…"
      ]
     },
     "execution_count": 15,
     "metadata": {},
     "output_type": "execute_result"
    }
   ],
   "source": [
    "pf.out_widget"
   ]
  },
  {
   "cell_type": "code",
   "execution_count": 16,
   "id": "5ca91c28-59cc-4c58-a862-d52304e8bdcd",
   "metadata": {},
   "outputs": [
    {
     "name": "stdout",
     "output_type": "stream",
     "text": [
      "The job try1_murn_Fe_hcp was saved and received the ID: 2423\n",
      "The job try1_murn_Fe_hcp_0_95 was saved and received the ID: 2424\n",
      "The job try1_murn_Fe_hcp_0_9666667 was saved and received the ID: 2425\n",
      "The job try1_murn_Fe_hcp_0_9833333 was saved and received the ID: 2426\n",
      "The job try1_murn_Fe_hcp_1_0 was saved and received the ID: 2427\n",
      "The job try1_murn_Fe_hcp_1_0166667 was saved and received the ID: 2428\n",
      "The job try1_murn_Fe_hcp_1_0333333 was saved and received the ID: 2429\n",
      "The job try1_murn_Fe_hcp_1_05 was saved and received the ID: 2430\n",
      "The job try1_murn_Fe_fcc was saved and received the ID: 2431\n",
      "The job try1_murn_Fe_fcc_0_95 was saved and received the ID: 2432\n",
      "The job try1_murn_Fe_fcc_0_9666667 was saved and received the ID: 2433\n",
      "The job try1_murn_Fe_fcc_0_9833333 was saved and received the ID: 2434\n",
      "The job try1_murn_Fe_fcc_1_0 was saved and received the ID: 2435\n",
      "The job try1_murn_Fe_fcc_1_0166667 was saved and received the ID: 2436\n",
      "The job try1_murn_Fe_fcc_1_0333333 was saved and received the ID: 2437\n",
      "The job try1_murn_Fe_fcc_1_05 was saved and received the ID: 2438\n",
      "The job try1_murn_Fe_bcc was saved and received the ID: 2439\n",
      "The job try1_murn_Fe_bcc_0_95 was saved and received the ID: 2440\n",
      "The job try1_murn_Fe_bcc_0_9666667 was saved and received the ID: 2441\n",
      "The job try1_murn_Fe_bcc_0_9833333 was saved and received the ID: 2442\n",
      "The job try1_murn_Fe_bcc_1_0 was saved and received the ID: 2443\n",
      "The job try1_murn_Fe_bcc_1_0166667 was saved and received the ID: 2444\n",
      "The job try1_murn_Fe_bcc_1_0333333 was saved and received the ID: 2445\n",
      "The job try1_murn_Fe_bcc_1_05 was saved and received the ID: 2446\n"
     ]
    },
    {
     "data": {
      "image/png": "[encoded data removed]",
      "text/plain": [
       "<Figure size 640x480 with 1 Axes>"
      ]
     },
     "metadata": {},
     "output_type": "display_data"
    }
   ],
   "source": [
    "wf_gui = pf.get_workflow()\n",
    "_ = wf_gui()"
   ]
  },
  {
   "cell_type": "code",
   "execution_count": 17,
   "id": "a9d83729-01b8-4806-8f6e-69d23eba45bb",
   "metadata": {},
   "outputs": [
    {
     "data": {
      "text/plain": [
       "{'lattice_parameter_a': 2.845,\n",
       " 'lattice_angle_alpha': 90.0,\n",
       " 'lattice_angle_beta': 90.0,\n",
       " 'lattice_angle_gamma': 90.0,\n",
       " 'lattice_volume': 23.0275,\n",
       " 'space_group': 'Im-3m',\n",
       " 'bravais_lattice': 'bcc',\n",
       " 'Fe': 2,\n",
       " 'total_number_atoms': 2,\n",
       " 'simulation_cell_lengths': '[2.845, 2.845, 2.845]',\n",
       " 'simulation_cell_vectors': '[array([2.845, 0.   , 0.   ]), array([0.   , 2.845, 0.   ]), array([0.   , 0.   , 2.845])]',\n",
       " 'simulation_cell_angles': '[90.0, 90.0, 90.0]',\n",
       " 'simulation_cell_volume': 23.0275,\n",
       " 'workflow_manager': 'pyiron_atomistics=0.6.14, pyiron_workflow=0.11.0, pyironflow=0.0.3, ',\n",
       " 'structure_name': 'try1_Fe_bcc_input_structure',\n",
       " 'project_name': 'try1_Fe',\n",
       " 'path': '/home/tlakshmi/pyiron_workflow_20240611/pyiron_wf_openbis/try1_Fe/'}"
      ]
     },
     "execution_count": 17,
     "metadata": {},
     "output_type": "execute_result"
    }
   ],
   "source": [
    "from ob.openbis import openbis_login, flatten_cdict, GenericCrystalObject\n",
    "flatten_cdict(wf_gui.CreateStructure0.outputs.struct_and_cdict.value['cdict'])"
   ]
  },
  {
   "cell_type": "code",
   "execution_count": 18,
   "id": "83e61e5e-3031-44aa-8d26-7c0e0d66f7a0",
   "metadata": {},
   "outputs": [
    {
     "name": "stdin",
     "output_type": "stream",
     "text": [
      "Enter openBIS password:  ········\n"
     ]
    }
   ],
   "source": [
    "o = openbis_login(\"https://test3.datastore.bam.de/\", \"tlakshmi\")"
   ]
  },
  {
   "cell_type": "code",
   "execution_count": 19,
   "id": "5d4599b4-13dc-4db0-a480-fff0c4a9298d",
   "metadata": {},
   "outputs": [
    {
     "data": {
      "text/html": [
       "<div>\n",
       "<style scoped>\n",
       "    .dataframe tbody tr th:only-of-type {\n",
       "        vertical-align: middle;\n",
       "    }\n",
       "\n",
       "    .dataframe tbody tr th {\n",
       "        vertical-align: top;\n",
       "    }\n",
       "\n",
       "    .dataframe thead th {\n",
       "        text-align: right;\n",
       "    }\n",
       "</style>\n",
       "<table border=\"1\" class=\"dataframe\">\n",
       "  <thead>\n",
       "    <tr style=\"text-align: right;\">\n",
       "      <th></th>\n",
       "      <th>permId</th>\n",
       "      <th>identifier</th>\n",
       "      <th>registrationDate</th>\n",
       "      <th>modificationDate</th>\n",
       "      <th>type</th>\n",
       "      <th>registrator</th>\n",
       "      <th>modifier</th>\n",
       "    </tr>\n",
       "  </thead>\n",
       "  <tbody>\n",
       "    <tr>\n",
       "      <th>0</th>\n",
       "      <td>20241025165654764-463</td>\n",
       "      <td>/TLAKSHMI/TEST/MAT_SIM_STR.CRY164</td>\n",
       "      <td>2024-10-25 16:56:55</td>\n",
       "      <td>2024-10-25 16:56:56</td>\n",
       "      <td>MAT_SIM_STRUCTURE.CRYSTAL</td>\n",
       "      <td>tlakshmi</td>\n",
       "      <td>tlakshmi</td>\n",
       "    </tr>\n",
       "    <tr>\n",
       "      <th>1</th>\n",
       "      <td>20241021101512172-329</td>\n",
       "      <td>/TLAKSHMI/TEST/MAT_SIM_STR.CRY118</td>\n",
       "      <td>2024-10-21 10:15:12</td>\n",
       "      <td>2024-10-21 10:15:17</td>\n",
       "      <td>MAT_SIM_STRUCTURE.CRYSTAL</td>\n",
       "      <td>tlakshmi</td>\n",
       "      <td>tlakshmi</td>\n",
       "    </tr>\n",
       "    <tr>\n",
       "      <th>2</th>\n",
       "      <td>20241025161133137-449</td>\n",
       "      <td>/TLAKSHMI/TEST/MAT_SIM_STR.CRY159</td>\n",
       "      <td>2024-10-25 16:11:33</td>\n",
       "      <td>2024-10-25 16:11:36</td>\n",
       "      <td>MAT_SIM_STRUCTURE.CRYSTAL</td>\n",
       "      <td>tlakshmi</td>\n",
       "      <td>tlakshmi</td>\n",
       "    </tr>\n",
       "  </tbody>\n",
       "</table>\n",
       "</div>"
      ],
      "text/plain": [
       "    permId                 identifier                         registrationDate     modificationDate     type                       registrator    modifier\n",
       "--  ---------------------  ---------------------------------  -------------------  -------------------  -------------------------  -------------  ----------\n",
       " 0  20241025165654764-463  /TLAKSHMI/TEST/MAT_SIM_STR.CRY164  2024-10-25 16:56:55  2024-10-25 16:56:56  MAT_SIM_STRUCTURE.CRYSTAL  tlakshmi       tlakshmi\n",
       " 1  20241021101512172-329  /TLAKSHMI/TEST/MAT_SIM_STR.CRY118  2024-10-21 10:15:12  2024-10-21 10:15:17  MAT_SIM_STRUCTURE.CRYSTAL  tlakshmi       tlakshmi\n",
       " 2  20241025161133137-449  /TLAKSHMI/TEST/MAT_SIM_STR.CRY159  2024-10-25 16:11:33  2024-10-25 16:11:36  MAT_SIM_STRUCTURE.CRYSTAL  tlakshmi       tlakshmi"
      ]
     },
     "execution_count": 19,
     "metadata": {},
     "output_type": "execute_result"
    }
   ],
   "source": [
    "project_openbis = o.get_project(\"/TLAKSHMI/TEST\")\n",
    "project_openbis.get_objects(type = 'MAT_SIM_STRUCTURE.CRYSTAL')"
   ]
  },
  {
   "cell_type": "code",
   "execution_count": 43,
   "id": "64ac1bf5-51c0-4b56-835e-8851620bd154",
   "metadata": {},
   "outputs": [
    {
     "data": {
      "text/plain": [
       "0.05"
      ]
     },
     "execution_count": 43,
     "metadata": {},
     "output_type": "execute_result"
    }
   ],
   "source": [
    "wf_gui.MurnaghanLammpsMacro0.pull()['murn_job'].input['vol_range']"
   ]
  },
  {
   "cell_type": "code",
   "execution_count": 21,
   "id": "e38c7d3c-977e-402e-8474-5a63c8367fb5",
   "metadata": {},
   "outputs": [
    {
     "name": "stdout",
     "output_type": "stream",
     "text": [
      "=========================\n",
      "\n",
      "Structure already exists in project! Found structure in: /TLAKSHMI/TEST/MAT_SIM_STR.CRY164\n",
      "\n",
      "=========================\n",
      "\n",
      "Found structure properties:\n",
      "\n"
     ]
    },
    {
     "data": {
      "text/html": [
       "\n",
       "            <table border=\"1\" class=\"dataframe\">\n",
       "            <thead>\n",
       "                <tr style=\"text-align: right;\">\n",
       "                <th>property</th>\n",
       "                <th>value</th>\n",
       "                <th>description</th>\n",
       "                <th>type</th>\n",
       "                <th>mandatory</th>\n",
       "                </tr>\n",
       "            </thead>\n",
       "            <tbody>\n",
       "        <tr><td>$name</td><td>try1_murn_Fe_hcp_equilibrium_structure</td><td>Name</td><td>VARCHAR</td><td>True</td></tr><tr><td>description</td><td>Crystal structure generated using pyiron.<p><span style=\"color:hsl(240,75%,60%);\"><strong>Scroll down below other properties to view conceptual dictionary with ontological ids of selected properties and values.</strong></span><br>The conceptual dictionary is in JSON-LD format. Learn more about it <a href=\"https://www.w3.org/ns/json-ld/\">here</a></p></td><td>Short description and/or purpose//Kurzbeschreibung und/oder Zweck</td><td>MULTILINE_VARCHAR</td><td>False</td></tr><tr><td>workflow_manager</td><td>pyiron_atomistics=0.6.14, pyiron_workflow=0.11.0, pyironflow=0.0.3, </td><td>Workflow manager//Workflow-Manager</td><td>VARCHAR</td><td>False</td></tr><tr><td>crystal_orientation</td><td></td><td>Miller indices//Millersche Indizes</td><td>VARCHAR</td><td>False</td></tr><tr><td>lattice_param_a_in_a</td><td>2.433</td><td>Lattice parameter (a) [Å]//Gitterparameter (a) [Å]</td><td>REAL</td><td>False</td></tr><tr><td>lattice_param_b_in_a</td><td></td><td>Lattice parameter (b) [Å]//Gitterparameter (b) [Å]</td><td>REAL</td><td>False</td></tr><tr><td>lattice_param_c_in_a</td><td>3.9731</td><td>Lattice parameter (c) [Å]//Gitterparameter (c) [Å]</td><td>REAL</td><td>False</td></tr><tr><td>lattice_c_over_a</td><td></td><td>Lattice parameter (c over a)//Gitterparameter (c über a)</td><td>REAL</td><td>False</td></tr><tr><td>lattice_angalpha_in_deg</td><td>90.0</td><td>Lattice angle (alpha) [Degrees]//Gitterwinkel (alpha) [Grad]</td><td>REAL</td><td>False</td></tr><tr><td>lattice_angbeta_in_deg</td><td>90.0</td><td>Lattice angle (beta) [Degrees]//Gitterwinkel (beta) [Grad]</td><td>REAL</td><td>False</td></tr><tr><td>lattice_anggamma_in_deg</td><td>120.0</td><td>Lattice angle (gamma) [Degrees]//Gitterwinkel (gamma) [Grad]</td><td>REAL</td><td>False</td></tr><tr><td>lattice_volume_in_a3</td><td>61.1065</td><td>Lattice volume [Å^3]//Volumen des Gitters [Å^3]</td><td>REAL</td><td>False</td></tr><tr><td>space_group</td><td>SPACE_GROUP.P63_MMC</td><td>Space group//Raumgruppe</td><td>CONTROLLEDVOCABULARY</td><td>False</td></tr><tr><td>bravais_lattice</td><td>HEX_CLOSE_PACK</td><td>Bravais lattice//Bravais-Gitter</td><td>CONTROLLEDVOCABULARY</td><td>False</td></tr><tr><td>chem_species_by_n_atoms</td><td>{'Fe': 2}</td><td>Chemical species involved by number of atoms//Chemische Spezies nach Anzahl der Atome</td><td>VARCHAR</td><td>False</td></tr><tr><td>n_atoms_total</td><td>2</td><td>Total number of atoms in sample//Gesamtzahl der Atome in der Probe</td><td>INTEGER</td><td>False</td></tr><tr><td>sim_cell_lengths_in_a</td><td>[2.433, 2.433, 3.9731]</td><td>Simulation cell lengths [Å]//Längen der Simulationszelle [Å]</td><td>VARCHAR</td><td>False</td></tr><tr><td>sim_cell_vectors</td><td>[array([2.433, 0.   , 0.   ]), array([-1.2165,  2.1071,  0.    ]), array([0.    , 0.    , 3.9731])]</td><td>Simulation cell vectors//Vektoren der Simulationszelle</td><td>VARCHAR</td><td>False</td></tr><tr><td>sim_cell_angles_in_deg</td><td>[90.0, 90.0, 120.0]</td><td>Simulation cell angles [Degrees]//Winkel der Simulationszelle [Grad]</td><td>VARCHAR</td><td>False</td></tr><tr><td>sim_cell_volume_in_a3</td><td>20.3688</td><td>Simulation cell volume [Å^3]//Volumen der Simulationszelle [Å^3]</td><td>REAL</td><td>False</td></tr><tr><td>notes</td><td></td><td>Notes</td><td>MULTILINE_VARCHAR</td><td>False</td></tr><tr><td>conceptual_dictionary</td><td>{<br>&nbsp;&nbsp;&nbsp;&nbsp;\"@context\": {<br>&nbsp;&nbsp;&nbsp;&nbsp;&nbsp;&nbsp;&nbsp;&nbsp;\"path\": \"http://purls.helmholtz-metadaten.de/cmso/hasPath\",<br>&nbsp;&nbsp;&nbsp;&nbsp;&nbsp;&nbsp;&nbsp;&nbsp;\"unit_cell\": \"http://purls.helmholtz-metadaten.de/cmso/UnitCell\",<br>&nbsp;&nbsp;&nbsp;&nbsp;&nbsp;&nbsp;&nbsp;&nbsp;\"atoms\": \"http://purls.helmholtz-metadaten.de/cmso/Atom\",<br>&nbsp;&nbsp;&nbsp;&nbsp;&nbsp;&nbsp;&nbsp;&nbsp;\"molecules\": \"http://purls.helmholtz-metadaten.de/cmso/Molecule\",<br>&nbsp;&nbsp;&nbsp;&nbsp;&nbsp;&nbsp;&nbsp;&nbsp;\"bravais_lattice\": \"http://purls.helmholtz-metadaten.de/cmso/hasBravaisLattice\",<br>&nbsp;&nbsp;&nbsp;&nbsp;&nbsp;&nbsp;&nbsp;&nbsp;\"chemical_species\": \"http://purls.helmholtz-metadaten.de/cmso/ChemicalSpecies\",<br>&nbsp;&nbsp;&nbsp;&nbsp;&nbsp;&nbsp;&nbsp;&nbsp;\"simulation_cell\": \"http://www.w3.org/2000/01/rdf-schema#label\",<br>&nbsp;&nbsp;&nbsp;&nbsp;&nbsp;&nbsp;&nbsp;&nbsp;\"label\": \"http://www.w3.org/2000/01/rdf-schema#label\",<br>&nbsp;&nbsp;&nbsp;&nbsp;&nbsp;&nbsp;&nbsp;&nbsp;\"unit\": \"http://purls.helmholtz-metadaten.de/cmso/hasUnit\",<br>&nbsp;&nbsp;&nbsp;&nbsp;&nbsp;&nbsp;&nbsp;&nbsp;\"value\": \"http://purls.helmholtz-metadaten.de/asmo/hasValue\",<br>&nbsp;&nbsp;&nbsp;&nbsp;&nbsp;&nbsp;&nbsp;&nbsp;\"vector\": \"http://purls.helmholtz-metadaten.de/cmso/Vector\",<br>&nbsp;&nbsp;&nbsp;&nbsp;&nbsp;&nbsp;&nbsp;&nbsp;\"job_details\": \"id-from-pmdco-pending\"<br>&nbsp;&nbsp;&nbsp;&nbsp;},<br>&nbsp;&nbsp;&nbsp;&nbsp;\"unit_cell\": [<br>&nbsp;&nbsp;&nbsp;&nbsp;&nbsp;&nbsp;&nbsp;&nbsp;{<br>&nbsp;&nbsp;&nbsp;&nbsp;&nbsp;&nbsp;&nbsp;&nbsp;&nbsp;&nbsp;&nbsp;&nbsp;\"value\": 2.433,<br>&nbsp;&nbsp;&nbsp;&nbsp;&nbsp;&nbsp;&nbsp;&nbsp;&nbsp;&nbsp;&nbsp;&nbsp;\"unit\": \"ANGSTROM\",<br>&nbsp;&nbsp;&nbsp;&nbsp;&nbsp;&nbsp;&nbsp;&nbsp;&nbsp;&nbsp;&nbsp;&nbsp;\"label\": \"lattice_parameter_a\",<br>&nbsp;&nbsp;&nbsp;&nbsp;&nbsp;&nbsp;&nbsp;&nbsp;&nbsp;&nbsp;&nbsp;&nbsp;\"@id\": \"http://purls.helmholtz-metadaten.de/cmso/hasLatticeParameter\"<br>&nbsp;&nbsp;&nbsp;&nbsp;&nbsp;&nbsp;&nbsp;&nbsp;},<br>&nbsp;&nbsp;&nbsp;&nbsp;&nbsp;&nbsp;&nbsp;&nbsp;{<br>&nbsp;&nbsp;&nbsp;&nbsp;&nbsp;&nbsp;&nbsp;&nbsp;&nbsp;&nbsp;&nbsp;&nbsp;\"value\": 3.9731,<br>&nbsp;&nbsp;&nbsp;&nbsp;&nbsp;&nbsp;&nbsp;&nbsp;&nbsp;&nbsp;&nbsp;&nbsp;\"unit\": \"ANGSTROM\",<br>&nbsp;&nbsp;&nbsp;&nbsp;&nbsp;&nbsp;&nbsp;&nbsp;&nbsp;&nbsp;&nbsp;&nbsp;\"label\": \"lattice_parameter_c\",<br>&nbsp;&nbsp;&nbsp;&nbsp;&nbsp;&nbsp;&nbsp;&nbsp;&nbsp;&nbsp;&nbsp;&nbsp;\"@id\": \"http://purls.helmholtz-metadaten.de/cmso/hasLatticeParameter\"<br>&nbsp;&nbsp;&nbsp;&nbsp;&nbsp;&nbsp;&nbsp;&nbsp;},<br>&nbsp;&nbsp;&nbsp;&nbsp;&nbsp;&nbsp;&nbsp;&nbsp;{<br>&nbsp;&nbsp;&nbsp;&nbsp;&nbsp;&nbsp;&nbsp;&nbsp;&nbsp;&nbsp;&nbsp;&nbsp;\"value\": 90.0,<br>&nbsp;&nbsp;&nbsp;&nbsp;&nbsp;&nbsp;&nbsp;&nbsp;&nbsp;&nbsp;&nbsp;&nbsp;\"unit\": \"DEGREE\",<br>&nbsp;&nbsp;&nbsp;&nbsp;&nbsp;&nbsp;&nbsp;&nbsp;&nbsp;&nbsp;&nbsp;&nbsp;\"label\": \"lattice_angle_alpha\",<br>&nbsp;&nbsp;&nbsp;&nbsp;&nbsp;&nbsp;&nbsp;&nbsp;&nbsp;&nbsp;&nbsp;&nbsp;\"@id\": \"http://purls.helmholtz-metadaten.de/cmso/hasAngle\"<br>&nbsp;&nbsp;&nbsp;&nbsp;&nbsp;&nbsp;&nbsp;&nbsp;},<br>&nbsp;&nbsp;&nbsp;&nbsp;&nbsp;&nbsp;&nbsp;&nbsp;{<br>&nbsp;&nbsp;&nbsp;&nbsp;&nbsp;&nbsp;&nbsp;&nbsp;&nbsp;&nbsp;&nbsp;&nbsp;\"value\": 90.0,<br>&nbsp;&nbsp;&nbsp;&nbsp;&nbsp;&nbsp;&nbsp;&nbsp;&nbsp;&nbsp;&nbsp;&nbsp;\"unit\": \"DEGREE\",<br>&nbsp;&nbsp;&nbsp;&nbsp;&nbsp;&nbsp;&nbsp;&nbsp;&nbsp;&nbsp;&nbsp;&nbsp;\"label\": \"lattice_angle_beta\",<br>&nbsp;&nbsp;&nbsp;&nbsp;&nbsp;&nbsp;&nbsp;&nbsp;&nbsp;&nbsp;&nbsp;&nbsp;\"@id\": \"http://purls.helmholtz-metadaten.de/cmso/hasAngle\"<br>&nbsp;&nbsp;&nbsp;&nbsp;&nbsp;&nbsp;&nbsp;&nbsp;},<br>&nbsp;&nbsp;&nbsp;&nbsp;&nbsp;&nbsp;&nbsp;&nbsp;{<br>&nbsp;&nbsp;&nbsp;&nbsp;&nbsp;&nbsp;&nbsp;&nbsp;&nbsp;&nbsp;&nbsp;&nbsp;\"value\": 120.0,<br>&nbsp;&nbsp;&nbsp;&nbsp;&nbsp;&nbsp;&nbsp;&nbsp;&nbsp;&nbsp;&nbsp;&nbsp;\"unit\": \"DEGREE\",<br>&nbsp;&nbsp;&nbsp;&nbsp;&nbsp;&nbsp;&nbsp;&nbsp;&nbsp;&nbsp;&nbsp;&nbsp;\"label\": \"lattice_angle_gamma\",<br>&nbsp;&nbsp;&nbsp;&nbsp;&nbsp;&nbsp;&nbsp;&nbsp;&nbsp;&nbsp;&nbsp;&nbsp;\"@id\": \"http://purls.helmholtz-metadaten.de/cmso/hasAngle\"<br>&nbsp;&nbsp;&nbsp;&nbsp;&nbsp;&nbsp;&nbsp;&nbsp;},<br>&nbsp;&nbsp;&nbsp;&nbsp;&nbsp;&nbsp;&nbsp;&nbsp;{<br>&nbsp;&nbsp;&nbsp;&nbsp;&nbsp;&nbsp;&nbsp;&nbsp;&nbsp;&nbsp;&nbsp;&nbsp;\"value\": 61.1065,<br>&nbsp;&nbsp;&nbsp;&nbsp;&nbsp;&nbsp;&nbsp;&nbsp;&nbsp;&nbsp;&nbsp;&nbsp;\"unit\": \"ANGSTROM3\",<br>&nbsp;&nbsp;&nbsp;&nbsp;&nbsp;&nbsp;&nbsp;&nbsp;&nbsp;&nbsp;&nbsp;&nbsp;\"label\": \"lattice_volume\"<br>&nbsp;&nbsp;&nbsp;&nbsp;&nbsp;&nbsp;&nbsp;&nbsp;},<br>&nbsp;&nbsp;&nbsp;&nbsp;&nbsp;&nbsp;&nbsp;&nbsp;{<br>&nbsp;&nbsp;&nbsp;&nbsp;&nbsp;&nbsp;&nbsp;&nbsp;&nbsp;&nbsp;&nbsp;&nbsp;\"value\": \"P6_3/mmc\",<br>&nbsp;&nbsp;&nbsp;&nbsp;&nbsp;&nbsp;&nbsp;&nbsp;&nbsp;&nbsp;&nbsp;&nbsp;\"label\": \"space_group\",<br>&nbsp;&nbsp;&nbsp;&nbsp;&nbsp;&nbsp;&nbsp;&nbsp;&nbsp;&nbsp;&nbsp;&nbsp;\"@id\": \"http://purls.helmholtz-metadaten.de/cmso/hasSpaceGroup\"<br>&nbsp;&nbsp;&nbsp;&nbsp;&nbsp;&nbsp;&nbsp;&nbsp;},<br>&nbsp;&nbsp;&nbsp;&nbsp;&nbsp;&nbsp;&nbsp;&nbsp;{<br>&nbsp;&nbsp;&nbsp;&nbsp;&nbsp;&nbsp;&nbsp;&nbsp;&nbsp;&nbsp;&nbsp;&nbsp;\"value\": \"hcp\",<br>&nbsp;&nbsp;&nbsp;&nbsp;&nbsp;&nbsp;&nbsp;&nbsp;&nbsp;&nbsp;&nbsp;&nbsp;\"label\": \"bravais_lattice\",<br>&nbsp;&nbsp;&nbsp;&nbsp;&nbsp;&nbsp;&nbsp;&nbsp;&nbsp;&nbsp;&nbsp;&nbsp;\"@id\": \"http://purls.helmholtz-metadaten.de/cmso/hasBravaisLattice\"<br>&nbsp;&nbsp;&nbsp;&nbsp;&nbsp;&nbsp;&nbsp;&nbsp;}<br>&nbsp;&nbsp;&nbsp;&nbsp;],<br>&nbsp;&nbsp;&nbsp;&nbsp;\"atoms\": [<br>&nbsp;&nbsp;&nbsp;&nbsp;&nbsp;&nbsp;&nbsp;&nbsp;{<br>&nbsp;&nbsp;&nbsp;&nbsp;&nbsp;&nbsp;&nbsp;&nbsp;&nbsp;&nbsp;&nbsp;&nbsp;\"value\": 2,<br>&nbsp;&nbsp;&nbsp;&nbsp;&nbsp;&nbsp;&nbsp;&nbsp;&nbsp;&nbsp;&nbsp;&nbsp;\"label\": \"Fe\"<br>&nbsp;&nbsp;&nbsp;&nbsp;&nbsp;&nbsp;&nbsp;&nbsp;},<br>&nbsp;&nbsp;&nbsp;&nbsp;&nbsp;&nbsp;&nbsp;&nbsp;{<br>&nbsp;&nbsp;&nbsp;&nbsp;&nbsp;&nbsp;&nbsp;&nbsp;&nbsp;&nbsp;&nbsp;&nbsp;\"value\": 2,<br>&nbsp;&nbsp;&nbsp;&nbsp;&nbsp;&nbsp;&nbsp;&nbsp;&nbsp;&nbsp;&nbsp;&nbsp;\"label\": \"total_number_atoms\"<br>&nbsp;&nbsp;&nbsp;&nbsp;&nbsp;&nbsp;&nbsp;&nbsp;}<br>&nbsp;&nbsp;&nbsp;&nbsp;],<br>&nbsp;&nbsp;&nbsp;&nbsp;\"simulation_cell\": [<br>&nbsp;&nbsp;&nbsp;&nbsp;&nbsp;&nbsp;&nbsp;&nbsp;{<br>&nbsp;&nbsp;&nbsp;&nbsp;&nbsp;&nbsp;&nbsp;&nbsp;&nbsp;&nbsp;&nbsp;&nbsp;\"value\": \"[2.433,&nbsp;&nbsp;2.433,&nbsp;&nbsp;3.9731]\",<br>&nbsp;&nbsp;&nbsp;&nbsp;&nbsp;&nbsp;&nbsp;&nbsp;&nbsp;&nbsp;&nbsp;&nbsp;\"unit\": \"ANGSTROM\",<br>&nbsp;&nbsp;&nbsp;&nbsp;&nbsp;&nbsp;&nbsp;&nbsp;&nbsp;&nbsp;&nbsp;&nbsp;\"label\": \"simulation_cell_lengths\",<br>&nbsp;&nbsp;&nbsp;&nbsp;&nbsp;&nbsp;&nbsp;&nbsp;&nbsp;&nbsp;&nbsp;&nbsp;\"@id\": \"http://purls.helmholtz-metadaten.de/cmso/hasLength\"<br>&nbsp;&nbsp;&nbsp;&nbsp;&nbsp;&nbsp;&nbsp;&nbsp;},<br>&nbsp;&nbsp;&nbsp;&nbsp;&nbsp;&nbsp;&nbsp;&nbsp;{<br>&nbsp;&nbsp;&nbsp;&nbsp;&nbsp;&nbsp;&nbsp;&nbsp;&nbsp;&nbsp;&nbsp;&nbsp;\"value\": \"[array([2.433,&nbsp;&nbsp;0.&nbsp;&nbsp;&nbsp;&nbsp;&nbsp;&nbsp;,&nbsp;&nbsp;0.&nbsp;&nbsp;&nbsp;&nbsp;&nbsp;&nbsp;]),&nbsp;&nbsp;array([-1.2165,&nbsp;&nbsp;&nbsp;&nbsp;2.1071,&nbsp;&nbsp;&nbsp;&nbsp;0.&nbsp;&nbsp;&nbsp;&nbsp;&nbsp;&nbsp;&nbsp;&nbsp;]),&nbsp;&nbsp;array([0.&nbsp;&nbsp;&nbsp;&nbsp;&nbsp;&nbsp;&nbsp;&nbsp;,&nbsp;&nbsp;0.&nbsp;&nbsp;&nbsp;&nbsp;&nbsp;&nbsp;&nbsp;&nbsp;,&nbsp;&nbsp;3.9731])]\",<br>&nbsp;&nbsp;&nbsp;&nbsp;&nbsp;&nbsp;&nbsp;&nbsp;&nbsp;&nbsp;&nbsp;&nbsp;\"unit\": \"ANGSTROM\",<br>&nbsp;&nbsp;&nbsp;&nbsp;&nbsp;&nbsp;&nbsp;&nbsp;&nbsp;&nbsp;&nbsp;&nbsp;\"label\": \"simulation_cell_vectors\",<br>&nbsp;&nbsp;&nbsp;&nbsp;&nbsp;&nbsp;&nbsp;&nbsp;&nbsp;&nbsp;&nbsp;&nbsp;\"@id\": \"http://purls.helmholtz-metadaten.de/cmso/hasVector\"<br>&nbsp;&nbsp;&nbsp;&nbsp;&nbsp;&nbsp;&nbsp;&nbsp;},<br>&nbsp;&nbsp;&nbsp;&nbsp;&nbsp;&nbsp;&nbsp;&nbsp;{<br>&nbsp;&nbsp;&nbsp;&nbsp;&nbsp;&nbsp;&nbsp;&nbsp;&nbsp;&nbsp;&nbsp;&nbsp;\"value\": \"[90.0,&nbsp;&nbsp;90.0,&nbsp;&nbsp;120.0]\",<br>&nbsp;&nbsp;&nbsp;&nbsp;&nbsp;&nbsp;&nbsp;&nbsp;&nbsp;&nbsp;&nbsp;&nbsp;\"unit\": \"DEGREES\",<br>&nbsp;&nbsp;&nbsp;&nbsp;&nbsp;&nbsp;&nbsp;&nbsp;&nbsp;&nbsp;&nbsp;&nbsp;\"label\": \"simulation_cell_angles\",<br>&nbsp;&nbsp;&nbsp;&nbsp;&nbsp;&nbsp;&nbsp;&nbsp;&nbsp;&nbsp;&nbsp;&nbsp;\"@id\": \"http://purls.helmholtz-metadaten.de/cmso/hasAngle\"<br>&nbsp;&nbsp;&nbsp;&nbsp;&nbsp;&nbsp;&nbsp;&nbsp;},<br>&nbsp;&nbsp;&nbsp;&nbsp;&nbsp;&nbsp;&nbsp;&nbsp;{<br>&nbsp;&nbsp;&nbsp;&nbsp;&nbsp;&nbsp;&nbsp;&nbsp;&nbsp;&nbsp;&nbsp;&nbsp;\"value\": 20.3688,<br>&nbsp;&nbsp;&nbsp;&nbsp;&nbsp;&nbsp;&nbsp;&nbsp;&nbsp;&nbsp;&nbsp;&nbsp;\"unit\": \"ANGSTROM3\",<br>&nbsp;&nbsp;&nbsp;&nbsp;&nbsp;&nbsp;&nbsp;&nbsp;&nbsp;&nbsp;&nbsp;&nbsp;\"label\": \"simulation_cell_volume\",<br>&nbsp;&nbsp;&nbsp;&nbsp;&nbsp;&nbsp;&nbsp;&nbsp;&nbsp;&nbsp;&nbsp;&nbsp;\"@id\": \"http://purls.helmholtz-metadaten.de/cmso/hasVolume\"<br>&nbsp;&nbsp;&nbsp;&nbsp;&nbsp;&nbsp;&nbsp;&nbsp;}<br>&nbsp;&nbsp;&nbsp;&nbsp;],<br>&nbsp;&nbsp;&nbsp;&nbsp;\"workflow_manager\": {<br>&nbsp;&nbsp;&nbsp;&nbsp;&nbsp;&nbsp;&nbsp;&nbsp;\"@id\": \"http://demo.fiz-karlsruhe.de/matwerk/E457491\",<br>&nbsp;&nbsp;&nbsp;&nbsp;&nbsp;&nbsp;&nbsp;&nbsp;\"label\": \"pyiron_atomistics=0.6.14,&nbsp;&nbsp;pyiron_workflow=0.11.0,&nbsp;&nbsp;pyironflow=0.0.3,&nbsp;&nbsp;\"<br>&nbsp;&nbsp;&nbsp;&nbsp;},<br>&nbsp;&nbsp;&nbsp;&nbsp;\"job_details\": [<br>&nbsp;&nbsp;&nbsp;&nbsp;&nbsp;&nbsp;&nbsp;&nbsp;{<br>&nbsp;&nbsp;&nbsp;&nbsp;&nbsp;&nbsp;&nbsp;&nbsp;&nbsp;&nbsp;&nbsp;&nbsp;\"label\": \"structure_name\",<br>&nbsp;&nbsp;&nbsp;&nbsp;&nbsp;&nbsp;&nbsp;&nbsp;&nbsp;&nbsp;&nbsp;&nbsp;\"value\": \"try1_murn_Fe_hcp_equilibrium_structure\"<br>&nbsp;&nbsp;&nbsp;&nbsp;&nbsp;&nbsp;&nbsp;&nbsp;},<br>&nbsp;&nbsp;&nbsp;&nbsp;&nbsp;&nbsp;&nbsp;&nbsp;{<br>&nbsp;&nbsp;&nbsp;&nbsp;&nbsp;&nbsp;&nbsp;&nbsp;&nbsp;&nbsp;&nbsp;&nbsp;\"label\": \"project_name\",<br>&nbsp;&nbsp;&nbsp;&nbsp;&nbsp;&nbsp;&nbsp;&nbsp;&nbsp;&nbsp;&nbsp;&nbsp;\"value\": \"try1_Fe\"<br>&nbsp;&nbsp;&nbsp;&nbsp;&nbsp;&nbsp;&nbsp;&nbsp;}<br>&nbsp;&nbsp;&nbsp;&nbsp;],<br>&nbsp;&nbsp;&nbsp;&nbsp;\"path\": \"/home/tlakshmi/pyiron_workflow_20240611/pyiron_wf_openbis/try1_Fe/\"<br>}</td><td>Conceptual dictionary associated with pyiron job//Begriffswörterbuch zu pyiron job</td><td>MULTILINE_VARCHAR</td><td>False</td></tr><tr><td>$xmlcomments</td><td></td><td>Comments log</td><td>XML</td><td>False</td></tr>\n",
       "            </tbody>\n",
       "            </table>\n",
       "        "
      ],
      "text/plain": [
       "property                 value\n",
       "-----------------------  --------------------------------------------------------------------------------------------------------------------------------------------------------------------------------------------------------------------------------------------------------------------------------------------------------------------------------------------------------------------------------------------------------------------------------------------------------------------------------------------------------------------------------------------------------------------------------------------------------------------------------------------------------------------------------------------------------------------------------------------------------------------------------------------------------------------------------------------------------------------------------------------------------------------------------------------------------------------------------------------------------------------------------------------------------------------------------------------------------------------------------------------------------------------------------------------------------------------------------------------------------------------------------------------------------------------------------------------------------------------------------------------------------------------------------------------------------------------------------------------------------------------------------------------------------------------------------------------------------------------------------------------------------------------------------------------------------------------------------------------------------------------------------------------------------------------------------------------------------------------------------------------------------------------------------------------------------------------------------------------------------------------------------------------------------------------------------------------------------------------------------------------------------------------------------------------------------------------------------------------------------------------------------------------------------------------------------------------------------------------------------------------------------------------------------------------------------------------------------------------------------------------------------------------------------------------------------------------------------------------------------------------------------------------------------------------------------------------------------------------------------------------------------------------------------------------------------------------------------------------------------------------------------------------------------------------------------------------------------------------------------------------------------------------------------------------------------------------------------------------------------------------------------------------------------------------------------------------------------------------------------------------------------------------------------------------------------------------------------------------------------------------------------------------------------------------------------------------------------------------------------------------------------------------------------------------------------------------------------------------------------------------------------------------------------------------------------------------------------------------------------------------------------------------------------------------------------------------------------------------------------------------------------------------------------------------------------------------------------------------------------------------------------------------------------------------------------------------------------------------------------------------------------------------------------------------------------------------------------------------------------------------------------------------------------------------------------------------------------------------------------------------------------------------------------------------------------------------------------------------------------------------------------------------------------------------------------------------------------------------------------------------------------------------------------------------------------------------------------------------------------------------------------------------------------------------------------------------------------------------------------------------------------------------------------------------------------------------------------------------------------------------------------------------------------------------------------------------------------------------------------------------------------------------------------------------------------------------------------------------------------------------------------------------------------------------------------------------------------------------------------------------------------------------------------------------------------------------------------------------------------------------------------------------------------------------------------------------------------------------------------------------------------------------------------------------------------------------------------------------------------------------------------------------------------------------------------------------------------------------------------------------------------------------------------------------------------------------------------------------------------------------------------------------------------------------------------------------------------------------------------------------------------------------------------------------------------------------------------------------------------------------------------------------------------------------------------------------------------------------------------------------------------------------------------------------------------------------------------------------------------------------------------------------------------------------------------------------------------------------------------------------------------------------------------------------------------------------------------------------------------------------------------------------------------------------------------------------------------------------------------------------------------------------------------------------------------------------------------------------------------------------------------------------------------------------------------------------------------------------------------------------------------------------------------------------------------------------------------------------------------------------------------------------------------------------------------------------------------------------------------------------------------------------------------------------------------------------------------------------------------------------------------------------------------------------------------------------------------------------------------------------------------------------------------------------------------------------------------------------------------------------------------------------------------------------------------------------------------------------------------------------------------------------------------------------------------------------------------------------------------------------------------------------------------------------------------------------------------------------------------------------------------------------------------------------------------------------------------------------------------------------------------------------------------------------------------------------------------------------------------------------------------------------------------------------------------------------------------------------------------------------------------------------------------------------------------------------------------------------------------------------------------------------------------------------------------------------------------------------------------------------------------------------------------------------------------------------------------------------------------------------------------------------------------------------------------------------------------------------------------------------------------------------------------------------------------------------------------------------------------------------------------------------------------------------------------------------------------------------------------------------------------------------------------------------------------------------------------------------------------------------------------------------------------------------------------------------------------------------------------------------------------------------------------------------------------------------------------------------------------------------------------------------------------------------------------------------------------------------------------------------------------------------------------------------------------------------------------------------------------------------------------------------------------------------------------------------------------------------------------------------------------------------------------------------------------------------------------------------------------------------------------------------------------------------------------------------------------------------------------------------------------------------------------------------------------------------------------------------------------------------------------------------\n",
       "$name                    try1_murn_Fe_hcp_equilibrium_structure\n",
       "description              Crystal structure generated using pyiron.<p><span style=\"color:hsl(240,75%,60%);\"><strong>Scroll down below other properties to view conceptual dictionary with ontological ids of selected properties and values.</strong></span><br>The conceptual dictionary is in JSON-LD format. Learn more about it <a href=\"https://www.w3.org/ns/json-ld/\">here</a></p>\n",
       "workflow_manager         pyiron_atomistics=0.6.14, pyiron_workflow=0.11.0, pyironflow=0.0.3,\n",
       "crystal_orientation\n",
       "lattice_param_a_in_a     2.433\n",
       "lattice_param_b_in_a\n",
       "lattice_param_c_in_a     3.9731\n",
       "lattice_c_over_a\n",
       "lattice_angalpha_in_deg  90.0\n",
       "lattice_angbeta_in_deg   90.0\n",
       "lattice_anggamma_in_deg  120.0\n",
       "lattice_volume_in_a3     61.1065\n",
       "space_group              SPACE_GROUP.P63_MMC\n",
       "bravais_lattice          HEX_CLOSE_PACK\n",
       "chem_species_by_n_atoms  {'Fe': 2}\n",
       "n_atoms_total            2\n",
       "sim_cell_lengths_in_a    [2.433, 2.433, 3.9731]\n",
       "sim_cell_vectors         [array([2.433, 0.   , 0.   ]), array([-1.2165,  2.1071,  0.    ]), array([0.    , 0.    , 3.9731])]\n",
       "sim_cell_angles_in_deg   [90.0, 90.0, 120.0]\n",
       "sim_cell_volume_in_a3    20.3688\n",
       "notes\n",
       "conceptual_dictionary    {<br>&nbsp;&nbsp;&nbsp;&nbsp;\"@context\": {<br>&nbsp;&nbsp;&nbsp;&nbsp;&nbsp;&nbsp;&nbsp;&nbsp;\"path\": \"http://purls.helmholtz-metadaten.de/cmso/hasPath\",<br>&nbsp;&nbsp;&nbsp;&nbsp;&nbsp;&nbsp;&nbsp;&nbsp;\"unit_cell\": \"http://purls.helmholtz-metadaten.de/cmso/UnitCell\",<br>&nbsp;&nbsp;&nbsp;&nbsp;&nbsp;&nbsp;&nbsp;&nbsp;\"atoms\": \"http://purls.helmholtz-metadaten.de/cmso/Atom\",<br>&nbsp;&nbsp;&nbsp;&nbsp;&nbsp;&nbsp;&nbsp;&nbsp;\"molecules\": \"http://purls.helmholtz-metadaten.de/cmso/Molecule\",<br>&nbsp;&nbsp;&nbsp;&nbsp;&nbsp;&nbsp;&nbsp;&nbsp;\"bravais_lattice\": \"http://purls.helmholtz-metadaten.de/cmso/hasBravaisLattice\",<br>&nbsp;&nbsp;&nbsp;&nbsp;&nbsp;&nbsp;&nbsp;&nbsp;\"chemical_species\": \"http://purls.helmholtz-metadaten.de/cmso/ChemicalSpecies\",<br>&nbsp;&nbsp;&nbsp;&nbsp;&nbsp;&nbsp;&nbsp;&nbsp;\"simulation_cell\": \"http://www.w3.org/2000/01/rdf-schema#label\",<br>&nbsp;&nbsp;&nbsp;&nbsp;&nbsp;&nbsp;&nbsp;&nbsp;\"label\": \"http://www.w3.org/2000/01/rdf-schema#label\",<br>&nbsp;&nbsp;&nbsp;&nbsp;&nbsp;&nbsp;&nbsp;&nbsp;\"unit\": \"http://purls.helmholtz-metadaten.de/cmso/hasUnit\",<br>&nbsp;&nbsp;&nbsp;&nbsp;&nbsp;&nbsp;&nbsp;&nbsp;\"value\": \"http://purls.helmholtz-metadaten.de/asmo/hasValue\",<br>&nbsp;&nbsp;&nbsp;&nbsp;&nbsp;&nbsp;&nbsp;&nbsp;\"vector\": \"http://purls.helmholtz-metadaten.de/cmso/Vector\",<br>&nbsp;&nbsp;&nbsp;&nbsp;&nbsp;&nbsp;&nbsp;&nbsp;\"job_details\": \"id-from-pmdco-pending\"<br>&nbsp;&nbsp;&nbsp;&nbsp;},<br>&nbsp;&nbsp;&nbsp;&nbsp;\"unit_cell\": [<br>&nbsp;&nbsp;&nbsp;&nbsp;&nbsp;&nbsp;&nbsp;&nbsp;{<br>&nbsp;&nbsp;&nbsp;&nbsp;&nbsp;&nbsp;&nbsp;&nbsp;&nbsp;&nbsp;&nbsp;&nbsp;\"value\": 2.433,<br>&nbsp;&nbsp;&nbsp;&nbsp;&nbsp;&nbsp;&nbsp;&nbsp;&nbsp;&nbsp;&nbsp;&nbsp;\"unit\": \"ANGSTROM\",<br>&nbsp;&nbsp;&nbsp;&nbsp;&nbsp;&nbsp;&nbsp;&nbsp;&nbsp;&nbsp;&nbsp;&nbsp;\"label\": \"lattice_parameter_a\",<br>&nbsp;&nbsp;&nbsp;&nbsp;&nbsp;&nbsp;&nbsp;&nbsp;&nbsp;&nbsp;&nbsp;&nbsp;\"@id\": \"http://purls.helmholtz-metadaten.de/cmso/hasLatticeParameter\"<br>&nbsp;&nbsp;&nbsp;&nbsp;&nbsp;&nbsp;&nbsp;&nbsp;},<br>&nbsp;&nbsp;&nbsp;&nbsp;&nbsp;&nbsp;&nbsp;&nbsp;{<br>&nbsp;&nbsp;&nbsp;&nbsp;&nbsp;&nbsp;&nbsp;&nbsp;&nbsp;&nbsp;&nbsp;&nbsp;\"value\": 3.9731,<br>&nbsp;&nbsp;&nbsp;&nbsp;&nbsp;&nbsp;&nbsp;&nbsp;&nbsp;&nbsp;&nbsp;&nbsp;\"unit\": \"ANGSTROM\",<br>&nbsp;&nbsp;&nbsp;&nbsp;&nbsp;&nbsp;&nbsp;&nbsp;&nbsp;&nbsp;&nbsp;&nbsp;\"label\": \"lattice_parameter_c\",<br>&nbsp;&nbsp;&nbsp;&nbsp;&nbsp;&nbsp;&nbsp;&nbsp;&nbsp;&nbsp;&nbsp;&nbsp;\"@id\": \"http://purls.helmholtz-metadaten.de/cmso/hasLatticeParameter\"<br>&nbsp;&nbsp;&nbsp;&nbsp;&nbsp;&nbsp;&nbsp;&nbsp;},<br>&nbsp;&nbsp;&nbsp;&nbsp;&nbsp;&nbsp;&nbsp;&nbsp;{<br>&nbsp;&nbsp;&nbsp;&nbsp;&nbsp;&nbsp;&nbsp;&nbsp;&nbsp;&nbsp;&nbsp;&nbsp;\"value\": 90.0,<br>&nbsp;&nbsp;&nbsp;&nbsp;&nbsp;&nbsp;&nbsp;&nbsp;&nbsp;&nbsp;&nbsp;&nbsp;\"unit\": \"DEGREE\",<br>&nbsp;&nbsp;&nbsp;&nbsp;&nbsp;&nbsp;&nbsp;&nbsp;&nbsp;&nbsp;&nbsp;&nbsp;\"label\": \"lattice_angle_alpha\",<br>&nbsp;&nbsp;&nbsp;&nbsp;&nbsp;&nbsp;&nbsp;&nbsp;&nbsp;&nbsp;&nbsp;&nbsp;\"@id\": \"http://purls.helmholtz-metadaten.de/cmso/hasAngle\"<br>&nbsp;&nbsp;&nbsp;&nbsp;&nbsp;&nbsp;&nbsp;&nbsp;},<br>&nbsp;&nbsp;&nbsp;&nbsp;&nbsp;&nbsp;&nbsp;&nbsp;{<br>&nbsp;&nbsp;&nbsp;&nbsp;&nbsp;&nbsp;&nbsp;&nbsp;&nbsp;&nbsp;&nbsp;&nbsp;\"value\": 90.0,<br>&nbsp;&nbsp;&nbsp;&nbsp;&nbsp;&nbsp;&nbsp;&nbsp;&nbsp;&nbsp;&nbsp;&nbsp;\"unit\": \"DEGREE\",<br>&nbsp;&nbsp;&nbsp;&nbsp;&nbsp;&nbsp;&nbsp;&nbsp;&nbsp;&nbsp;&nbsp;&nbsp;\"label\": \"lattice_angle_beta\",<br>&nbsp;&nbsp;&nbsp;&nbsp;&nbsp;&nbsp;&nbsp;&nbsp;&nbsp;&nbsp;&nbsp;&nbsp;\"@id\": \"http://purls.helmholtz-metadaten.de/cmso/hasAngle\"<br>&nbsp;&nbsp;&nbsp;&nbsp;&nbsp;&nbsp;&nbsp;&nbsp;},<br>&nbsp;&nbsp;&nbsp;&nbsp;&nbsp;&nbsp;&nbsp;&nbsp;{<br>&nbsp;&nbsp;&nbsp;&nbsp;&nbsp;&nbsp;&nbsp;&nbsp;&nbsp;&nbsp;&nbsp;&nbsp;\"value\": 120.0,<br>&nbsp;&nbsp;&nbsp;&nbsp;&nbsp;&nbsp;&nbsp;&nbsp;&nbsp;&nbsp;&nbsp;&nbsp;\"unit\": \"DEGREE\",<br>&nbsp;&nbsp;&nbsp;&nbsp;&nbsp;&nbsp;&nbsp;&nbsp;&nbsp;&nbsp;&nbsp;&nbsp;\"label\": \"lattice_angle_gamma\",<br>&nbsp;&nbsp;&nbsp;&nbsp;&nbsp;&nbsp;&nbsp;&nbsp;&nbsp;&nbsp;&nbsp;&nbsp;\"@id\": \"http://purls.helmholtz-metadaten.de/cmso/hasAngle\"<br>&nbsp;&nbsp;&nbsp;&nbsp;&nbsp;&nbsp;&nbsp;&nbsp;},<br>&nbsp;&nbsp;&nbsp;&nbsp;&nbsp;&nbsp;&nbsp;&nbsp;{<br>&nbsp;&nbsp;&nbsp;&nbsp;&nbsp;&nbsp;&nbsp;&nbsp;&nbsp;&nbsp;&nbsp;&nbsp;\"value\": 61.1065,<br>&nbsp;&nbsp;&nbsp;&nbsp;&nbsp;&nbsp;&nbsp;&nbsp;&nbsp;&nbsp;&nbsp;&nbsp;\"unit\": \"ANGSTROM3\",<br>&nbsp;&nbsp;&nbsp;&nbsp;&nbsp;&nbsp;&nbsp;&nbsp;&nbsp;&nbsp;&nbsp;&nbsp;\"label\": \"lattice_volume\"<br>&nbsp;&nbsp;&nbsp;&nbsp;&nbsp;&nbsp;&nbsp;&nbsp;},<br>&nbsp;&nbsp;&nbsp;&nbsp;&nbsp;&nbsp;&nbsp;&nbsp;{<br>&nbsp;&nbsp;&nbsp;&nbsp;&nbsp;&nbsp;&nbsp;&nbsp;&nbsp;&nbsp;&nbsp;&nbsp;\"value\": \"P6_3/mmc\",<br>&nbsp;&nbsp;&nbsp;&nbsp;&nbsp;&nbsp;&nbsp;&nbsp;&nbsp;&nbsp;&nbsp;&nbsp;\"label\": \"space_group\",<br>&nbsp;&nbsp;&nbsp;&nbsp;&nbsp;&nbsp;&nbsp;&nbsp;&nbsp;&nbsp;&nbsp;&nbsp;\"@id\": \"http://purls.helmholtz-metadaten.de/cmso/hasSpaceGroup\"<br>&nbsp;&nbsp;&nbsp;&nbsp;&nbsp;&nbsp;&nbsp;&nbsp;},<br>&nbsp;&nbsp;&nbsp;&nbsp;&nbsp;&nbsp;&nbsp;&nbsp;{<br>&nbsp;&nbsp;&nbsp;&nbsp;&nbsp;&nbsp;&nbsp;&nbsp;&nbsp;&nbsp;&nbsp;&nbsp;\"value\": \"hcp\",<br>&nbsp;&nbsp;&nbsp;&nbsp;&nbsp;&nbsp;&nbsp;&nbsp;&nbsp;&nbsp;&nbsp;&nbsp;\"label\": \"bravais_lattice\",<br>&nbsp;&nbsp;&nbsp;&nbsp;&nbsp;&nbsp;&nbsp;&nbsp;&nbsp;&nbsp;&nbsp;&nbsp;\"@id\": \"http://purls.helmholtz-metadaten.de/cmso/hasBravaisLattice\"<br>&nbsp;&nbsp;&nbsp;&nbsp;&nbsp;&nbsp;&nbsp;&nbsp;}<br>&nbsp;&nbsp;&nbsp;&nbsp;],<br>&nbsp;&nbsp;&nbsp;&nbsp;\"atoms\": [<br>&nbsp;&nbsp;&nbsp;&nbsp;&nbsp;&nbsp;&nbsp;&nbsp;{<br>&nbsp;&nbsp;&nbsp;&nbsp;&nbsp;&nbsp;&nbsp;&nbsp;&nbsp;&nbsp;&nbsp;&nbsp;\"value\": 2,<br>&nbsp;&nbsp;&nbsp;&nbsp;&nbsp;&nbsp;&nbsp;&nbsp;&nbsp;&nbsp;&nbsp;&nbsp;\"label\": \"Fe\"<br>&nbsp;&nbsp;&nbsp;&nbsp;&nbsp;&nbsp;&nbsp;&nbsp;},<br>&nbsp;&nbsp;&nbsp;&nbsp;&nbsp;&nbsp;&nbsp;&nbsp;{<br>&nbsp;&nbsp;&nbsp;&nbsp;&nbsp;&nbsp;&nbsp;&nbsp;&nbsp;&nbsp;&nbsp;&nbsp;\"value\": 2,<br>&nbsp;&nbsp;&nbsp;&nbsp;&nbsp;&nbsp;&nbsp;&nbsp;&nbsp;&nbsp;&nbsp;&nbsp;\"label\": \"total_number_atoms\"<br>&nbsp;&nbsp;&nbsp;&nbsp;&nbsp;&nbsp;&nbsp;&nbsp;}<br>&nbsp;&nbsp;&nbsp;&nbsp;],<br>&nbsp;&nbsp;&nbsp;&nbsp;\"simulation_cell\": [<br>&nbsp;&nbsp;&nbsp;&nbsp;&nbsp;&nbsp;&nbsp;&nbsp;{<br>&nbsp;&nbsp;&nbsp;&nbsp;&nbsp;&nbsp;&nbsp;&nbsp;&nbsp;&nbsp;&nbsp;&nbsp;\"value\": \"[2.433,&nbsp;&nbsp;2.433,&nbsp;&nbsp;3.9731]\",<br>&nbsp;&nbsp;&nbsp;&nbsp;&nbsp;&nbsp;&nbsp;&nbsp;&nbsp;&nbsp;&nbsp;&nbsp;\"unit\": \"ANGSTROM\",<br>&nbsp;&nbsp;&nbsp;&nbsp;&nbsp;&nbsp;&nbsp;&nbsp;&nbsp;&nbsp;&nbsp;&nbsp;\"label\": \"simulation_cell_lengths\",<br>&nbsp;&nbsp;&nbsp;&nbsp;&nbsp;&nbsp;&nbsp;&nbsp;&nbsp;&nbsp;&nbsp;&nbsp;\"@id\": \"http://purls.helmholtz-metadaten.de/cmso/hasLength\"<br>&nbsp;&nbsp;&nbsp;&nbsp;&nbsp;&nbsp;&nbsp;&nbsp;},<br>&nbsp;&nbsp;&nbsp;&nbsp;&nbsp;&nbsp;&nbsp;&nbsp;{<br>&nbsp;&nbsp;&nbsp;&nbsp;&nbsp;&nbsp;&nbsp;&nbsp;&nbsp;&nbsp;&nbsp;&nbsp;\"value\": \"[array([2.433,&nbsp;&nbsp;0.&nbsp;&nbsp;&nbsp;&nbsp;&nbsp;&nbsp;,&nbsp;&nbsp;0.&nbsp;&nbsp;&nbsp;&nbsp;&nbsp;&nbsp;]),&nbsp;&nbsp;array([-1.2165,&nbsp;&nbsp;&nbsp;&nbsp;2.1071,&nbsp;&nbsp;&nbsp;&nbsp;0.&nbsp;&nbsp;&nbsp;&nbsp;&nbsp;&nbsp;&nbsp;&nbsp;]),&nbsp;&nbsp;array([0.&nbsp;&nbsp;&nbsp;&nbsp;&nbsp;&nbsp;&nbsp;&nbsp;,&nbsp;&nbsp;0.&nbsp;&nbsp;&nbsp;&nbsp;&nbsp;&nbsp;&nbsp;&nbsp;,&nbsp;&nbsp;3.9731])]\",<br>&nbsp;&nbsp;&nbsp;&nbsp;&nbsp;&nbsp;&nbsp;&nbsp;&nbsp;&nbsp;&nbsp;&nbsp;\"unit\": \"ANGSTROM\",<br>&nbsp;&nbsp;&nbsp;&nbsp;&nbsp;&nbsp;&nbsp;&nbsp;&nbsp;&nbsp;&nbsp;&nbsp;\"label\": \"simulation_cell_vectors\",<br>&nbsp;&nbsp;&nbsp;&nbsp;&nbsp;&nbsp;&nbsp;&nbsp;&nbsp;&nbsp;&nbsp;&nbsp;\"@id\": \"http://purls.helmholtz-metadaten.de/cmso/hasVector\"<br>&nbsp;&nbsp;&nbsp;&nbsp;&nbsp;&nbsp;&nbsp;&nbsp;},<br>&nbsp;&nbsp;&nbsp;&nbsp;&nbsp;&nbsp;&nbsp;&nbsp;{<br>&nbsp;&nbsp;&nbsp;&nbsp;&nbsp;&nbsp;&nbsp;&nbsp;&nbsp;&nbsp;&nbsp;&nbsp;\"value\": \"[90.0,&nbsp;&nbsp;90.0,&nbsp;&nbsp;120.0]\",<br>&nbsp;&nbsp;&nbsp;&nbsp;&nbsp;&nbsp;&nbsp;&nbsp;&nbsp;&nbsp;&nbsp;&nbsp;\"unit\": \"DEGREES\",<br>&nbsp;&nbsp;&nbsp;&nbsp;&nbsp;&nbsp;&nbsp;&nbsp;&nbsp;&nbsp;&nbsp;&nbsp;\"label\": \"simulation_cell_angles\",<br>&nbsp;&nbsp;&nbsp;&nbsp;&nbsp;&nbsp;&nbsp;&nbsp;&nbsp;&nbsp;&nbsp;&nbsp;\"@id\": \"http://purls.helmholtz-metadaten.de/cmso/hasAngle\"<br>&nbsp;&nbsp;&nbsp;&nbsp;&nbsp;&nbsp;&nbsp;&nbsp;},<br>&nbsp;&nbsp;&nbsp;&nbsp;&nbsp;&nbsp;&nbsp;&nbsp;{<br>&nbsp;&nbsp;&nbsp;&nbsp;&nbsp;&nbsp;&nbsp;&nbsp;&nbsp;&nbsp;&nbsp;&nbsp;\"value\": 20.3688,<br>&nbsp;&nbsp;&nbsp;&nbsp;&nbsp;&nbsp;&nbsp;&nbsp;&nbsp;&nbsp;&nbsp;&nbsp;\"unit\": \"ANGSTROM3\",<br>&nbsp;&nbsp;&nbsp;&nbsp;&nbsp;&nbsp;&nbsp;&nbsp;&nbsp;&nbsp;&nbsp;&nbsp;\"label\": \"simulation_cell_volume\",<br>&nbsp;&nbsp;&nbsp;&nbsp;&nbsp;&nbsp;&nbsp;&nbsp;&nbsp;&nbsp;&nbsp;&nbsp;\"@id\": \"http://purls.helmholtz-metadaten.de/cmso/hasVolume\"<br>&nbsp;&nbsp;&nbsp;&nbsp;&nbsp;&nbsp;&nbsp;&nbsp;}<br>&nbsp;&nbsp;&nbsp;&nbsp;],<br>&nbsp;&nbsp;&nbsp;&nbsp;\"workflow_manager\": {<br>&nbsp;&nbsp;&nbsp;&nbsp;&nbsp;&nbsp;&nbsp;&nbsp;\"@id\": \"http://demo.fiz-karlsruhe.de/matwerk/E457491\",<br>&nbsp;&nbsp;&nbsp;&nbsp;&nbsp;&nbsp;&nbsp;&nbsp;\"label\": \"pyiron_atomistics=0.6.14,&nbsp;&nbsp;pyiron_workflow=0.11.0,&nbsp;&nbsp;pyironflow=0.0.3,&nbsp;&nbsp;\"<br>&nbsp;&nbsp;&nbsp;&nbsp;},<br>&nbsp;&nbsp;&nbsp;&nbsp;\"job_details\": [<br>&nbsp;&nbsp;&nbsp;&nbsp;&nbsp;&nbsp;&nbsp;&nbsp;{<br>&nbsp;&nbsp;&nbsp;&nbsp;&nbsp;&nbsp;&nbsp;&nbsp;&nbsp;&nbsp;&nbsp;&nbsp;\"label\": \"structure_name\",<br>&nbsp;&nbsp;&nbsp;&nbsp;&nbsp;&nbsp;&nbsp;&nbsp;&nbsp;&nbsp;&nbsp;&nbsp;\"value\": \"try1_murn_Fe_hcp_equilibrium_structure\"<br>&nbsp;&nbsp;&nbsp;&nbsp;&nbsp;&nbsp;&nbsp;&nbsp;},<br>&nbsp;&nbsp;&nbsp;&nbsp;&nbsp;&nbsp;&nbsp;&nbsp;{<br>&nbsp;&nbsp;&nbsp;&nbsp;&nbsp;&nbsp;&nbsp;&nbsp;&nbsp;&nbsp;&nbsp;&nbsp;\"label\": \"project_name\",<br>&nbsp;&nbsp;&nbsp;&nbsp;&nbsp;&nbsp;&nbsp;&nbsp;&nbsp;&nbsp;&nbsp;&nbsp;\"value\": \"try1_Fe\"<br>&nbsp;&nbsp;&nbsp;&nbsp;&nbsp;&nbsp;&nbsp;&nbsp;}<br>&nbsp;&nbsp;&nbsp;&nbsp;],<br>&nbsp;&nbsp;&nbsp;&nbsp;\"path\": \"/home/tlakshmi/pyiron_workflow_20240611/pyiron_wf_openbis/try1_Fe/\"<br>}\n",
       "$xmlcomments"
      ]
     },
     "execution_count": 21,
     "metadata": {},
     "output_type": "execute_result"
    }
   ],
   "source": [
    "GenericCrystalObject(o, 'TLAKSHMI', 'TEST', 'TEST_EXP_1', wf_gui.ExtractEquilibriumStructure2.outputs.equil_struct_and_cdict.value['cdict'])"
   ]
  },
  {
   "cell_type": "code",
   "execution_count": null,
   "id": "711519d6-b1f4-4642-a431-34353e0fb72f",
   "metadata": {},
   "outputs": [],
   "source": []
  }
 ],
 "metadata": {
  "kernelspec": {
   "display_name": "Python 3 (ipykernel)",
   "language": "python",
   "name": "python3"
  },
  "language_info": {
   "codemirror_mode": {
    "name": "ipython",
    "version": 3
   },
   "file_extension": ".py",
   "mimetype": "text/x-python",
   "name": "python",
   "nbconvert_exporter": "python",
   "pygments_lexer": "ipython3",
   "version": "3.11.5"
  }
 },
 "nbformat": 4,
 "nbformat_minor": 5
}
